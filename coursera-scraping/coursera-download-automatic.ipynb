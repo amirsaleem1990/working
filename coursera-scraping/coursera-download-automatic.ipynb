{
 "cells": [
  {
   "cell_type": "code",
   "execution_count": 1,
   "metadata": {},
   "outputs": [],
   "source": [
    "from bs4 import BeautifulSoup\n",
    "import requests\n",
    "import os\n",
    "import glob"
   ]
  },
  {
   "cell_type": "code",
   "execution_count": 77,
   "metadata": {},
   "outputs": [],
   "source": [
    "def to_(file_name):\n",
    "    links = []\n",
    "    soup = BeautifulSoup(open(file_name), \"html.parser\")\n",
    "    for i in soup.find_all(\"a\", {\"class\" : \"nostyle\"}):\n",
    "        link = i['href']\n",
    "        if \"learn\" in link and link.startswith(\"https://www.coursera.org/learn/fundamentals-network-communications/lecture/\"):\n",
    "    #         os.system(f\"firefox {link}\")\n",
    "            links.append(link)\n",
    "    return links"
   ]
  },
  {
   "cell_type": "markdown",
   "metadata": {},
   "source": [
    "# now go to your cource page, save each weak page in working directory"
   ]
  },
  {
   "cell_type": "code",
   "execution_count": 83,
   "metadata": {},
   "outputs": [
    {
     "name": "stdout",
     "output_type": "stream",
     "text": [
      "********** Fundamentals of Network Communication - Socket API & Digital Transmissions | Coursera.html **********\n",
      "https://www.coursera.org/learn/fundamentals-network-communications/lecture/O8FEw/berkeley-sockets-api-i\n",
      "https://www.coursera.org/learn/fundamentals-network-communications/lecture/rMVb0/berkeley-sockets-api-ii\n",
      "https://www.coursera.org/learn/fundamentals-network-communications/lecture/aPaei/digital-transmission-fundamentals\n",
      "********** Fundamentals of Network Communication - Error Control | Coursera.html **********\n",
      "https://www.coursera.org/learn/fundamentals-network-communications/lecture/BS6X4/error-control-parity-checks\n",
      "https://www.coursera.org/learn/fundamentals-network-communications/lecture/66JEt/error-control-polynomial-codes-crc\n",
      "https://www.coursera.org/learn/fundamentals-network-communications/lecture/FXWOm/crc-capability-internet-checksum\n",
      "********** Fundamentals of Network Communication - Layered Architectures | Coursera.html **********\n",
      "https://www.coursera.org/learn/fundamentals-network-communications/lecture/njImK/layered-architecture-and-osi-model\n",
      "https://www.coursera.org/learn/fundamentals-network-communications/lecture/DRUcN/osi-unified-view-of-protocols-and-services\n",
      "https://www.coursera.org/learn/fundamentals-network-communications/lecture/RJ6pg/tcp-ip-architecture-and-routing-examples\n",
      "********** Fundamentals of Network Communication - Communication Networks and Services | Coursera.html **********\n",
      "https://www.coursera.org/learn/fundamentals-network-communications/lecture/Pugyq/welcome\n",
      "https://www.coursera.org/learn/fundamentals-network-communications/lecture/d8HQs/evolution-of-communication-networks\n",
      "https://www.coursera.org/learn/fundamentals-network-communications/lecture/sl811/computer-network-evolution\n",
      "https://www.coursera.org/learn/fundamentals-network-communications/lecture/brNQe/examples-of-protocols-and-services\n"
     ]
    }
   ],
   "source": [
    "html_files = glob.glob('*.html')\n",
    "for i in html_files: \n",
    "    print(\"*\"*10, i, \"*\"*10)\n",
    "    links_of_week = to_(i)\n",
    "    for links_of_week in to_(i):\n",
    "        print(links_of_week)"
   ]
  },
  {
   "cell_type": "code",
   "execution_count": null,
   "metadata": {},
   "outputs": [],
   "source": []
  },
  {
   "cell_type": "code",
   "execution_count": null,
   "metadata": {},
   "outputs": [],
   "source": []
  },
  {
   "cell_type": "code",
   "execution_count": null,
   "metadata": {},
   "outputs": [],
   "source": []
  },
  {
   "cell_type": "code",
   "execution_count": 85,
   "metadata": {},
   "outputs": [
    {
     "name": "stdout",
     "output_type": "stream",
     "text": [
      "https://www.coursera.org/learn/fundamentals-network-communications/home/week/1\n",
      "https://www.coursera.org/learn/fundamentals-network-communications/home/week/2\n",
      "https://www.coursera.org/learn/fundamentals-network-communications/home/week/3\n",
      "https://www.coursera.org/learn/fundamentals-network-communications/home/week/4\n",
      "https://www.coursera.org/learn/fundamentals-network-communications/home/week/5\n"
     ]
    }
   ],
   "source": [
    "local_saved_course_page = \"Fundamentals of Network Communication - Socket API & Digital Transmissions | Coursera.html\"\n",
    "soup = BeautifulSoup(open(local_saved_course_page), \"html.parser\")\n",
    "a = soup.find(\"div\", {\"class\" : \"rc-NavigationDrawer\"})\n",
    "for i in a.select(\"a\", {\"class\" : \"rc-NavigationDrawerLink headline-1-text horizontal-box rc-WeekNavigationItem\"}):\n",
    "    print(i['href'])"
   ]
  },
  {
   "cell_type": "markdown",
   "metadata": {},
   "source": [
    "# use slinium to click on button, and download\n",
    "button, class=\"bt3-dropdown-toggle bt3-btn bt3-btn-default\""
   ]
  },
  {
   "cell_type": "code",
   "execution_count": null,
   "metadata": {},
   "outputs": [],
   "source": []
  },
  {
   "cell_type": "code",
   "execution_count": null,
   "metadata": {},
   "outputs": [],
   "source": []
  },
  {
   "cell_type": "code",
   "execution_count": null,
   "metadata": {},
   "outputs": [],
   "source": []
  },
  {
   "cell_type": "code",
   "execution_count": 255,
   "metadata": {},
   "outputs": [],
   "source": []
  },
  {
   "cell_type": "code",
   "execution_count": 285,
   "metadata": {},
   "outputs": [],
   "source": [
    "import requests\n",
    "from lxml import html\n",
    "\n",
    "payload = {\n",
    "\t\"username\": \"amirsaleem1990@hotmail.com\", \n",
    "\t\"password\": \"tradersCoursera1990\", \n",
    "\t\"csrfToken\": '1563900854.4mJKaWXy02bdwkSS'\n",
    "}\n",
    "\n",
    "\n",
    "\n",
    "session_requests = requests.session()\n",
    "login_url = \"https://www.coursera.org/?authMode=login\"\n",
    "\n",
    "result = session_requests.get(login_url)\n",
    "tree = lxml.html.fromstring(result.text)\n",
    "tree = html.fromstring(result.text)\n",
    "r = result.text\n",
    "token = re.search('[^\"]+', \n",
    "          r[r.index(\"csrfToken\")+12:r.index(\"csrfToken\")+45]).group()\n",
    "\n",
    "result = session_requests.post(\n",
    "\tlogin_url, \n",
    "\tdata = payload, \n",
    "\theaders = dict(referer=login_url)\n",
    ")\n",
    "\n",
    "url = 'https://www.coursera.org/learn/fundamentals-network-communications/home/welcome'\n",
    "result = session_requests.get(\n",
    "\turl, \n",
    "\theaders = dict(referer = url)\n",
    ")\n",
    "\n",
    "\n",
    "soup = BeautifulSoup(result.text, \"lxml\")"
   ]
  },
  {
   "cell_type": "code",
   "execution_count": null,
   "metadata": {},
   "outputs": [],
   "source": []
  }
 ],
 "metadata": {
  "kernelspec": {
   "display_name": "Python 3",
   "language": "python",
   "name": "python3"
  },
  "language_info": {
   "codemirror_mode": {
    "name": "ipython",
    "version": 3
   },
   "file_extension": ".py",
   "mimetype": "text/x-python",
   "name": "python",
   "nbconvert_exporter": "python",
   "pygments_lexer": "ipython3",
   "version": "3.6.8"
  }
 },
 "nbformat": 4,
 "nbformat_minor": 2
}
