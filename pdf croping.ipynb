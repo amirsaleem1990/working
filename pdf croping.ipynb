{
 "cells": [
  {
   "cell_type": "code",
   "execution_count": null,
   "metadata": {},
   "outputs": [],
   "source": [
    "import img2pdf\n",
    "import os\n",
    "from pdf2image import convert_from_path\n",
    "from PIL import Image"
   ]
  },
  {
   "cell_type": "code",
   "execution_count": null,
   "metadata": {},
   "outputs": [],
   "source": [
    "# pdf to images\n",
    "file_name = 'ISLR (An Introduction to Statistical Learning with Applications in R)'\n",
    "print('Note: file name me space nahi hona chahye')\n",
    "def to_pages(file_name, path):\n",
    "    cmd = \"pdfinfo \" + file_name +  \".pdf | grep 'Pages' | awk '{print $2}'\"\n",
    "    pages_qty =  (os.popen(cmd).read().strip())\n",
    "    pages = convert_from_path(file_name + '.pdf', pages_qty)\n",
    "    new_path = path+'/pdf_pics_folder/'\n",
    "    try:  \n",
    "        os.mkdir(new_path)\n",
    "    except OSError:  \n",
    "        print (\"Creation of the directory failed\")\n",
    "    os.chdir(new_path)\n",
    "    for num, page in enumerate(pages):\n",
    "        page.save('{}.jpg'.format(num+1), 'JPEG')\n",
    "# f_name = input('Enter your file name: ')\n",
    "# path = input('Enter your file path')\n",
    "# to_pages(f_name, path)"
   ]
  },
  {
   "cell_type": "code",
   "execution_count": null,
   "metadata": {},
   "outputs": [],
   "source": [
    "# crop images\n",
    "os.chdir('/home/amir/Desktop/pdf_pics_folder/pdf_pics_folder')\n",
    "def crop(file_name):\n",
    "    original = Image.open(file_name)\n",
    "    cropped_example = original.crop((100, 60, 790, 1288))\n",
    "    cropped_example.save(file_name.split('.')[0]+'_cropped.jpg')\n",
    "ls = [str(i)+'.jpg' for i in range(442)]\n",
    "for i in ls:\n",
    "    crop(i)"
   ]
  },
  {
   "cell_type": "code",
   "execution_count": null,
   "metadata": {},
   "outputs": [],
   "source": [
    "# making croped pdf\n",
    "os.chdir('/home/amir/Desktop/croped')\n",
    "ls = [str(i)+'_cropped.jpg' for i in range(442)]\n",
    "with open(\"name.pdf\",\"wb\") as f:\n",
    "    f.write(img2pdf.convert(ls[:-1]))\n",
    "os.system('FoxitReader name.pdf')"
   ]
  }
 ],
 "metadata": {
  "kernelspec": {
   "display_name": "Python 3",
   "language": "python",
   "name": "python3"
  },
  "language_info": {
   "codemirror_mode": {
    "name": "ipython",
    "version": 3
   },
   "file_extension": ".py",
   "mimetype": "text/x-python",
   "name": "python",
   "nbconvert_exporter": "python",
   "pygments_lexer": "ipython3",
   "version": "3.6.4"
  }
 },
 "nbformat": 4,
 "nbformat_minor": 2
}
