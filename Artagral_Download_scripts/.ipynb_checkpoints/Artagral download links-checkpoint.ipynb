{
 "cells": [
  {
   "cell_type": "code",
   "execution_count": 173,
   "metadata": {},
   "outputs": [],
   "source": [
    "import requests\n",
    "from bs4 import BeautifulSoup"
   ]
  },
  {
   "cell_type": "code",
   "execution_count": null,
   "metadata": {},
   "outputs": [],
   "source": []
  },
  {
   "cell_type": "code",
   "execution_count": 174,
   "metadata": {},
   "outputs": [],
   "source": [
    "def get_links(url):\n",
    "    soup = BeautifulSoup(requests.get(url).text, \"lxml\")\n",
    "    Links = []\n",
    "    m = [i for i in soup.select(\"iframe\") if \"dailymotion\" in str(i)]\n",
    "    for i in m:\n",
    "        try:\n",
    "            Links.append(i['data-src'].strip(\"//\"))\n",
    "        except:\n",
    "            pass\n",
    "#     print(len(Links), \" : \", url)\n",
    "    return Links\n",
    "\n",
    "def get_ok_vedio_link(url):\n",
    "    soup = BeautifulSoup(requests.get(url).text, \"lxml\")\n",
    "    s = BeautifulSoup(requests.get(\n",
    "        soup.find(\"iframe\")[\"data-src\"]\n",
    "    ).text, \"lxml\")\n",
    "\n",
    "    link = s.find(\"iframe\")[\"src\"].strip(\"//\")\n",
    "    return link"
   ]
  },
  {
   "cell_type": "markdown",
   "metadata": {},
   "source": [
    "# Session ONE"
   ]
  },
  {
   "cell_type": "code",
   "execution_count": 58,
   "metadata": {},
   "outputs": [
    {
     "name": "stdout",
     "output_type": "stream",
     "text": [
      "10  :  https://www.giveme5.co/season-one\n",
      "10  :  https://www.giveme5.co/copy-of-season-one\n",
      "10  :  https://www.giveme5.co/21-30\n",
      "10  :  https://www.giveme5.co/31-40\n",
      "10  :  https://www.giveme5.co/41-50\n",
      "10  :  https://www.giveme5.co/51-60\n",
      "10  :  https://www.giveme5.co/61-70\n",
      "4  :  https://www.giveme5.co/71-74\n"
     ]
    }
   ],
   "source": [
    "Links = []\n",
    "for link in [\"https://www.giveme5.co/season-one\", \n",
    "             \"https://www.giveme5.co/copy-of-season-one\",\n",
    "             \"https://www.giveme5.co/21-30\", \n",
    "             \"https://www.giveme5.co/31-40\",\n",
    "             \"https://www.giveme5.co/41-50\",\n",
    "             \"https://www.giveme5.co/51-60\",\n",
    "             \"https://www.giveme5.co/61-70\",\n",
    "             \"https://www.giveme5.co/71-74\"]:\n",
    "    Links += get_links(link)\n",
    "    \n",
    "import pickle\n",
    "with open(\"Artagral_(session_1)_videos_Links_for_download_giveme5.pkl\", \"wb\") as file:\n",
    "    pickle.dump(Links, file)"
   ]
  },
  {
   "cell_type": "markdown",
   "metadata": {},
   "source": [
    "# Session TWO"
   ]
  },
  {
   "cell_type": "code",
   "execution_count": 176,
   "metadata": {},
   "outputs": [
    {
     "name": "stdout",
     "output_type": "stream",
     "text": [
      "37 36\n"
     ]
    }
   ],
   "source": [
    "Links_1_40 = []\n",
    "for link in [\n",
    "            \"https://www.giveme5.co/01-10s2\", \n",
    "            \"https://www.giveme5.co/11-20s2\", \n",
    "            \"https://www.giveme5.co/21-30s2\", \n",
    "            \"https://www.giveme5.co/copy-of-epi-21-to-epi-30\"]:\n",
    "    Links_1_40 += get_links(link)\n",
    "print(len(Links_1_40), len(set(Links_1_40)))"
   ]
  },
  {
   "cell_type": "code",
   "execution_count": 178,
   "metadata": {},
   "outputs": [
    {
     "name": "stdout",
     "output_type": "stream",
     "text": [
      "7 7\n"
     ]
    }
   ],
   "source": [
    "# 41-60\n",
    "Links_41_60 = []\n",
    "soup = BeautifulSoup(requests.get(\"https://www.giveme5.co/37-54\").text, \"lxml\")\n",
    "a = soup.find(\"div\", {\"id\" : \"comp-jes5uepsitemsContainer\"}).select(\"a\")\n",
    "for i in a:\n",
    "    try:\n",
    "        i['href']\n",
    "        Links_41_60.append(get_ok_vedio_link(i['href']))\n",
    "    except:\n",
    "        pass\n",
    "print(len(Links_41_60), len(set(Links_41_60)))"
   ]
  },
  {
   "cell_type": "code",
   "execution_count": 179,
   "metadata": {},
   "outputs": [
    {
     "name": "stdout",
     "output_type": "stream",
     "text": [
      "29 29\n"
     ]
    }
   ],
   "source": [
    "# 61-78\n",
    "Links_61_78 = []\n",
    "base_url = \"https://www.giveme5.co/epi-\"\n",
    "for r in range(61,79):\n",
    "    soup = BeautifulSoup(requests.get(base_url + str(r)).text, \"lxml\")\n",
    "    for i in soup.select(\"iframe\"):\n",
    "        try:\n",
    "            link = i['data-src'].strip(\"//\")\n",
    "            if \"dailymotion\" in link:\n",
    "                Links_61_78.append(link)\n",
    "        except:\n",
    "            pass\n",
    "print(len(Links_61_78), len(set(Links_61_78)))"
   ]
  },
  {
   "cell_type": "code",
   "execution_count": 180,
   "metadata": {},
   "outputs": [],
   "source": [
    "seesion_two_all_links = Links_1_40 + Links_41_60 + Links_61_78\n",
    "import pickle\n",
    "with open(\"Artagral_(session_2)_videos_Links_for_download_giveme5.pkl\", \"wb\") as file:\n",
    "    pickle.dump(seesion_two_all_links, file)"
   ]
  },
  {
   "cell_type": "code",
   "execution_count": null,
   "metadata": {},
   "outputs": [],
   "source": []
  },
  {
   "cell_type": "code",
   "execution_count": null,
   "metadata": {},
   "outputs": [],
   "source": []
  }
 ],
 "metadata": {
  "kernelspec": {
   "display_name": "Python 3",
   "language": "python",
   "name": "python3"
  },
  "language_info": {
   "codemirror_mode": {
    "name": "ipython",
    "version": 3
   },
   "file_extension": ".py",
   "mimetype": "text/x-python",
   "name": "python",
   "nbconvert_exporter": "python",
   "pygments_lexer": "ipython3",
   "version": "3.6.9"
  }
 },
 "nbformat": 4,
 "nbformat_minor": 4
}
