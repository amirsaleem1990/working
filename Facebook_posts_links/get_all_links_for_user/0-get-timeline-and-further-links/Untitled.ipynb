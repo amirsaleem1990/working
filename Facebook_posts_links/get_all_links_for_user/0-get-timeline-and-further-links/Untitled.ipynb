{
 "cells": [
  {
   "cell_type": "code",
   "execution_count": 1,
   "metadata": {},
   "outputs": [
    {
     "name": "stdout",
     "output_type": "stream",
     "text": [
      "Enter pages Qty for each profile: 2\n",
      "Attempting to Login    7:49:14\n",
      "Successfully Logged in 7:49:42 \n",
      "\n",
      "\n",
      "\n"
     ]
    }
   ],
   "source": [
    "import os\n",
    "import time\n",
    "import pickle\n",
    "import requests\n",
    "from bs4 import BeautifulSoup\n",
    "from selenium import webdriver\n",
    "import numpy as np\n",
    "import sys\n",
    "import datetime\n",
    "from selenium.webdriver.common.keys import Keys\n",
    "\n",
    "import sys\n",
    "sys.path.insert(0,'/home/amir/github/working/Facebook_posts_links/')\n",
    "from functions import *\n",
    "\n",
    "# os.chdir(\"/home/amir/github/working/Facebook_posts_links/get_all_links_for_user/0-get-timeline-and-further-links\")\n",
    "\n",
    "qty_of_pages = int(input(\"Enter pages Qty for each profile: \"))\n",
    "\n",
    "os.system(\"clear\")\n",
    "\n",
    "FB = [i.split(\"\\t\")[0].strip() for i in open(\"/home/amir/github/working/Facebook_posts_links/FB.txt\", \"r\").read().splitlines()]\n",
    "\n",
    "all_links = pickle.load(open(\"/home/amir/github/working/Facebook_posts_links/All_FB_links_names_corrected.pkl\", \"rb\"))\n",
    "ids_removed_from_facebook = pickle.load(\n",
    "\topen(\"/home/amir/github/working/Facebook_posts_links/ids_removed_from_facebook.pkl\", \"rb\"))\n",
    "\n",
    "usrname, pas = open(\"/home/amir/github/Amir-personal/facebook-userName-and-password_3.txt\", \"r\").read().splitlines()\n",
    "\n",
    "stored_links_qty = sum([len(all_links[i]) for i in all_links])\t\n",
    "\n",
    "fb_base_url = \"https://m.facebook.com/\"\n",
    "\n",
    "browser = LOGIN(usrname, pas, fb_base_url)\n",
    "\n",
    "ids_removed_from_facebook = list(ids_removed_from_facebook.keys())\n",
    "\n",
    "extrected_links = []\n",
    "new_links = []\n",
    "mmz = []\n",
    "errors = []\n",
    "links_to_open = []\n",
    "\n",
    "\n",
    "\n",
    "counter = 0\n",
    "succussfully_extracted = 0\n",
    "\n",
    "def get_next_page_link(LINK):\n",
    "\tglobal c\n",
    "\tglobal next_page_error\n",
    "\tglobal Errors_dict\n",
    "\tc += 1\n",
    "\ttry:\n",
    "\t\tbrowser.get(LINK)\n",
    "\t\ts = BeautifulSoup(browser.page_source, \"lxml\")\n",
    "\t\ttry:\n",
    "\t\t\tnext_page_link = fb_base_url.strip(\"/\")  + s.find(\"div\", {\"id\" : \"u_0_3\"}).find(\"a\")['href']\n",
    "\t\texcept:\n",
    "\t\t\ttry:\n",
    "\t\t\t\tnext_page_link = fb_base_url.strip(\"/\")  + s.find(\"div\", {\"id\" : \"u_0_0\"}).find(\"a\")['href']\n",
    "\t\t\texcept:\n",
    "\t\t\t\ttry:\n",
    "\t\t\t\t\tnext_page_link = fb_base_url.strip(\"/\")  + s.find(\"div\", {\"id\" : \"u_0_2\"}).find(\"a\")['href']\n",
    "\t\t\t\texcept:\n",
    "\t\t\t\t\tnext_page_link = fb_base_url.strip(\"/\")  + s.find(\"div\", {\"id\" : \"u_0_1\"}).find(\"a\")['href']\n",
    "\t\tpages_links.append(next_page_link)\n",
    "\n",
    "\t\tto_save = str(s)\n",
    "\t\tpickle.dump(to_save, open(f\"{folder_name}/{len(pages_links)}_{fb}.pkl\", \"wb\"))\n",
    "\t\tnext_page_error = 0\n",
    "\texcept:\n",
    "\t\tnext_page_error += 1\n",
    "\t\tErrors_dict[\"next page Error\"].append(LINK)\n",
    "\n",
    "Errors_dict = {\"another Error\" : [], \n",
    "\t\t\t\t\"next page Error\" : [], \n",
    "\t\t\t\t\"ID not found\" : [],\n",
    "\t\t\t\t\"timeline linke not found\" : []}\n"
   ]
  },
  {
   "cell_type": "code",
   "execution_count": 3,
   "metadata": {},
   "outputs": [
    {
     "name": "stdout",
     "output_type": "stream",
     "text": [
      "MMushtaqYusufzai\n"
     ]
    }
   ],
   "source": [
    "fb = FB[0]\n",
    "next_page_error = 0\n",
    "print(fb)\n",
    "folder_name = \"/home/amir/github/working/Facebook_posts_links/get_all_links_for_user/Extracted/\" + fb\n",
    "try:\n",
    "    os.mkdir(folder_name)\n",
    "except:\n",
    "    pass\n",
    "\n",
    "complted_url = fb_base_url + fb\n",
    "\n",
    "try:\n",
    "    browser.get(complted_url)\n",
    "except:\n",
    "    Errors_dict[\"ID not found\"].append(fb)"
   ]
  },
  {
   "cell_type": "code",
   "execution_count": 33,
   "metadata": {},
   "outputs": [],
   "source": []
  },
  {
   "cell_type": "code",
   "execution_count": null,
   "metadata": {},
   "outputs": [],
   "source": []
  },
  {
   "cell_type": "code",
   "execution_count": 35,
   "metadata": {},
   "outputs": [
    {
     "name": "stdout",
     "output_type": "stream",
     "text": [
      "*************************** Succussfully COMPLETED MMushtaqYusufzai\n"
     ]
    }
   ],
   "source": [
    "c = 0\n",
    "while c < qty_of_pages: # only first few pages\n",
    "    c += 1 \n",
    "    get_next_page_link(pages_links[-1])\n",
    "    time.sleep(2)\n",
    "    if next_page_error > 2:\n",
    "        break\n",
    "# pickle.dump(pages_links,  open(f\"{folder_name}/LINKS.pkl\", \"wb\"))\n",
    "print(f\"*************************** Succussfully COMPLETED {fb}\")"
   ]
  },
  {
   "cell_type": "code",
   "execution_count": 36,
   "metadata": {},
   "outputs": [
    {
     "data": {
      "text/plain": [
       "<function __main__.get_next_page_link(LINK)>"
      ]
     },
     "execution_count": 36,
     "metadata": {},
     "output_type": "execute_result"
    }
   ],
   "source": []
  },
  {
   "cell_type": "code",
   "execution_count": 38,
   "metadata": {},
   "outputs": [
    {
     "name": "stdout",
     "output_type": "stream",
     "text": [
      "https://m.facebook.com/MMushtaqYusufzai?v=timeline&lst=100052037981133%3A100012142007594%3A1591195897\n",
      "https://m.facebook.com/profile/timeline/stream/?cursor=AQHRwUABNsKFYo45P3PznGeNMhOE7ZZA29Xs4ZjslgDxL3rD0Jl_oDTs76GcP8OnfskP7qEQnIM0pVX3DjvqQiHv-T_onOc-Srtv0GNV2RTEelvzLu91gbQUQ-AQSKIVzXsa&start_time=-9223372036854775808&profile_id=100012142007594&replace_id=u_0_3&refid=17\n"
     ]
    }
   ],
   "source": [
    "for i in pages_links:\n",
    "    print(i)"
   ]
  },
  {
   "cell_type": "code",
   "execution_count": null,
   "metadata": {},
   "outputs": [],
   "source": []
  }
 ],
 "metadata": {
  "kernelspec": {
   "display_name": "Python 3",
   "language": "python",
   "name": "python3"
  },
  "language_info": {
   "codemirror_mode": {
    "name": "ipython",
    "version": 3
   },
   "file_extension": ".py",
   "mimetype": "text/x-python",
   "name": "python",
   "nbconvert_exporter": "python",
   "pygments_lexer": "ipython3",
   "version": "3.6.9"
  }
 },
 "nbformat": 4,
 "nbformat_minor": 4
}
