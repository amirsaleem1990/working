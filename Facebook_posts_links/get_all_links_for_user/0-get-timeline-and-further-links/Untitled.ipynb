{
 "cells": [
  {
   "cell_type": "code",
   "execution_count": 1,
   "metadata": {},
   "outputs": [
    {
     "name": "stdout",
     "output_type": "stream",
     "text": [
      "Enter pages Qty for each profile: 2\n",
      "Attempting to Login    7:49:14\n",
      "Successfully Logged in 7:49:42 \n",
      "\n",
      "\n",
      "\n"
     ]
    }
   ],
   "source": [
    "import os\n",
    "import time\n",
    "import pickle\n",
    "import requests\n",
    "from bs4 import BeautifulSoup\n",
    "from selenium import webdriver\n",
    "import numpy as np\n",
    "import sys\n",
    "import datetime\n",
    "from selenium.webdriver.common.keys import Keys\n",
    "\n",
    "import sys\n",
    "sys.path.insert(0,'/home/amir/github/working/Facebook_posts_links/')\n",
    "from functions import *\n",
    "\n",
    "# os.chdir(\"/home/amir/github/working/Facebook_posts_links/get_all_links_for_user/0-get-timeline-and-further-links\")\n",
    "\n",
    "qty_of_pages = int(input(\"Enter pages Qty for each profile: \"))\n",
    "\n",
    "os.system(\"clear\")\n",
    "\n",
    "FB = [i.split(\"\\t\")[0].strip() for i in open(\"/home/amir/github/working/Facebook_posts_links/FB.txt\", \"r\").read().splitlines()]\n",
    "\n",
    "all_links = pickle.load(open(\"/home/amir/github/working/Facebook_posts_links/All_FB_links_names_corrected.pkl\", \"rb\"))\n",
    "ids_removed_from_facebook = pickle.load(\n",
    "\topen(\"/home/amir/github/working/Facebook_posts_links/ids_removed_from_facebook.pkl\", \"rb\"))\n",
    "\n",
    "usrname, pas = open(\"/home/amir/github/Amir-personal/facebook-userName-and-password_3.txt\", \"r\").read().splitlines()\n",
    "\n",
    "stored_links_qty = sum([len(all_links[i]) for i in all_links])\t\n",
    "\n",
    "fb_base_url = \"https://m.facebook.com/\"\n",
    "\n",
    "browser = LOGIN(usrname, pas, fb_base_url)\n",
    "\n",
    "ids_removed_from_facebook = list(ids_removed_from_facebook.keys())\n",
    "\n",
    "extrected_links = []\n",
    "new_links = []\n",
    "mmz = []\n",
    "errors = []\n",
    "links_to_open = []\n",
    "\n",
    "\n",
    "\n",
    "counter = 0\n",
    "succussfully_extracted = 0\n",
    "\n",
    "def get_next_page_link(LINK):\n",
    "\tglobal c\n",
    "\tglobal next_page_error\n",
    "\tglobal Errors_dict\n",
    "\tc += 1\n",
    "\ttry:\n",
    "\t\tbrowser.get(LINK)\n",
    "\t\ts = BeautifulSoup(browser.page_source, \"lxml\")\n",
    "\t\ttry:\n",
    "\t\t\tnext_page_link = fb_base_url.strip(\"/\")  + s.find(\"div\", {\"id\" : \"u_0_3\"}).find(\"a\")['href']\n",
    "\t\texcept:\n",
    "\t\t\ttry:\n",
    "\t\t\t\tnext_page_link = fb_base_url.strip(\"/\")  + s.find(\"div\", {\"id\" : \"u_0_0\"}).find(\"a\")['href']\n",
    "\t\t\texcept:\n",
    "\t\t\t\ttry:\n",
    "\t\t\t\t\tnext_page_link = fb_base_url.strip(\"/\")  + s.find(\"div\", {\"id\" : \"u_0_2\"}).find(\"a\")['href']\n",
    "\t\t\t\texcept:\n",
    "\t\t\t\t\tnext_page_link = fb_base_url.strip(\"/\")  + s.find(\"div\", {\"id\" : \"u_0_1\"}).find(\"a\")['href']\n",
    "\t\tpages_links.append(next_page_link)\n",
    "\n",
    "\t\tto_save = str(s)\n",
    "\t\tpickle.dump(to_save, open(f\"{folder_name}/{len(pages_links)}_{fb}.pkl\", \"wb\"))\n",
    "\t\tnext_page_error = 0\n",
    "\texcept:\n",
    "\t\tnext_page_error += 1\n",
    "\t\tErrors_dict[\"next page Error\"].append(LINK)\n",
    "\n",
    "Errors_dict = {\"another Error\" : [], \n",
    "\t\t\t\t\"next page Error\" : [], \n",
    "\t\t\t\t\"ID not found\" : [],\n",
    "\t\t\t\t\"timeline linke not found\" : []}\n"
   ]
  },
  {
   "cell_type": "code",
   "execution_count": 3,
   "metadata": {},
   "outputs": [
    {
     "name": "stdout",
     "output_type": "stream",
     "text": [
      "MMushtaqYusufzai\n"
     ]
    }
   ],
   "source": [
    "fb = FB[0]\n",
    "next_page_error = 0\n",
    "print(fb)\n",
    "folder_name = \"/home/amir/github/working/Facebook_posts_links/get_all_links_for_user/Extracted/\" + fb\n",
    "try:\n",
    "    os.mkdir(folder_name)\n",
    "except:\n",
    "    pass\n",
    "\n",
    "complted_url = fb_base_url + fb\n",
    "\n",
    "try:\n",
    "    browser.get(complted_url)\n",
    "except:\n",
    "    Errors_dict[\"ID not found\"].append(fb)"
   ]
  },
  {
   "cell_type": "code",
   "execution_count": 25,
   "metadata": {},
   "outputs": [
    {
     "data": {
      "text/plain": [
       "'/MMushtaqYusufzai'"
      ]
     },
     "execution_count": 25,
     "metadata": {},
     "output_type": "execute_result"
    }
   ],
   "source": []
  },
  {
   "cell_type": "code",
   "execution_count": 26,
   "metadata": {},
   "outputs": [
    {
     "name": "stdout",
     "output_type": "stream",
     "text": [
      "/MMushtaqYusufzai?v=timeline&lst=100052037981133%3A100012142007594%3A1591195897\n",
      "/MMushtaqYusufzai/timeline/story?ut=32&wstart=-2051193600&wend=2147483647&hash=256574011423997&pagefilter=3\n",
      "/MMushtaqYusufzai/timeline/story?ut=32&wstart=-2051193600&wend=2147483647&hash=256574011423997&pagefilter=3&ustart=1\n",
      "/MMushtaqYusufzai/timeline/story?ut=32&wstart=-2051193600&wend=2147483647&hash=131202380627828&pagefilter=3\n",
      "/MMushtaqYusufzai/timeline/story?ut=32&wstart=-2051193600&wend=2147483647&hash=131210137293719&pagefilter=3\n",
      "/MMushtaqYusufzai/timeline/story?ut=32&wstart=-2051193600&wend=2147483647&hash=131210137293719&pagefilter=3&ustart=1\n",
      "/MMushtaqYusufzai/timeline/story?ut=32&wstart=-2051193600&wend=2147483647&hash=256574938090571&pagefilter=3&ustart=1\n",
      "/MMushtaqYusufzai/timeline/story?ut=32&wstart=-2051193600&wend=2147483647&hash=131202380627828&pagefilter=3&ustart=1\n",
      "/MMushtaqYusufzai/timeline/story?ut=32&wstart=-2051193600&wend=2147483647&hash=175849096163156&pagefilter=3&ustart=1\n",
      "/MMushtaqYusufzai/timeline/story?ut=32&wstart=-2051193600&wend=2147483647&hash=131205050627561&pagefilter=3\n",
      "/MMushtaqYusufzai/timeline/story?ut=32&wstart=-2051193600&wend=2147483647&hash=131205050627561&pagefilter=3&ustart=1\n"
     ]
    },
    {
     "ename": "KeyError",
     "evalue": "'href'",
     "output_type": "error",
     "traceback": [
      "\u001b[0;31m---------------------------------------------------------------------------\u001b[0m",
      "\u001b[0;31mKeyError\u001b[0m                                  Traceback (most recent call last)",
      "\u001b[0;32m<ipython-input-26-cdf1340f3190>\u001b[0m in \u001b[0;36m<module>\u001b[0;34m\u001b[0m\n\u001b[1;32m      2\u001b[0m \u001b[0;32mfor\u001b[0m \u001b[0mi\u001b[0m \u001b[0;32min\u001b[0m \u001b[0ms\u001b[0m\u001b[0;34m.\u001b[0m\u001b[0mselect\u001b[0m\u001b[0;34m(\u001b[0m\u001b[0;34m\"a\"\u001b[0m\u001b[0;34m)\u001b[0m\u001b[0;34m:\u001b[0m\u001b[0;34m\u001b[0m\u001b[0;34m\u001b[0m\u001b[0m\n\u001b[1;32m      3\u001b[0m \u001b[0;31m#     try:\u001b[0m\u001b[0;34m\u001b[0m\u001b[0;34m\u001b[0m\u001b[0;34m\u001b[0m\u001b[0m\n\u001b[0;32m----> 4\u001b[0;31m         \u001b[0mlink\u001b[0m \u001b[0;34m=\u001b[0m \u001b[0mi\u001b[0m\u001b[0;34m[\u001b[0m\u001b[0;34m'href'\u001b[0m\u001b[0;34m]\u001b[0m\u001b[0;34m\u001b[0m\u001b[0;34m\u001b[0m\u001b[0m\n\u001b[0m\u001b[1;32m      5\u001b[0m         \u001b[0;32mif\u001b[0m \u001b[0;34m(\u001b[0m\u001b[0mlink\u001b[0m\u001b[0;34m.\u001b[0m\u001b[0mstartswith\u001b[0m\u001b[0;34m(\u001b[0m\u001b[0;34m\"/\"\u001b[0m \u001b[0;34m+\u001b[0m \u001b[0mfb\u001b[0m\u001b[0;34m)\u001b[0m\u001b[0;34m)\u001b[0m \u001b[0;32mand\u001b[0m \u001b[0;34m(\u001b[0m\u001b[0;34m\"timeline\"\u001b[0m \u001b[0;32min\u001b[0m \u001b[0mlink\u001b[0m\u001b[0;34m)\u001b[0m\u001b[0;34m:\u001b[0m\u001b[0;34m\u001b[0m\u001b[0;34m\u001b[0m\u001b[0m\n\u001b[1;32m      6\u001b[0m             \u001b[0mprint\u001b[0m\u001b[0;34m(\u001b[0m\u001b[0mlink\u001b[0m\u001b[0;34m)\u001b[0m\u001b[0;34m\u001b[0m\u001b[0;34m\u001b[0m\u001b[0m\n",
      "\u001b[0;32m~/.local/lib/python3.6/site-packages/bs4/element.py\u001b[0m in \u001b[0;36m__getitem__\u001b[0;34m(self, key)\u001b[0m\n\u001b[1;32m   1366\u001b[0m         \"\"\"tag[key] returns the value of the 'key' attribute for the Tag,\n\u001b[1;32m   1367\u001b[0m         and throws an exception if it's not there.\"\"\"\n\u001b[0;32m-> 1368\u001b[0;31m         \u001b[0;32mreturn\u001b[0m \u001b[0mself\u001b[0m\u001b[0;34m.\u001b[0m\u001b[0mattrs\u001b[0m\u001b[0;34m[\u001b[0m\u001b[0mkey\u001b[0m\u001b[0;34m]\u001b[0m\u001b[0;34m\u001b[0m\u001b[0;34m\u001b[0m\u001b[0m\n\u001b[0m\u001b[1;32m   1369\u001b[0m \u001b[0;34m\u001b[0m\u001b[0m\n\u001b[1;32m   1370\u001b[0m     \u001b[0;32mdef\u001b[0m \u001b[0m__iter__\u001b[0m\u001b[0;34m(\u001b[0m\u001b[0mself\u001b[0m\u001b[0;34m)\u001b[0m\u001b[0;34m:\u001b[0m\u001b[0;34m\u001b[0m\u001b[0;34m\u001b[0m\u001b[0m\n",
      "\u001b[0;31mKeyError\u001b[0m: 'href'"
     ]
    }
   ],
   "source": [
    "s = BeautifulSoup(browser.page_source, \"lxml\")\n",
    "for i in s.select(\"a\"):\n",
    "#     try:\n",
    "        link = i['href']\n",
    "        if (link.startswith(\"/\" + fb + \"?v=timeline&ls\")) and (\"timeline\" in link):\n",
    "            print(link)\n",
    "#     except:\n",
    "#         pass"
   ]
  },
  {
   "cell_type": "code",
   "execution_count": 8,
   "metadata": {},
   "outputs": [],
   "source": [
    "s = BeautifulSoup(browser.page_source, \"lxml\")\n",
    "\n",
    "for i in s.find(\"div\", {\"class\" : \"cq f cf\"}):#.select(\"a\", {\"class\" : \"cv\"}):\n",
    "    try: \n",
    "        link_ = i.find(\"a\")['href']\n",
    "        print(link_)\n",
    "        if \"timeline&lst\" in link_:\n",
    "            time_line_link = fb_base_url.strip(\"/\") + link_\n",
    "#             print(time_line_link)\n",
    "            break\n",
    "    except: \n",
    "        pass\n",
    "\n",
    "# try:\n",
    "#     pages_links = [time_line_link]\n",
    "# except:\n",
    "#     Errors_dict[\"timeline linke not found\"].append(fb)"
   ]
  },
  {
   "cell_type": "code",
   "execution_count": null,
   "metadata": {},
   "outputs": [],
   "source": [
    "\n",
    "\n",
    "\n",
    "c = 0\n",
    "while c < qty_of_pages: # only first few pages\n",
    "    c += 1 \n",
    "    get_next_page_link(pages_links[-1])\n",
    "    time.sleep(2)\n",
    "    if next_page_error > 2:\n",
    "        break\n",
    "pickle.dump(pages_links,  open(f\"{folder_name}/LINKS.pkl\", \"wb\"))\n",
    "print(f\"*************************** Succussfully COMPLETED {fb}\")"
   ]
  }
 ],
 "metadata": {
  "kernelspec": {
   "display_name": "Python 3",
   "language": "python",
   "name": "python3"
  },
  "language_info": {
   "codemirror_mode": {
    "name": "ipython",
    "version": 3
   },
   "file_extension": ".py",
   "mimetype": "text/x-python",
   "name": "python",
   "nbconvert_exporter": "python",
   "pygments_lexer": "ipython3",
   "version": "3.6.9"
  }
 },
 "nbformat": 4,
 "nbformat_minor": 4
}
