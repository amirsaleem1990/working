{
 "cells": [
  {
   "cell_type": "code",
   "execution_count": 1,
   "metadata": {},
   "outputs": [
    {
     "name": "stdout",
     "output_type": "stream",
     "text": [
      "Attempting to Login    11:12:03\n",
      "Successfully Logged in 11:12:31\n"
     ]
    }
   ],
   "source": [
    "import os\n",
    "import time\n",
    "import pickle\n",
    "import requests\n",
    "from bs4 import BeautifulSoup\n",
    "from selenium import webdriver\n",
    "import numpy as np\n",
    "import sys\n",
    "import datetime\n",
    "from selenium.webdriver.common.keys import Keys\n",
    "\n",
    "import sys\n",
    "sys.path.insert(0,'/home/amir/github/working/Facebook_posts_links/')\n",
    "from functions import *\n",
    "\n",
    "# os.chdir(\"/home/amir/github/working/Facebook_posts_links/get_all_links_for_user/0-get-timeline-and-further-links\")\n",
    "\n",
    "os.system(\"clear\")\n",
    "\n",
    "FB = [i.split(\"\\t\")[0].strip() for i in open(\"/home/amir/github/working/Facebook_posts_links/FB.txt\", \"r\").read().splitlines()]\n",
    "\n",
    "all_links = pickle.load(open(\"/home/amir/github/working/Facebook_posts_links/All_FB_links_names_corrected.pkl\", \"rb\"))\n",
    "ids_removed_from_facebook = pickle.load(\n",
    "\topen(\"/home/amir/github/working/Facebook_posts_links/ids_removed_from_facebook.pkl\", \"rb\"))\n",
    "\n",
    "usrname, pas = open(\"/home/amir/github/Amir-personal/facebook-userName-and-password_3.txt\", \"r\").read().splitlines()\n",
    "\n",
    "stored_links_qty = sum([len(all_links[i]) for i in all_links])\t\n",
    "\n",
    "browser = LOGIN(usrname, pas)\n",
    "\n",
    "ids_removed_from_facebook = list(ids_removed_from_facebook.keys())\n",
    "\n",
    "extrected_links = []\n",
    "new_links = []\n",
    "counter = 0\n",
    "links_to_open = []\n",
    "\n",
    "\n",
    "mmz = []\n",
    "errors = []\n",
    "\n",
    "succussfully_extracted = 0\n",
    "\n",
    "def get_next_page_link(LINK):\n",
    "\tglobal c\n",
    "\tc += 1\n",
    "\ttry:\n",
    "\t\tbrowser.get(LINK)\n",
    "\t\ts = BeautifulSoup(browser.page_source, \"lxml\")\n",
    "\t\ttry:\n",
    "\t\t\tnext_page_link = fb_base_url.strip(\"/\")  + s.find(\"div\", {\"id\" : \"u_0_3\"}).find(\"a\")['href']\n",
    "\t\texcept:\n",
    "\t\t\ttry:\n",
    "\t\t\t\tnext_page_link = fb_base_url.strip(\"/\")  + s.find(\"div\", {\"id\" : \"u_0_0\"}).find(\"a\")['href']\n",
    "\t\t\texcept:\n",
    "\t\t\t\ttry:\n",
    "\t\t\t\t\tnext_page_link = fb_base_url.strip(\"/\")  + s.find(\"div\", {\"id\" : \"u_0_2\"}).find(\"a\")['href']\n",
    "\t\t\t\texcept:\n",
    "\t\t\t\t\tnext_page_link = fb_base_url.strip(\"/\")  + s.find(\"div\", {\"id\" : \"u_0_1\"}).find(\"a\")['href']\n",
    "\t\tpages_links.append(next_page_link)\n",
    "\n",
    "\t\tto_save = str(s)\n",
    "\t\tpickle.dump(to_save, open(f\"{folder_name}/{len(pages_links)}_{fb}.pkl\", \"wb\"))\n",
    "\n",
    "\texcept:\n",
    "\t\tprint(\"ERROR: \",fb, LINK)\n",
    "\t\timport sys\n",
    "\t\tsys.exit()"
   ]
  },
  {
   "cell_type": "code",
   "execution_count": 4,
   "metadata": {},
   "outputs": [
    {
     "name": "stdout",
     "output_type": "stream",
     "text": [
      "MMushtaqYusufzai\n",
      "/home/amir/github/working/Facebook_posts_links/get_all_links_for_user/Extracted/MMushtaqYusufzai exist already\n"
     ]
    },
    {
     "ename": "NameError",
     "evalue": "name 'fb_base_url' is not defined",
     "output_type": "error",
     "traceback": [
      "\u001b[0;31m---------------------------------------------------------------------------\u001b[0m",
      "\u001b[0;31mNameError\u001b[0m                                 Traceback (most recent call last)",
      "\u001b[0;32m<ipython-input-4-38c798982cdf>\u001b[0m in \u001b[0;36m<module>\u001b[0;34m\u001b[0m\n\u001b[1;32m      9\u001b[0m     \u001b[0;32mpass\u001b[0m\u001b[0;34m\u001b[0m\u001b[0;34m\u001b[0m\u001b[0m\n\u001b[1;32m     10\u001b[0m \u001b[0;34m\u001b[0m\u001b[0m\n\u001b[0;32m---> 11\u001b[0;31m \u001b[0mcomplted_url\u001b[0m \u001b[0;34m=\u001b[0m \u001b[0mfb_base_url\u001b[0m \u001b[0;34m+\u001b[0m \u001b[0mfb\u001b[0m\u001b[0;34m\u001b[0m\u001b[0;34m\u001b[0m\u001b[0m\n\u001b[0m\u001b[1;32m     12\u001b[0m \u001b[0;34m\u001b[0m\u001b[0m\n\u001b[1;32m     13\u001b[0m \u001b[0;32mtry\u001b[0m\u001b[0;34m:\u001b[0m\u001b[0;34m\u001b[0m\u001b[0;34m\u001b[0m\u001b[0m\n",
      "\u001b[0;31mNameError\u001b[0m: name 'fb_base_url' is not defined"
     ]
    }
   ],
   "source": [
    "# for fb in FB:\n",
    "fb = FB[0]\n",
    "print(fb)\n",
    "folder_name = \"/home/amir/github/working/Facebook_posts_links/get_all_links_for_user/Extracted/\" + fb\n",
    "try:\n",
    "    os.mkdir(folder_name)\n",
    "except:\n",
    "    print(f\"{folder_name} exist already\")\n",
    "    pass\n",
    "\n",
    "complted_url = fb_base_url + fb\n",
    "\n",
    "try:\n",
    "    browser.get(complted_url)\n",
    "except:\n",
    "    print(\"ID not found\", fb)\n",
    "    sys.exit() # continue\n",
    "s = BeautifulSoup(browser.page_source, \"lxml\")\n",
    "\n",
    "for i in s.find(\"div\", {\"class\" : \"bl\"}).select(\"div\", {\"class\" : \"cv\"}):\n",
    "    try: \n",
    "        link_ = i.find(\"a\")['href']\n",
    "        if \"timeline&lst\" in link_:\n",
    "            time_line_link = fb_base_url.strip(\"/\") + link_\n",
    "            break\n",
    "    except: \n",
    "        pass\n",
    "\n",
    "pages_links = []\n",
    "pages_links.append(time_line_link)\n",
    "\n",
    "c = 0\n",
    "\n",
    "while c < 20: # only first few pages\n",
    "    get_next_page_link(pages_links[-1])\n",
    "    time.sleep(2)\n",
    "    c += 1 \n",
    "pickle.dump(pages_links,  open(f\"{folder_name}/LINKS.pkl\", \"wb\"))"
   ]
  },
  {
   "cell_type": "code",
   "execution_count": null,
   "metadata": {},
   "outputs": [],
   "source": []
  },
  {
   "cell_type": "code",
   "execution_count": null,
   "metadata": {},
   "outputs": [],
   "source": []
  }
 ],
 "metadata": {
  "kernelspec": {
   "display_name": "Python 3",
   "language": "python",
   "name": "python3"
  },
  "language_info": {
   "codemirror_mode": {
    "name": "ipython",
    "version": 3
   },
   "file_extension": ".py",
   "mimetype": "text/x-python",
   "name": "python",
   "nbconvert_exporter": "python",
   "pygments_lexer": "ipython3",
   "version": "3.6.9"
  }
 },
 "nbformat": 4,
 "nbformat_minor": 4
}
