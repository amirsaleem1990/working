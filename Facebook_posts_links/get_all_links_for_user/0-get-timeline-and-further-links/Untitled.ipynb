{
 "cells": [
  {
   "cell_type": "code",
   "execution_count": 1,
   "metadata": {},
   "outputs": [
    {
     "name": "stdout",
     "output_type": "stream",
     "text": [
      "Enter pages Qty for each profile: 2\n",
      "Attempting to Login    7:49:14\n",
      "Successfully Logged in 7:49:42 \n",
      "\n",
      "\n",
      "\n"
     ]
    }
   ],
   "source": [
    "import os\n",
    "import time\n",
    "import pickle\n",
    "import requests\n",
    "from bs4 import BeautifulSoup\n",
    "from selenium import webdriver\n",
    "import numpy as np\n",
    "import sys\n",
    "import datetime\n",
    "from selenium.webdriver.common.keys import Keys\n",
    "\n",
    "import sys\n",
    "sys.path.insert(0,'/home/amir/github/working/Facebook_posts_links/')\n",
    "from functions import *\n",
    "\n",
    "# os.chdir(\"/home/amir/github/working/Facebook_posts_links/get_all_links_for_user/0-get-timeline-and-further-links\")\n",
    "\n",
    "qty_of_pages = int(input(\"Enter pages Qty for each profile: \"))\n",
    "\n",
    "os.system(\"clear\")\n",
    "\n",
    "FB = [i.split(\"\\t\")[0].strip() for i in open(\"/home/amir/github/working/Facebook_posts_links/FB.txt\", \"r\").read().splitlines()]\n",
    "\n",
    "all_links = pickle.load(open(\"/home/amir/github/working/Facebook_posts_links/All_FB_links_names_corrected.pkl\", \"rb\"))\n",
    "ids_removed_from_facebook = pickle.load(\n",
    "\topen(\"/home/amir/github/working/Facebook_posts_links/ids_removed_from_facebook.pkl\", \"rb\"))\n",
    "\n",
    "usrname, pas = open(\"/home/amir/github/Amir-personal/facebook-userName-and-password_3.txt\", \"r\").read().splitlines()\n",
    "\n",
    "stored_links_qty = sum([len(all_links[i]) for i in all_links])\t\n",
    "\n",
    "fb_base_url = \"https://m.facebook.com/\"\n",
    "\n",
    "browser = LOGIN(usrname, pas, fb_base_url)\n",
    "\n",
    "ids_removed_from_facebook = list(ids_removed_from_facebook.keys())\n",
    "\n",
    "extrected_links = []\n",
    "new_links = []\n",
    "mmz = []\n",
    "errors = []\n",
    "links_to_open = []\n",
    "\n",
    "\n",
    "\n",
    "counter = 0\n",
    "succussfully_extracted = 0\n",
    "\n",
    "def get_next_page_link(LINK):\n",
    "\tglobal c\n",
    "\tglobal next_page_error\n",
    "\tglobal Errors_dict\n",
    "\tc += 1\n",
    "\ttry:\n",
    "\t\tbrowser.get(LINK)\n",
    "\t\ts = BeautifulSoup(browser.page_source, \"lxml\")\n",
    "\t\ttry:\n",
    "\t\t\tnext_page_link = fb_base_url.strip(\"/\")  + s.find(\"div\", {\"id\" : \"u_0_3\"}).find(\"a\")['href']\n",
    "\t\texcept:\n",
    "\t\t\ttry:\n",
    "\t\t\t\tnext_page_link = fb_base_url.strip(\"/\")  + s.find(\"div\", {\"id\" : \"u_0_0\"}).find(\"a\")['href']\n",
    "\t\t\texcept:\n",
    "\t\t\t\ttry:\n",
    "\t\t\t\t\tnext_page_link = fb_base_url.strip(\"/\")  + s.find(\"div\", {\"id\" : \"u_0_2\"}).find(\"a\")['href']\n",
    "\t\t\t\texcept:\n",
    "\t\t\t\t\tnext_page_link = fb_base_url.strip(\"/\")  + s.find(\"div\", {\"id\" : \"u_0_1\"}).find(\"a\")['href']\n",
    "\t\tpages_links.append(next_page_link)\n",
    "\n",
    "\t\tto_save = str(s)\n",
    "\t\tpickle.dump(to_save, open(f\"{folder_name}/{len(pages_links)}_{fb}.pkl\", \"wb\"))\n",
    "\t\tnext_page_error = 0\n",
    "\texcept:\n",
    "\t\tnext_page_error += 1\n",
    "\t\tErrors_dict[\"next page Error\"].append(LINK)\n",
    "\n",
    "Errors_dict = {\"another Error\" : [], \n",
    "\t\t\t\t\"next page Error\" : [], \n",
    "\t\t\t\t\"ID not found\" : [],\n",
    "\t\t\t\t\"timeline linke not found\" : []}\n"
   ]
  },
  {
   "cell_type": "code",
   "execution_count": 3,
   "metadata": {},
   "outputs": [
    {
     "name": "stdout",
     "output_type": "stream",
     "text": [
      "MMushtaqYusufzai\n"
     ]
    }
   ],
   "source": [
    "fb = FB[0]\n",
    "next_page_error = 0\n",
    "print(fb)\n",
    "folder_name = \"/home/amir/github/working/Facebook_posts_links/get_all_links_for_user/Extracted/\" + fb\n",
    "try:\n",
    "    os.mkdir(folder_name)\n",
    "except:\n",
    "    pass\n",
    "\n",
    "complted_url = fb_base_url + fb\n",
    "\n",
    "try:\n",
    "    browser.get(complted_url)\n",
    "except:\n",
    "    Errors_dict[\"ID not found\"].append(fb)"
   ]
  },
  {
   "cell_type": "code",
   "execution_count": 18,
   "metadata": {},
   "outputs": [
    {
     "data": {
      "text/plain": [
       "[<a class=\"o p q\" href=\"/home.php?ref_component=mbasic_home_logo&amp;ref_page=%2Fwap%2Fprofile_timeline.php%3Ainfo\"><img alt=\"Facebook logo\" class=\"r s\" height=\"20\" src=\"https://static.xx.fbcdn.net/rsrc.php/v3/ym/r/Gjhrhb7r0lb.png\" width=\"20\"/></a>,\n",
       " <a class=\"bf bg\" href=\"/home.php?ref_component=mbasic_home_header&amp;ref_page=%2Fwap%2Fprofile_timeline.php%3Ainfo\">Home</a>,\n",
       " <a class=\"bf bg\" href=\"/zabair.abubakar.1?v=info&amp;ref_component=mbasic_home_header&amp;ref_page=%2Fwap%2Fprofile_timeline.php%3Ainfo\">Edit Profile</a>,\n",
       " <a accesskey=\"4\" class=\"bf bg\" href=\"/messages/?ref_component=mbasic_home_header&amp;ref_page=%2Fwap%2Fprofile_timeline.php%3Ainfo\">Messages</a>,\n",
       " <a accesskey=\"3\" class=\"bf bg\" href=\"/notifications.php?ref_component=mbasic_home_header&amp;ref_page=%2Fwap%2Fprofile_timeline.php%3Ainfo\">Notifications</a>,\n",
       " <a accesskey=\"6\" class=\"bf bg\" href=\"/buddylist.php?ref_component=mbasic_home_header&amp;ref_page=%2Fwap%2Fprofile_timeline.php%3Ainfo\">Chat</a>,\n",
       " <a accesskey=\"2\" class=\"bf bg\" href=\"/friends/center/mbasic/?fb_ref=tn&amp;sr=1&amp;ref_component=mbasic_home_header&amp;ref_page=%2Fwap%2Fprofile_timeline.php%3Ainfo\">Find Friends</a>,\n",
       " <a class=\"bf bg\" href=\"/pages/?ref_component=mbasic_home_header&amp;ref_page=%2Fwap%2Fprofile_timeline.php%3Ainfo\">Pages</a>,\n",
       " <a class=\"bf bg\" href=\"/groups/?category=membership&amp;ref_component=mbasic_home_header&amp;ref_page=%2Fwap%2Fprofile_timeline.php%3Ainfo\">Groups</a>,\n",
       " <a aria-label=\"Groups\" href=\"/groups/?category=membership&amp;a_type=sr\" tabindex=\"-1\"> </a>,\n",
       " <a aria-label=\"Events\" href=\"/events/?a_type=sr\" tabindex=\"-1\"> </a>,\n",
       " <a aria-label=\"Notes\" href=\"/notes/?a_type=sr\" tabindex=\"-1\"> </a>,\n",
       " <a aria-label=\"Saved\" href=\"/saved/?a_type=sr\" tabindex=\"-1\"> </a>,\n",
       " <a aria-label=\"Settings &amp; privacy\" href=\"/settings/?a_type=sr\" tabindex=\"-1\"> </a>,\n",
       " <a aria-label=\"Help\" href=\"/help/?a_type=sr\" tabindex=\"-1\"> </a>,\n",
       " <a class=\"bf bg\" href=\"/coronavirus_info/?page_source=tab&amp;ref_component=mbasic_home_header&amp;ref_page=%2Fwap%2Fprofile_timeline.php%3Ainfo\">COVID-19</a>,\n",
       " <a accesskey=\"5\" class=\"bf bg\" href=\"/menu/bookmarks/?ref_component=mbasic_home_header&amp;ref_page=%2Fwap%2Fprofile_timeline.php%3Ainfo\">Menu</a>,\n",
       " <a class=\"bo bp bq br\" href=\"/photo.php?fbid=131335317281201&amp;id=100012142007594&amp;set=a.131269013954498&amp;source=44\" title=\"Cover Photo: Muhammad Mushtaq's photo, of Muhammad Mushtaq.\"><img class=\"bs bt bu s\" height=\"200\" src=\"https://scontent.fkhi2-1.fna.fbcdn.net/v/t31.0-0/cp0/e15/q65/c0.58.987.329a/s600x600/13235481_131335317281201_3236285536358550387_o.jpg?_nc_cat=101&amp;_nc_sid=3346a0&amp;efg=eyJpIjoiYiJ9&amp;_nc_oc=AQnIsu0C1Pi6r0orxNvv6oFH1JDG2cZ_YJ0d3dOpHqU4GsvnO1SMc3lR8qnhkOI78lI&amp;_nc_ht=scontent.fkhi2-1.fna&amp;oh=f035765bf3ee201cd599606bf5f5442f&amp;oe=5EFC4D33\" width=\"320\"/></a>,\n",
       " <a href=\"/photo.php?fbid=131261893955210&amp;id=100012142007594&amp;set=a.131261917288541\" id=\"u_0_3\"><img alt=\"Muhammad Mushtaq, profile picture\" class=\"cb s\" src=\"https://scontent.fkhi2-1.fna.fbcdn.net/v/t31.0-1/cp0/e15/q65/p74x74/13268577_131261893955210_3674333803732760155_o.jpg?_nc_cat=101&amp;_nc_sid=dbb9e7&amp;efg=eyJpIjoiYiJ9&amp;_nc_oc=AQnvBdh2KgaFq1uqJ0ejvjZGdZP5NBPiVuVs-VienbK_cpXlsgF4Wy-2vSMyoOPuP3I&amp;_nc_ht=scontent.fkhi2-1.fna&amp;_nc_tp=3&amp;oh=ea078d3a798e44aff6604609eab567e8&amp;oe=5EFD3CFA\"/></a>,\n",
       " <a class=\"ck\" href=\"/International-Islamic-University-Islamabad-Pakistan-55865498363/\">International Islamic University Islamabad, Pakistan</a>,\n",
       " <a class=\"ck\" href=\"/iiui2012/\">International Islamic University Islamabad</a>,\n",
       " <a class=\"co cp\" href=\"/messages/thread/100012142007594/?entrypoint=profile_message_button\">Message</a>,\n",
       " <a class=\"co cp\" href=\"/a/subscribe.php?id=100012142007594&amp;gfid=AQAkOu6YKC1JYP0x\">Follow</a>,\n",
       " <a class=\"co cp\" href=\"/mbasic/more/?owner_id=100012142007594\">More</a>,\n",
       " <a class=\"cr\" href=\"/MMushtaqYusufzai?v=timeline&amp;lst=100052037981133%3A100012142007594%3A1591195897\">Timeline</a>,\n",
       " <a class=\"cr\" href=\"/MMushtaqYusufzai/photos?lst=100052037981133%3A100012142007594%3A1591195897\">Photos</a>,\n",
       " <a class=\"cr\" href=\"/MMushtaqYusufzai?v=likes&amp;lst=100052037981133%3A100012142007594%3A1591195897\">Likes</a>,\n",
       " <a class=\"ci\" href=\"/International-Islamic-University-Islamabad-Pakistan-55865498363/\"><img alt=\"International Islamic University Islamabad, Pakistan, profile picture\" class=\"dl dm cb s\" src=\"https://scontent.fkhi2-1.fna.fbcdn.net/v/t31.0-1/cp0/e15/q65/c18.4.48.48a/p56x56/219225_10150167420208364_2754832_o.jpg?_nc_cat=102&amp;_nc_sid=dbb9e7&amp;efg=eyJpIjoiYiJ9&amp;_nc_oc=AQkLNrOyJO7WZvVCB2yKbyH1Y7By5pXWaZ8jXFqKO92kCzpzwAp3dRQJuCFzsBEdT3E&amp;_nc_ht=scontent.fkhi2-1.fna&amp;_nc_tp=5&amp;oh=89c6fc81e45c8794f270e4120219fd41&amp;oe=5EFC6E5A\"/></a>,\n",
       " <a class=\"ck\" href=\"/International-Islamic-University-Islamabad-Pakistan-55865498363/\">International Islamic University Islamabad, Pakistan</a>,\n",
       " <a class=\"ci\" href=\"/iiu.isbpk/\"><img alt=\"International Islamic University, Islamabad (IIUI), profile picture\" class=\"dl dm cb s\" src=\"https://scontent.fkhi2-1.fna.fbcdn.net/v/t1.0-1/cp0/e15/q65/p48x48/13015610_1141628545899991_8577895390328161620_n.jpg?_nc_cat=103&amp;_nc_sid=dbb9e7&amp;efg=eyJpIjoiYiJ9&amp;_nc_oc=AQkEtAppeAhZBy-Zhbh9aP4-N7PemRCDbVNBxob5ZsUrMPbCQVrKEnM4fsOyljntEdA&amp;_nc_ht=scontent.fkhi2-1.fna&amp;_nc_tp=3&amp;oh=c5992e68f770075aac8f289f10742ac3&amp;oe=5EFCAEA0\"/></a>,\n",
       " <a class=\"ck\" href=\"/iiu.isbpk/\">International Islamic University, Islamabad (IIUI)</a>,\n",
       " <a class=\"ci\" href=\"/UniversityOfPeshawarOfficialPage/\"><img alt=\"University of Peshawar, profile picture\" class=\"dl dm cb s\" src=\"https://scontent.fkhi2-1.fna.fbcdn.net/v/t34.0-1/cp0/e15/q65/p48x48/38987302_2947369691972353_1917815829_n.jpg?_nc_cat=103&amp;_nc_sid=dbb9e7&amp;efg=eyJpIjoiYiJ9&amp;_nc_oc=AQkVmxDPxaqbWQIk4DjKsKHTB_DSH7xFP8tkVxS_maK967ur9WCBYhF2s-_WLCd3aMw&amp;_nc_ht=scontent.fkhi2-1.fna&amp;_nc_tp=3&amp;oh=107404fc544e8574db856f12653afa14&amp;oe=5ED955E3\"/></a>,\n",
       " <a class=\"ck\" href=\"/UniversityOfPeshawarOfficialPage/\">University of Peshawar</a>,\n",
       " <a class=\"ci\" href=\"/profile.php?id=146981828726887\"><img alt=\"Peshawar High Court, profile picture\" class=\"dl dm cb s\" src=\"https://scontent.fkhi2-1.fna.fbcdn.net/v/t1.0-1/cp0/e15/q65/c24.0.48.48a/p48x48/1528719_588015751268026_1662959940_n.jpg?_nc_cat=103&amp;_nc_sid=dbb9e7&amp;efg=eyJpIjoiYiJ9&amp;_nc_oc=AQmvuVIz49kdxYdIWFp3_CfAMCDIDdMOqxrB_7ICeld_Qu8ou-fpu1NRnySfkkm2Cac&amp;_nc_ht=scontent.fkhi2-1.fna&amp;_nc_tp=5&amp;oh=8a8a347ed6acd541e8ea674aaf723507&amp;oe=5EFDD60C\"/></a>,\n",
       " <a class=\"ck\" href=\"/profile.php?id=146981828726887\">Peshawar High Court</a>,\n",
       " <a class=\"ci\" href=\"/iiui2012/\"><img alt=\"International Islamic University Islamabad, profile picture\" class=\"dl dm cb s\" src=\"https://scontent.fkhi2-1.fna.fbcdn.net/v/t1.0-1/cp0/e15/q65/c17.4.48.48a/p56x56/558856_128966523927406_278130571_n.jpg?_nc_cat=100&amp;_nc_sid=dbb9e7&amp;efg=eyJpIjoiYiJ9&amp;_nc_oc=AQkenTInp038jfuJwLcixj6QktCt00mixeqZcfAAEwAJUe2UyKCE9-mnExcyuSMgPMU&amp;_nc_ht=scontent.fkhi2-1.fna&amp;_nc_tp=5&amp;oh=11b9b93265cb60d2e0a2b869e9b9d1bb&amp;oe=5EFDE034\"/></a>,\n",
       " <a class=\"ck\" href=\"/iiui2012/\">International Islamic University Islamabad</a>,\n",
       " <a class=\"ci\" href=\"/profile.php?id=108585652506506\"><img alt=\"PAF College Risalpur, profile picture\" class=\"dl dm cb s\" src=\"https://scontent.fkhi2-1.fna.fbcdn.net/v/t1.30497-1/cp0/c14.0.48.48a/p48x48/84687230_2222103328096112_4091110349787365376_n.png?_nc_cat=1&amp;_nc_sid=dbb9e7&amp;efg=eyJpIjoiYiJ9&amp;_nc_oc=AQkRL9tfMhV2YnmZhU6j7zPm8fyLvjOHRvSrQF_4mc8tMZx3NGd40dnHVBjilASoC1Q&amp;_nc_ht=scontent.fkhi2-1.fna&amp;oh=2e5d1ee1999cc6052716358bc49654a0&amp;oe=5EFC32D7\"/></a>,\n",
       " <a class=\"ck\" href=\"/profile.php?id=108585652506506\">PAF College Risalpur</a>,\n",
       " <a class=\"ci\" href=\"/profile.php?id=540605992647345\"><img alt=\"Government High School No 2 Mardan, profile picture\" class=\"dl dm cb s\" src=\"https://scontent.fkhi2-1.fna.fbcdn.net/v/t1.30497-1/cp0/c14.0.48.48a/p48x48/84687230_2222103328096112_4091110349787365376_n.png?_nc_cat=1&amp;_nc_sid=dbb9e7&amp;efg=eyJpIjoiYiJ9&amp;_nc_oc=AQkRL9tfMhV2YnmZhU6j7zPm8fyLvjOHRvSrQF_4mc8tMZx3NGd40dnHVBjilASoC1Q&amp;_nc_ht=scontent.fkhi2-1.fna&amp;oh=2e5d1ee1999cc6052716358bc49654a0&amp;oe=5EFC32D7\"/></a>,\n",
       " <a class=\"ck\" href=\"/profile.php?id=540605992647345\">Government High School No 2 Mardan</a>,\n",
       " <a href=\"/profile.php?id=111501225536407\">Islamabad, Pakistan</a>,\n",
       " <a class=\"ci\" href=\"/profile.php?id=100010860579642\"><img alt=\"M-Yahya Mushtaq, profile picture\" class=\"dl ed cb s\" src=\"https://scontent.fkhi2-1.fna.fbcdn.net/v/t1.0-1/cp0/e15/q65/p48x48/76732172_959460211092656_4044469616292921344_n.jpg?_nc_cat=111&amp;_nc_sid=dbb9e7&amp;efg=eyJpIjoiYiJ9&amp;_nc_oc=AQmMVe0wdTJVrTPyF6T7mNYPBHl7WuwVAWrbJ6Ieuw5ohxXWkqK5K8TyUgkr2B0MbEc&amp;_nc_ht=scontent.fkhi2-1.fna&amp;_nc_tp=3&amp;oh=cec46c3ac6f672bf342d5f3736f00f75&amp;oe=5EFC8474\"/></a>,\n",
       " <a href=\"/profile.php?id=100010860579642\">M-Yahya Mushtaq</a>,\n",
       " <a href=\"/MMushtaqYusufzai/timeline/story?ut=32&amp;wstart=-2051193600&amp;wend=2147483647&amp;hash=256574011423997&amp;pagefilter=3\">Left Job at International Islamic University, Islamabad (IIUI)</a>,\n",
       " <a href=\"/MMushtaqYusufzai/timeline/story?ut=32&amp;wstart=-2051193600&amp;wend=2147483647&amp;hash=256574011423997&amp;pagefilter=3&amp;ustart=1\">Started new job at International Islamic University, Islamabad (IIUI)</a>,\n",
       " <a href=\"/MMushtaqYusufzai/timeline/story?ut=32&amp;wstart=-2051193600&amp;wend=2147483647&amp;hash=131202380627828&amp;pagefilter=3\">Graduated from International Islamic University Islamabad</a>,\n",
       " <a href=\"/MMushtaqYusufzai/timeline/story?ut=32&amp;wstart=-2051193600&amp;wend=2147483647&amp;hash=131210137293719&amp;pagefilter=3\">Left Job at University of Peshawar</a>,\n",
       " <a href=\"/MMushtaqYusufzai/timeline/story?ut=32&amp;wstart=-2051193600&amp;wend=2147483647&amp;hash=131210137293719&amp;pagefilter=3&amp;ustart=1\">Started new job at University of Peshawar</a>,\n",
       " <a href=\"/MMushtaqYusufzai/timeline/story?ut=32&amp;wstart=-2051193600&amp;wend=2147483647&amp;hash=256574938090571&amp;pagefilter=3&amp;ustart=1\">Worked at Peshawar High Court</a>,\n",
       " <a href=\"/MMushtaqYusufzai/timeline/story?ut=32&amp;wstart=-2051193600&amp;wend=2147483647&amp;hash=131202380627828&amp;pagefilter=3&amp;ustart=1\">Started studying at International Islamic University Islamabad</a>,\n",
       " <a href=\"/MMushtaqYusufzai/timeline/story?ut=32&amp;wstart=-2051193600&amp;wend=2147483647&amp;hash=175849096163156&amp;pagefilter=3&amp;ustart=1\">Started studying at PAF College Risalpur</a>,\n",
       " <a href=\"/MMushtaqYusufzai/timeline/story?ut=32&amp;wstart=-2051193600&amp;wend=2147483647&amp;hash=131205050627561&amp;pagefilter=3\">Left Government High School No 2 Mardan</a>,\n",
       " <a href=\"/MMushtaqYusufzai/timeline/story?ut=32&amp;wstart=-2051193600&amp;wend=2147483647&amp;hash=131205050627561&amp;pagefilter=3&amp;ustart=1\">Started studying at Government High School No 2 Mardan</a>,\n",
       " <a name=\"footer-actions-basic\"></a>,\n",
       " <a name=\"footer-actions-basic\"></a>,\n",
       " <a href=\"/privacy/touch/block/confirm/?bid=100012142007594&amp;ret_cancel&amp;source=profile\">Block this person</a>,\n",
       " <a href=\"/rapid_report/?context=%7B%22session_id%22%3A%22ab360cb2-8493-4eff-aa65-39ed8d2ba113%22%2C%22type%22%3A2%2C%22story_location%22%3A%22profile_someone_else%22%2C%22entry_point%22%3A%22profile_report_button%22%2C%22entry_point_uri%22%3A%22%5C%2FMMushtaqYusufzai%3Flst%3D100052037981133%5Cu00253A100012142007594%5Cu00253A1591195897%22%2C%22reportable_ent_token%22%3A%22100012142007594%22%7D&amp;av=100052037981133\">Find support or report profile</a>,\n",
       " <a class=\"fc\" href=\"/pages/create/?ref_type=site_footer&amp;ref_component=mbasic_footer&amp;ref_page=%2Fwap%2Fprofile_timeline.php%3Ainfo\">Create Page</a>,\n",
       " <a accesskey=\"0\" class=\"fc\" href=\"/help/?ref_component=mbasic_footer&amp;ref_page=%2Fwap%2Fprofile_timeline.php%3Ainfo\">Help</a>,\n",
       " <a accesskey=\"7\" class=\"fc\" href=\"/settings/?entry_point=mbasic_footer_link&amp;ref_component=mbasic_footer&amp;ref_page=%2Fwap%2Fprofile_timeline.php%3Ainfo\">Settings &amp; privacy</a>,\n",
       " <a class=\"fc\" href=\"/bugnub/?source=Footer&amp;ref_component=mbasic_footer&amp;ref_page=%2Fwap%2Fprofile_timeline.php%3Ainfo\">Report a Problem</a>,\n",
       " <a accesskey=\"8\" class=\"fc\" href=\"/policies/?ref_component=mbasic_footer&amp;ref_page=%2Fwap%2Fprofile_timeline.php%3Ainfo\">Terms &amp; Policies</a>,\n",
       " <a class=\"fc\" href=\"/logout.php?h=Afdr946HMm1hKIIt&amp;t=1591195897&amp;button_name=logout&amp;button_location=footer&amp;source=mbasic_logout_button&amp;ref_component=mbasic_footer&amp;ref_page=%2Fwap%2Fprofile_timeline.php%3Ainfo\" id=\"mbasic_logout_button\">Log Out (Zabair Abubakar)</a>,\n",
       " <a class=\"fe\" href=\"#header\">Back to Top</a>]"
      ]
     },
     "execution_count": 18,
     "metadata": {},
     "output_type": "execute_result"
    }
   ],
   "source": [
    "s.select(\"a\")"
   ]
  },
  {
   "cell_type": "code",
   "execution_count": 20,
   "metadata": {},
   "outputs": [
    {
     "ename": "NameError",
     "evalue": "name 'a' is not defined",
     "output_type": "error",
     "traceback": [
      "\u001b[0;31m---------------------------------------------------------------------------\u001b[0m",
      "\u001b[0;31mNameError\u001b[0m                                 Traceback (most recent call last)",
      "\u001b[0;32m<ipython-input-20-fd3d3ad8e078>\u001b[0m in \u001b[0;36m<module>\u001b[0;34m\u001b[0m\n\u001b[1;32m      1\u001b[0m \u001b[0;32mfor\u001b[0m \u001b[0mi\u001b[0m \u001b[0;32min\u001b[0m \u001b[0ms\u001b[0m\u001b[0;34m.\u001b[0m\u001b[0mselect\u001b[0m\u001b[0;34m(\u001b[0m\u001b[0;34m\"a\"\u001b[0m\u001b[0;34m)\u001b[0m\u001b[0;34m:\u001b[0m\u001b[0;34m\u001b[0m\u001b[0;34m\u001b[0m\u001b[0m\n\u001b[1;32m      2\u001b[0m \u001b[0;31m#     try:\u001b[0m\u001b[0;34m\u001b[0m\u001b[0;34m\u001b[0m\u001b[0;34m\u001b[0m\u001b[0m\n\u001b[0;32m----> 3\u001b[0;31m         \u001b[0mlink\u001b[0m \u001b[0;34m=\u001b[0m \u001b[0ma\u001b[0m\u001b[0;34m[\u001b[0m\u001b[0;34m'href'\u001b[0m\u001b[0;34m]\u001b[0m\u001b[0;34m\u001b[0m\u001b[0;34m\u001b[0m\u001b[0m\n\u001b[0m\u001b[1;32m      4\u001b[0m \u001b[0;31m#         if \"timeline\" in link:\u001b[0m\u001b[0;34m\u001b[0m\u001b[0;34m\u001b[0m\u001b[0;34m\u001b[0m\u001b[0m\n\u001b[1;32m      5\u001b[0m         \u001b[0mprint\u001b[0m\u001b[0;34m(\u001b[0m\u001b[0mlink\u001b[0m\u001b[0;34m)\u001b[0m\u001b[0;34m\u001b[0m\u001b[0;34m\u001b[0m\u001b[0m\n",
      "\u001b[0;31mNameError\u001b[0m: name 'a' is not defined"
     ]
    }
   ],
   "source": [
    "s = BeautifulSoup(browser.page_source, \"lxml\")\n",
    "for i in s.select(\"a\"):\n",
    "#     try:\n",
    "        link = a['href']\n",
    "#         if \"timeline\" in link:\n",
    "        print(link)\n",
    "#     except:\n",
    "#         pass"
   ]
  },
  {
   "cell_type": "code",
   "execution_count": 8,
   "metadata": {},
   "outputs": [],
   "source": [
    "s = BeautifulSoup(browser.page_source, \"lxml\")\n",
    "\n",
    "for i in s.find(\"div\", {\"class\" : \"cq f cf\"}):#.select(\"a\", {\"class\" : \"cv\"}):\n",
    "    try: \n",
    "        link_ = i.find(\"a\")['href']\n",
    "        print(link_)\n",
    "        if \"timeline&lst\" in link_:\n",
    "            time_line_link = fb_base_url.strip(\"/\") + link_\n",
    "#             print(time_line_link)\n",
    "            break\n",
    "    except: \n",
    "        pass\n",
    "\n",
    "# try:\n",
    "#     pages_links = [time_line_link]\n",
    "# except:\n",
    "#     Errors_dict[\"timeline linke not found\"].append(fb)"
   ]
  },
  {
   "cell_type": "code",
   "execution_count": null,
   "metadata": {},
   "outputs": [],
   "source": [
    "\n",
    "\n",
    "\n",
    "c = 0\n",
    "while c < qty_of_pages: # only first few pages\n",
    "    c += 1 \n",
    "    get_next_page_link(pages_links[-1])\n",
    "    time.sleep(2)\n",
    "    if next_page_error > 2:\n",
    "        break\n",
    "pickle.dump(pages_links,  open(f\"{folder_name}/LINKS.pkl\", \"wb\"))\n",
    "print(f\"*************************** Succussfully COMPLETED {fb}\")"
   ]
  }
 ],
 "metadata": {
  "kernelspec": {
   "display_name": "Python 3",
   "language": "python",
   "name": "python3"
  },
  "language_info": {
   "codemirror_mode": {
    "name": "ipython",
    "version": 3
   },
   "file_extension": ".py",
   "mimetype": "text/x-python",
   "name": "python",
   "nbconvert_exporter": "python",
   "pygments_lexer": "ipython3",
   "version": "3.6.9"
  }
 },
 "nbformat": 4,
 "nbformat_minor": 4
}
