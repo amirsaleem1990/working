{
 "cells": [
  {
   "cell_type": "code",
   "execution_count": 1,
   "metadata": {},
   "outputs": [
    {
     "name": "stdout",
     "output_type": "stream",
     "text": [
      "Enter pages Qty for each profile: 2\n",
      "Attempting to Login    7:49:14\n",
      "Successfully Logged in 7:49:42 \n",
      "\n",
      "\n",
      "\n"
     ]
    }
   ],
   "source": [
    "import os\n",
    "import time\n",
    "import pickle\n",
    "import requests\n",
    "from bs4 import BeautifulSoup\n",
    "from selenium import webdriver\n",
    "import numpy as np\n",
    "import sys\n",
    "import datetime\n",
    "from selenium.webdriver.common.keys import Keys\n",
    "\n",
    "import sys\n",
    "sys.path.insert(0,'/home/amir/github/working/Facebook_posts_links/')\n",
    "from functions import *\n",
    "\n",
    "# os.chdir(\"/home/amir/github/working/Facebook_posts_links/get_all_links_for_user/0-get-timeline-and-further-links\")\n",
    "\n",
    "qty_of_pages = int(input(\"Enter pages Qty for each profile: \"))\n",
    "\n",
    "os.system(\"clear\")\n",
    "\n",
    "FB = [i.split(\"\\t\")[0].strip() for i in open(\"/home/amir/github/working/Facebook_posts_links/FB.txt\", \"r\").read().splitlines()]\n",
    "\n",
    "all_links = pickle.load(open(\"/home/amir/github/working/Facebook_posts_links/All_FB_links_names_corrected.pkl\", \"rb\"))\n",
    "ids_removed_from_facebook = pickle.load(\n",
    "\topen(\"/home/amir/github/working/Facebook_posts_links/ids_removed_from_facebook.pkl\", \"rb\"))\n",
    "\n",
    "usrname, pas = open(\"/home/amir/github/Amir-personal/facebook-userName-and-password_3.txt\", \"r\").read().splitlines()\n",
    "\n",
    "stored_links_qty = sum([len(all_links[i]) for i in all_links])\t\n",
    "\n",
    "fb_base_url = \"https://m.facebook.com/\"\n",
    "\n",
    "browser = LOGIN(usrname, pas, fb_base_url)\n",
    "\n",
    "ids_removed_from_facebook = list(ids_removed_from_facebook.keys())\n",
    "\n",
    "extrected_links = []\n",
    "new_links = []\n",
    "mmz = []\n",
    "errors = []\n",
    "links_to_open = []\n",
    "\n",
    "\n",
    "\n",
    "counter = 0\n",
    "succussfully_extracted = 0\n",
    "\n",
    "def get_next_page_link(LINK):\n",
    "\tglobal c\n",
    "\tglobal next_page_error\n",
    "\tglobal Errors_dict\n",
    "\tc += 1\n",
    "\ttry:\n",
    "\t\tbrowser.get(LINK)\n",
    "\t\ts = BeautifulSoup(browser.page_source, \"lxml\")\n",
    "\t\ttry:\n",
    "\t\t\tnext_page_link = fb_base_url.strip(\"/\")  + s.find(\"div\", {\"id\" : \"u_0_3\"}).find(\"a\")['href']\n",
    "\t\texcept:\n",
    "\t\t\ttry:\n",
    "\t\t\t\tnext_page_link = fb_base_url.strip(\"/\")  + s.find(\"div\", {\"id\" : \"u_0_0\"}).find(\"a\")['href']\n",
    "\t\t\texcept:\n",
    "\t\t\t\ttry:\n",
    "\t\t\t\t\tnext_page_link = fb_base_url.strip(\"/\")  + s.find(\"div\", {\"id\" : \"u_0_2\"}).find(\"a\")['href']\n",
    "\t\t\t\texcept:\n",
    "\t\t\t\t\tnext_page_link = fb_base_url.strip(\"/\")  + s.find(\"div\", {\"id\" : \"u_0_1\"}).find(\"a\")['href']\n",
    "\t\tpages_links.append(next_page_link)\n",
    "\n",
    "\t\tto_save = str(s)\n",
    "\t\tpickle.dump(to_save, open(f\"{folder_name}/{len(pages_links)}_{fb}.pkl\", \"wb\"))\n",
    "\t\tnext_page_error = 0\n",
    "\texcept:\n",
    "\t\tnext_page_error += 1\n",
    "\t\tErrors_dict[\"next page Error\"].append(LINK)\n",
    "\n",
    "Errors_dict = {\"another Error\" : [], \n",
    "\t\t\t\t\"next page Error\" : [], \n",
    "\t\t\t\t\"ID not found\" : [],\n",
    "\t\t\t\t\"timeline linke not found\" : []}\n"
   ]
  },
  {
   "cell_type": "code",
   "execution_count": 3,
   "metadata": {},
   "outputs": [
    {
     "name": "stdout",
     "output_type": "stream",
     "text": [
      "MMushtaqYusufzai\n"
     ]
    }
   ],
   "source": [
    "fb = FB[0]\n",
    "next_page_error = 0\n",
    "print(fb)\n",
    "folder_name = \"/home/amir/github/working/Facebook_posts_links/get_all_links_for_user/Extracted/\" + fb\n",
    "try:\n",
    "    os.mkdir(folder_name)\n",
    "except:\n",
    "    pass\n",
    "\n",
    "complted_url = fb_base_url + fb\n",
    "\n",
    "try:\n",
    "    browser.get(complted_url)\n",
    "except:\n",
    "    Errors_dict[\"ID not found\"].append(fb)"
   ]
  },
  {
   "cell_type": "code",
   "execution_count": 9,
   "metadata": {},
   "outputs": [
    {
     "data": {
      "text/plain": [
       "<html xmlns=\"http://www.w3.org/1999/xhtml\"><head><title>Muhammad Mushtaq</title><meta content=\"origin-when-crossorigin\" id=\"meta_referrer\" name=\"referrer\"/><style type=\"text/css\">/*<![CDATA[*/.bi .bk .cd{color:#42464d;font-size:19px;font-weight:bold;}.bi.b .bk .cd{margin-left:0;position:static;}.bi .bk .cq{padding-left:4px;}.b .br{height:100%;overflow:hidden;position:absolute;}.b .bl{background-color:#1c1e21;height:100px;position:relative;}.b .bs{height:auto;}.b .bt{width:inherit;}.b .bq{width:100%;}.b .bv{margin-top:-45px;}.bz{position:relative;}.ca{border:2px solid #fff;box-shadow:0 1px 2px rgba(0, 0, 0, .1);display:inline-block;}.b .cc{padding:5px 0 5px 0;text-align:center;}.b .by{text-align:center;}.ct{background:#fff;}.cv{background:#e9ebee;}.dd{position:relative;top:1px;}.b .cw{padding:0;}.b .w{padding:2px;}.b .da{padding:4px;}.dt{color:#90949c;}.ds{color:#4b4f56;}.dp{color:#1d2129;}.dr{font-size:12px;line-height:16px;}.do{font-size:14px;line-height:20px;}.de{font-size:16px;line-height:20px;}.ba{font-weight:normal;}.cu{font-weight:bold;}.b .cz{border-collapse:collapse;margin:0;width:100%;}.b td.dc{border:0;padding:6px 0 6px 6px;vertical-align:middle;}.b .cz .df{padding:6px 6px 6px 0;text-align:right;white-space:nowrap;}.b .db{padding:6px;}.b .m{border:0;border-collapse:collapse;margin:0;padding:0;width:100%;}.b .m tbody{vertical-align:top;}.b .eu>tr>td,.b .eu>tbody>tr>td,.b .m td.eu{vertical-align:middle;}.b .m td{padding:0;}.b .m td.w{padding:2px;}.b .m td.da{padding:4px;}.b .t{width:100%;}.b .dj{padding:4px;}.dg>*,.dg.dg>*{border-bottom:1px solid #e5e5e5;}.dg>:last-child{border-bottom:none;}.dg+.dg{border-top:1px solid #e5e5e5;}.bw{background-color:#fff;}.i{background-color:#3b5998;}.j{padding:2px 3px;}.em{padding:4px 3px;}.bx{padding:6px 3px;}.cf{color:gray;}.ce{font-size:small;}body,tr,input,textarea,.f{font-size:medium;}.ei{margin-top:8px;}.ej{margin-top:12px;}.dq{margin-right:4px;}.ef{margin-right:16px;}.du{margin-right:20px;}.eh{margin-bottom:8px;}.ek{margin-bottom:12px;}.eg{margin-bottom:16px;}.ee{margin-left:12px;}.dn{padding-left:4px;}.el{padding-left:8px;}.eb{float:right;max-width:85%;overflow:hidden;text-align:right;text-overflow:ellipsis;}.dz{-moz-user-select:none;}.cg .ci{display:inline-block;margin-right:4px;}.b .cg .ci{float:left;}.b .cg .cj{display:table-cell;}.b a,.b a:visited{color:#3b5998;text-decoration:none;}.b .cr,.b .cr:visited{color:#6d84b4;}.b .bg,.b .bg:visited{color:#fff;}.b a:focus,.b a:hover,.b .cr:focus,.b .cr:hover{background-color:#3b5998;color:#fff;}.b .bg:focus,.b .bg:hover{background-color:#fff;color:#3b5998;}.dl{border-radius:50%;}.cb{background:#eceff5;}.cl{clear:both;}.dw{position:relative;}.dy{width:100%;}.dy .ea{text-align:right;}.cn .co{display:block;}.co{border:solid 2px;cursor:pointer;margin:0;padding:2px 6px 3px;text-align:center;}.cp,.b a.cp{background:#f3f4f5;border-color:#ccc #aaa #999;color:#505c77;}.i .cp,.b .i a.cp{background:#3b5998;border-color:#8a9ac5 #29447E #1a356e;color:#fff;}.co .s{pointer-events:none;}.co{display:inline-block;}.co+.co{margin-left:3px;}.co input{background:none;border:none;margin:0;padding:0;}.cp input{color:#505c77;}.i .cp input{color:#fff;}.s{border:0;display:inline-block;vertical-align:top;}i.s u{position:absolute;width:0;height:0;overflow:hidden;}.ec{font-size:13px;text-shadow:0 1px 0 rgba(255, 255, 255, .35);}.ed{border:solid 1px rgba(0, 0, 0, .1);border-radius:50%;}.bu{background:#f2f2f2;}.bo:hover .bu{background:none;}body{text-align:left;direction:ltr;}body,tr,input,textarea,button{font-family:sans-serif;}body,p,figure,h1,h2,h3,h4,h5,h6,ul,ol,li,dl,dd,dt{margin:0;padding:0;}h1,h2,h3,h4,h5,h6{font-size:1em;font-weight:bold;}ul,ol{list-style:none;}article,aside,figcaption,figure,footer,header,nav,section{display:block;}.e #viewport{margin:0 auto;max-width:600px;}#page{position:relative;}.r,.r.s{display:block;}.o{display:block;}.p{height:20px;width:20px;}.k{background:#3b5998;padding:0 4px 4px;height:22px;}.k.k .x{background:#fff;border:1px solid #243872;box-sizing:border-box;font-size:small;height:22px;margin:0;width:100%;}.l.k{padding:1px 1px 3px;}.k .q{padding:1px 3px 0 0;}.k.k.k .bc{background:#627aba;border:1px solid #2e417e;color:#fff;font-size:x-small;font-weight:normal;height:22px;line-height:20px;margin-left:3px;}form{margin:0;border:0;}.v{border:0;display:block;margin:0;padding:0;}.bb{-moz-appearance:none;background:none;display:inline-block;font-size:12px;height:28px;line-height:28px;margin:0;overflow:visible;padding:0 9px;text-align:center;vertical-align:top;white-space:nowrap;}.b .bb{border-radius:2px;}.bd,a.bd,html .b a.bd{color:#fff;}.b .bd{background-color:#4267b2;border:1px solid #365899;}.b a.bd:hover,.b .bd:hover{background-color:#465e91;}.bd[disabled]{color:#899bc1;}.b .bd[disabled]:hover{background-color:#4267b2;}.b a.bb::after{content:\"\";display:inline-block;height:100%;vertical-align:middle;}.b .bb{padding:0 8px;}.b a.bb{height:26px;line-height:26px;}.en{font-size:small;padding:7px 8px 8px;}.fe{border:1px solid;border-color:#8d949e;border-radius:4px;display:block;margin-top:8px;padding:4px;text-align:center;}.fc{display:block;font-size:x-small;margin:-3px -3px 1px -3px;padding:3px;}.b .en td.fb{padding-right:4px;}.b .en td.fd{padding-left:4px;}.en.eo{background-color:#444950;}.eo{border-top:1px solid #444950;color:#bec3c9;}.b .eo a,.b .eo a:visited{color:#bec3c9;}.b .eo a:focus,.b .eo a:hover{background:#dadde1;color:#1d2129;}.eq{margin-bottom:8px;}.en.eo .eq>table{background:#d3d7dc;border:1px solid #444950;}.ex{background:#d3d7dc;}.ep .fa{height:24px;line-height:24px;margin-left:2px;}.es{background:#fff;}.ep .ey{background-color:transparent;color:#4b4f56;display:block;padding:0;width:100%;}.et .s{display:block;}.ep .er .ez{padding:2px;}.ep .er .et{padding:4px;}.b .ep .er{border:1px solid #8d949e;}.be{padding-bottom:1px;}.bf{display:inline-block;font-size:small;padding:2px 4px 2px;}/*]]>*/</style><link crossorigin=\"use-credentials\" href=\"/data/manifest/\" rel=\"manifest\"/></head><body class=\"b c d e\" tabindex=\"0\"><div class=\"f\"><div id=\"viewport\"><div class=\"g h\" id=\"MChromeHeader\"><div class=\"i j\" id=\"header\" role=\"banner\"><form action=\"/search/\" class=\"k l\" method=\"get\"><input name=\"search\" type=\"hidden\" value=\"Search\"/><input name=\"search_source\" type=\"hidden\" value=\"top_nav\"/><table class=\"m\" role=\"presentation\"><tbody><tr><td class=\"n\"><a class=\"o p q\" href=\"/home.php?ref_component=mbasic_home_logo&amp;ref_page=%2Fwap%2Fprofile_timeline.php%3Ainfo\"><img alt=\"Facebook logo\" class=\"r s\" height=\"20\" src=\"https://static.xx.fbcdn.net/rsrc.php/v3/ym/r/Gjhrhb7r0lb.png\" width=\"20\"/></a></td><td class=\"t u\"><input autocomplete=\"off\" autocorrect=\"off\" class=\"v w x\" name=\"query\" placeholder=\"Search Facebook\" spellcheck=\"false\" type=\"text\"/></td><td class=\"n y\"><input class=\"z ba bb bc bd\" type=\"submit\" value=\"Search\"/></td></tr></tbody></table></form><nav class=\"be\"><a class=\"bf bg\" href=\"/home.php?ref_component=mbasic_home_header&amp;ref_page=%2Fwap%2Fprofile_timeline.php%3Ainfo\">Home</a><a class=\"bf bg\" href=\"/zabair.abubakar.1?v=info&amp;ref_component=mbasic_home_header&amp;ref_page=%2Fwap%2Fprofile_timeline.php%3Ainfo\">Edit Profile</a><a accesskey=\"4\" class=\"bf bg\" href=\"/messages/?ref_component=mbasic_home_header&amp;ref_page=%2Fwap%2Fprofile_timeline.php%3Ainfo\">Messages</a><a accesskey=\"3\" class=\"bf bg\" href=\"/notifications.php?ref_component=mbasic_home_header&amp;ref_page=%2Fwap%2Fprofile_timeline.php%3Ainfo\">Notifications</a><a accesskey=\"6\" class=\"bf bg\" href=\"/buddylist.php?ref_component=mbasic_home_header&amp;ref_page=%2Fwap%2Fprofile_timeline.php%3Ainfo\">Chat</a><a accesskey=\"2\" class=\"bf bg\" href=\"/friends/center/mbasic/?fb_ref=tn&amp;sr=1&amp;ref_component=mbasic_home_header&amp;ref_page=%2Fwap%2Fprofile_timeline.php%3Ainfo\">Find Friends</a><a class=\"bf bg\" href=\"/pages/?ref_component=mbasic_home_header&amp;ref_page=%2Fwap%2Fprofile_timeline.php%3Ainfo\">Pages</a><a class=\"bf bg\" href=\"/groups/?category=membership&amp;ref_component=mbasic_home_header&amp;ref_page=%2Fwap%2Fprofile_timeline.php%3Ainfo\">Groups</a><div class=\"bf\" style=\"display:block;height:0;overflow:hidden;position:absolute;width:0;padding:0\"><a aria-label=\"Groups\" href=\"/groups/?category=membership&amp;a_type=sr\" tabindex=\"-1\"> </a><a aria-label=\"Events\" href=\"/events/?a_type=sr\" tabindex=\"-1\"> </a><a aria-label=\"Notes\" href=\"/notes/?a_type=sr\" tabindex=\"-1\"> </a><a aria-label=\"Saved\" href=\"/saved/?a_type=sr\" tabindex=\"-1\"> </a><a aria-label=\"Settings &amp; privacy\" href=\"/settings/?a_type=sr\" tabindex=\"-1\"> </a><a aria-label=\"Help\" href=\"/help/?a_type=sr\" tabindex=\"-1\"> </a></div><a class=\"bf bg\" href=\"/coronavirus_info/?page_source=tab&amp;ref_component=mbasic_home_header&amp;ref_page=%2Fwap%2Fprofile_timeline.php%3Ainfo\">COVID-19</a><a accesskey=\"5\" class=\"bf bg\" href=\"/menu/bookmarks/?ref_component=mbasic_home_header&amp;ref_page=%2Fwap%2Fprofile_timeline.php%3Ainfo\">Menu</a></nav></div></div><div id=\"objects_container\"><div class=\"bh\" id=\"root\" role=\"main\"><div class=\"bi bj\"><div class=\"bk\"><div><div class=\"bl bm\"><div class=\"bn\" id=\"profile_cover_photo_container\"><a class=\"bo bp bq br\" href=\"/photo.php?fbid=131335317281201&amp;id=100012142007594&amp;set=a.131269013954498&amp;source=44\" title=\"Cover Photo: Muhammad Mushtaq's photo, of Muhammad Mushtaq.\"><img class=\"bs bt bu s\" height=\"200\" src=\"https://scontent.fkhi2-1.fna.fbcdn.net/v/t31.0-0/cp0/e15/q65/c0.58.987.329a/s600x600/13235481_131335317281201_3236285536358550387_o.jpg?_nc_cat=101&amp;_nc_sid=3346a0&amp;efg=eyJpIjoiYiJ9&amp;_nc_oc=AQnIsu0C1Pi6r0orxNvv6oFH1JDG2cZ_YJ0d3dOpHqU4GsvnO1SMc3lR8qnhkOI78lI&amp;_nc_ht=scontent.fkhi2-1.fna&amp;oh=f035765bf3ee201cd599606bf5f5442f&amp;oe=5EFC4D33\" width=\"320\"/></a></div></div></div><div class=\"bv bw bx\"><div><div class=\"by\"><div class=\"bz ca\"><a href=\"/photo.php?fbid=131261893955210&amp;id=100012142007594&amp;set=a.131261917288541\" id=\"u_0_3\"><img alt=\"Muhammad Mushtaq, profile picture\" class=\"cb s\" src=\"https://scontent.fkhi2-1.fna.fbcdn.net/v/t31.0-1/cp0/e15/q65/p74x74/13268577_131261893955210_3674333803732760155_o.jpg?_nc_cat=101&amp;_nc_sid=dbb9e7&amp;efg=eyJpIjoiYiJ9&amp;_nc_oc=AQnvBdh2KgaFq1uqJ0ejvjZGdZP5NBPiVuVs-VienbK_cpXlsgF4Wy-2vSMyoOPuP3I&amp;_nc_ht=scontent.fkhi2-1.fna&amp;_nc_tp=3&amp;oh=ea078d3a798e44aff6604609eab567e8&amp;oe=5EFD3CFA\"/></a></div></div><span><div class=\"cc\"><span><strong class=\"cd\">Muhammad Mushtaq</strong></span></div><span class=\"ce cf\"><span><div class=\"cg ch\" id=\"u_0_9\" role=\"heading\"><img aria-level=\"4\" class=\"ci s\" height=\"14\" role=\"presentation\" src=\"https://static.xx.fbcdn.net/rsrc.php/v3/yS/r/1HRQT0OcHKI.png\" width=\"12\"/><span class=\"cj ce\">Associate Professor of Law at <a class=\"ck\" href=\"/International-Islamic-University-Islamabad-Pakistan-55865498363/\">International Islamic University Islamabad, Pakistan</a></span><div class=\"cl\"></div></div><div class=\"cg ch\" id=\"u_0_a\" role=\"heading\"><img aria-level=\"4\" class=\"ci s\" height=\"14\" role=\"presentation\" src=\"https://static.xx.fbcdn.net/rsrc.php/v3/yr/r/kkE5oR4elmj.png\" width=\"12\"/><span class=\"cj ce\">Studied LLB,LLM,PhD Law at <a class=\"ck\" href=\"/iiui2012/\">International Islamic University Islamabad</a></span><div class=\"cl\"></div></div></span></span></span></div></div><div class=\"cm\"><table class=\"cn\"><tbody><tr><td><a class=\"co cp\" href=\"/messages/thread/100012142007594/?entrypoint=profile_message_button\">Message</a></td><td><a class=\"co cp\" href=\"/a/subscribe.php?id=100012142007594&amp;gfid=AQAkOu6YKC1JYP0x\">Follow</a></td><td><a class=\"co cp\" href=\"/mbasic/more/?owner_id=100012142007594\">More</a></td></tr></tbody></table></div><div class=\"cq f cf\"><a class=\"cr\" href=\"/MMushtaqYusufzai?v=timeline&amp;lst=100052037981133%3A100012142007594%3A1591195897\">Timeline</a> · <a class=\"cr\" href=\"/MMushtaqYusufzai/photos?lst=100052037981133%3A100012142007594%3A1591195897\">Photos</a> · <a class=\"cr\" href=\"/MMushtaqYusufzai?v=likes&amp;lst=100052037981133%3A100012142007594%3A1591195897\">Likes</a></div></div><div class=\"cs\"><div id=\"work\"><div class=\"ct\"><header class=\"cu cv cw cx cy\"><table class=\"cz da\"><tbody><tr><td aria-hidden=\"false\" class=\"t db dc\"><div class=\"dd\" role=\"heading\" tabindex=\"0\"><span class=\"de\">Work</span></div></td><td class=\"t df dc\"><div></div></td></tr></tbody></table></header><div class=\"dg dh\"><div class=\"di dj\" id=\"u_0_5\"><div class=\"cg dk\"><a class=\"ci\" href=\"/International-Islamic-University-Islamabad-Pakistan-55865498363/\"><img alt=\"International Islamic University Islamabad, Pakistan, profile picture\" class=\"dl dm cb s\" src=\"https://scontent.fkhi2-1.fna.fbcdn.net/v/t31.0-1/cp0/e15/q65/c18.4.48.48a/p56x56/219225_10150167420208364_2754832_o.jpg?_nc_cat=102&amp;_nc_sid=dbb9e7&amp;efg=eyJpIjoiYiJ9&amp;_nc_oc=AQkLNrOyJO7WZvVCB2yKbyH1Y7By5pXWaZ8jXFqKO92kCzpzwAp3dRQJuCFzsBEdT3E&amp;_nc_ht=scontent.fkhi2-1.fna&amp;_nc_tp=5&amp;oh=89c6fc81e45c8794f270e4120219fd41&amp;oe=5EFC6E5A\"/></a><div class=\"dn cj\"><div><span class=\"do dp cu dq\"><a class=\"ck\" href=\"/International-Islamic-University-Islamabad-Pakistan-55865498363/\">International Islamic University Islamabad, Pakistan</a></span></div><div><span class=\"dr ds\">Associate Professor of Law</span></div></div><div class=\"cl\"></div></div></div><div class=\"di dj\" id=\"u_0_6\"><div class=\"cg dk\"><a class=\"ci\" href=\"/iiu.isbpk/\"><img alt=\"International Islamic University, Islamabad (IIUI), profile picture\" class=\"dl dm cb s\" src=\"https://scontent.fkhi2-1.fna.fbcdn.net/v/t1.0-1/cp0/e15/q65/p48x48/13015610_1141628545899991_8577895390328161620_n.jpg?_nc_cat=103&amp;_nc_sid=dbb9e7&amp;efg=eyJpIjoiYiJ9&amp;_nc_oc=AQkEtAppeAhZBy-Zhbh9aP4-N7PemRCDbVNBxob5ZsUrMPbCQVrKEnM4fsOyljntEdA&amp;_nc_ht=scontent.fkhi2-1.fna&amp;_nc_tp=3&amp;oh=c5992e68f770075aac8f289f10742ac3&amp;oe=5EFCAEA0\"/></a><div class=\"dn cj\"><div><span class=\"do dp cu dq\"><a class=\"ck\" href=\"/iiu.isbpk/\">International Islamic University, Islamabad (IIUI)</a></span></div><div><span class=\"dr ds\">Former Chairman, Department of Law</span></div><div><span class=\"dr dt\">25 November 2016 - 23 July 2018</span></div><div><span class=\"dr dt\">Islamabad, Pakistan</span></div></div><div class=\"cl\"></div></div></div><div class=\"di dj\" id=\"u_0_7\"><div class=\"cg dk\"><a class=\"ci\" href=\"/UniversityOfPeshawarOfficialPage/\"><img alt=\"University of Peshawar, profile picture\" class=\"dl dm cb s\" src=\"https://scontent.fkhi2-1.fna.fbcdn.net/v/t34.0-1/cp0/e15/q65/p48x48/38987302_2947369691972353_1917815829_n.jpg?_nc_cat=103&amp;_nc_sid=dbb9e7&amp;efg=eyJpIjoiYiJ9&amp;_nc_oc=AQkVmxDPxaqbWQIk4DjKsKHTB_DSH7xFP8tkVxS_maK967ur9WCBYhF2s-_WLCd3aMw&amp;_nc_ht=scontent.fkhi2-1.fna&amp;_nc_tp=3&amp;oh=107404fc544e8574db856f12653afa14&amp;oe=5ED955E3\"/></a><div class=\"dn cj\"><div><span class=\"do dp cu dq\"><a class=\"ck\" href=\"/UniversityOfPeshawarOfficialPage/\">University of Peshawar</a></span></div><div><span class=\"dr ds\">Lecturer</span></div><div><span class=\"dr dt\">14 June 2002 - 7 December 2005</span></div><div><span class=\"dr dt\">Peshawar, Pakistan</span></div></div><div class=\"cl\"></div></div></div><div class=\"di dj\" id=\"u_0_8\"><div class=\"cg dk\"><a class=\"ci\" href=\"/profile.php?id=146981828726887\"><img alt=\"Peshawar High Court, profile picture\" class=\"dl dm cb s\" src=\"https://scontent.fkhi2-1.fna.fbcdn.net/v/t1.0-1/cp0/e15/q65/c24.0.48.48a/p48x48/1528719_588015751268026_1662959940_n.jpg?_nc_cat=103&amp;_nc_sid=dbb9e7&amp;efg=eyJpIjoiYiJ9&amp;_nc_oc=AQmvuVIz49kdxYdIWFp3_CfAMCDIDdMOqxrB_7ICeld_Qu8ou-fpu1NRnySfkkm2Cac&amp;_nc_ht=scontent.fkhi2-1.fna&amp;_nc_tp=5&amp;oh=8a8a347ed6acd541e8ea674aaf723507&amp;oe=5EFDD60C\"/></a><div class=\"dn cj\"><div><span class=\"do dp cu dq\"><a class=\"ck\" href=\"/profile.php?id=146981828726887\">Peshawar High Court</a></span></div><div><span class=\"dr ds\">Civil Judge/Judicial Magistrate</span></div><div><span class=\"dr dt\">May 2002 - June 2002</span></div><div><span class=\"dr dt\">Peshawar, Pakistan</span></div></div><div class=\"cl\"></div></div></div></div></div></div><div id=\"education\"><div class=\"ct\"><header class=\"cu cv cw cx cy\"><table class=\"cz da\"><tbody><tr><td aria-hidden=\"false\" class=\"t db dc\"><div class=\"dd\" role=\"heading\" tabindex=\"0\"><span class=\"de\">Education</span></div></td><td class=\"t df dc\"><div></div></td></tr></tbody></table></header><div class=\"dg dh\"><div class=\"di dj\" id=\"u_0_0\"><div class=\"cg dk\"><a class=\"ci\" href=\"/iiui2012/\"><img alt=\"International Islamic University Islamabad, profile picture\" class=\"dl dm cb s\" src=\"https://scontent.fkhi2-1.fna.fbcdn.net/v/t1.0-1/cp0/e15/q65/c17.4.48.48a/p56x56/558856_128966523927406_278130571_n.jpg?_nc_cat=100&amp;_nc_sid=dbb9e7&amp;efg=eyJpIjoiYiJ9&amp;_nc_oc=AQkenTInp038jfuJwLcixj6QktCt00mixeqZcfAAEwAJUe2UyKCE9-mnExcyuSMgPMU&amp;_nc_ht=scontent.fkhi2-1.fna&amp;_nc_tp=5&amp;oh=11b9b93265cb60d2e0a2b869e9b9d1bb&amp;oe=5EFDE034\"/></a><div class=\"dn cj\"><div class=\"du\"><div><span class=\"do dp cu dq\"><a class=\"ck\" href=\"/iiui2012/\">International Islamic University Islamabad</a></span></div></div><div><span class=\"dr ds\"><span class=\"dv ce cf\">LLB,LLM,PhD Law</span></span></div><div><span class=\"dr dt\">School year 2015</span></div></div><div class=\"cl\"></div></div></div><div class=\"di dj\" id=\"u_0_1\"><div class=\"cg dk\"><a class=\"ci\" href=\"/profile.php?id=108585652506506\"><img alt=\"PAF College Risalpur, profile picture\" class=\"dl dm cb s\" src=\"https://scontent.fkhi2-1.fna.fbcdn.net/v/t1.30497-1/cp0/c14.0.48.48a/p48x48/84687230_2222103328096112_4091110349787365376_n.png?_nc_cat=1&amp;_nc_sid=dbb9e7&amp;efg=eyJpIjoiYiJ9&amp;_nc_oc=AQkRL9tfMhV2YnmZhU6j7zPm8fyLvjOHRvSrQF_4mc8tMZx3NGd40dnHVBjilASoC1Q&amp;_nc_ht=scontent.fkhi2-1.fna&amp;oh=2e5d1ee1999cc6052716358bc49654a0&amp;oe=5EFC32D7\"/></a><div class=\"dn cj\"><div class=\"du\"><div><span class=\"do dp cu dq\"><a class=\"ck\" href=\"/profile.php?id=108585652506506\">PAF College Risalpur</a></span></div></div><div><span class=\"dr ds\">High School</span></div><div><span class=\"dr dt\">School year 1995</span></div></div><div class=\"cl\"></div></div></div><div class=\"di dj\" id=\"u_0_2\"><div class=\"cg dk\"><a class=\"ci\" href=\"/profile.php?id=540605992647345\"><img alt=\"Government High School No 2 Mardan, profile picture\" class=\"dl dm cb s\" src=\"https://scontent.fkhi2-1.fna.fbcdn.net/v/t1.30497-1/cp0/c14.0.48.48a/p48x48/84687230_2222103328096112_4091110349787365376_n.png?_nc_cat=1&amp;_nc_sid=dbb9e7&amp;efg=eyJpIjoiYiJ9&amp;_nc_oc=AQkRL9tfMhV2YnmZhU6j7zPm8fyLvjOHRvSrQF_4mc8tMZx3NGd40dnHVBjilASoC1Q&amp;_nc_ht=scontent.fkhi2-1.fna&amp;oh=2e5d1ee1999cc6052716358bc49654a0&amp;oe=5EFC32D7\"/></a><div class=\"dn cj\"><div class=\"du\"><div><span class=\"do dp cu dq\"><a class=\"ck\" href=\"/profile.php?id=540605992647345\">Government High School No 2 Mardan</a></span></div></div><div><span class=\"dr ds\">High School</span></div><div><span class=\"dr dt\">1987 - 1992</span></div></div><div class=\"cl\"></div></div></div></div></div></div></div><div id=\"living\"><div class=\"ct\"><header class=\"cu cv cw cx cy\"><table class=\"cz da\"><tbody><tr><td aria-hidden=\"false\" class=\"t db dc\"><div class=\"dd\" role=\"heading\" tabindex=\"0\"><span class=\"de\">Places lived</span></div></td><td class=\"t df dc\"><div></div></td></tr></tbody></table></header><div class=\"dg dh\"><div class=\"dw dj\" id=\"u_0_4\"><div class=\"di dx\"><table cellpadding=\"0\" cellspacing=\"0\" class=\"dy\"><tbody><tr><td valign=\"top\"><div class=\"ds dz\"><span class=\"de ds ba\">Current City</span></div></td><td class=\"ea\" valign=\"top\"><div class=\"eb\"><a href=\"/profile.php?id=111501225536407\">Islamabad, Pakistan</a></div></td></tr></tbody></table></div></div></div></div></div><div id=\"contact-info\"><div class=\"ct\"><header class=\"cu cv cw cx cy\"><table class=\"cz da\"><tbody><tr><td aria-hidden=\"false\" class=\"t db dc\"><div class=\"dd\" role=\"heading\" tabindex=\"0\"><span class=\"de\">Contact Info</span></div></td><td class=\"t df dc\"><div></div></td></tr></tbody></table></header><div class=\"dg dh\"><div class=\"di dj dx\"><table cellpadding=\"0\" cellspacing=\"0\" class=\"dy\"><tbody><tr><td valign=\"top\"><div class=\"ds dz\"><span class=\"de ds ba\">Facebook</span></div></td><td class=\"ea\" valign=\"top\"><div class=\"eb\"> /MMushtaqYusufzai</div></td></tr></tbody></table></div></div></div></div><div id=\"basic-info\"><div class=\"ct\"><header class=\"cu cv cw cx cy\"><table class=\"cz da\"><tbody><tr><td aria-hidden=\"false\" class=\"t db dc\"><div class=\"dd\" role=\"heading\" tabindex=\"0\"><span class=\"de\">Basic info</span></div></td><td class=\"t df dc\"><div></div></td></tr></tbody></table></header><div class=\"dg dh\"><div class=\"di dj dx\"><table cellpadding=\"0\" cellspacing=\"0\" class=\"dy\"><tbody><tr><td valign=\"top\"><div class=\"ds dz\"><span class=\"de ds ba\">Gender</span></div></td><td class=\"ea\" valign=\"top\"><div class=\"eb\">Male</div></td></tr></tbody></table></div></div></div></div><div id=\"family\"><div class=\"ct\"><header class=\"cu cv cw cx cy\"><table class=\"cz da\"><tbody><tr><td aria-hidden=\"false\" class=\"t db dc\"><div class=\"dd\" role=\"heading\" tabindex=\"0\"><span class=\"de\">Family Members</span></div></td><td class=\"t df dc\"><div></div></td></tr></tbody></table></header><div class=\"dg dh\"><div class=\"cg ec dj\"><a class=\"ci\" href=\"/profile.php?id=100010860579642\"><img alt=\"M-Yahya Mushtaq, profile picture\" class=\"dl ed cb s\" src=\"https://scontent.fkhi2-1.fna.fbcdn.net/v/t1.0-1/cp0/e15/q65/p48x48/76732172_959460211092656_4044469616292921344_n.jpg?_nc_cat=111&amp;_nc_sid=dbb9e7&amp;efg=eyJpIjoiYiJ9&amp;_nc_oc=AQmMVe0wdTJVrTPyF6T7mNYPBHl7WuwVAWrbJ6Ieuw5ohxXWkqK5K8TyUgkr2B0MbEc&amp;_nc_ht=scontent.fkhi2-1.fna&amp;_nc_tp=3&amp;oh=cec46c3ac6f672bf342d5f3736f00f75&amp;oe=5EFC8474\"/></a><header class=\"cj\"><h3><a href=\"/profile.php?id=100010860579642\">M-Yahya Mushtaq</a></h3><h3 class=\"ds ba\">Son</h3></header><div class=\"cl\"></div></div></div></div></div><div id=\"year-overviews\"><div class=\"ct\"><header class=\"cu cv cw cx cy\"><table class=\"cz da\"><tbody><tr><td aria-hidden=\"false\" class=\"t db dc\"><div class=\"dd\" role=\"heading\" tabindex=\"0\"><span class=\"de\">Life events</span></div></td><td class=\"t df dc\"><div></div></td></tr></tbody></table></header><div class=\"dg dh\"><div class=\"dj\"><div></div><div></div><div></div><div><div class=\"ee ef eg\"><div class=\"eh ei\">2018</div><div class=\"cg ej ek\"><img class=\"ci s\" height=\"16\" src=\"https://static.xx.fbcdn.net/rsrc.php/v3/yC/r/X8CL16iDJ-5.png\" width=\"16\"/><div class=\"el cj\"><a href=\"/MMushtaqYusufzai/timeline/story?ut=32&amp;wstart=-2051193600&amp;wend=2147483647&amp;hash=256574011423997&amp;pagefilter=3\">Left Job at International Islamic University, Islamabad (IIUI)</a></div><div class=\"cl\"></div></div></div></div><div></div><div><div class=\"ee ef eg\"><div class=\"eh ei\">2016</div><div class=\"cg ej ek\"><img class=\"ci s\" height=\"16\" src=\"https://static.xx.fbcdn.net/rsrc.php/v3/yC/r/X8CL16iDJ-5.png\" width=\"16\"/><div class=\"el cj\"><a href=\"/MMushtaqYusufzai/timeline/story?ut=32&amp;wstart=-2051193600&amp;wend=2147483647&amp;hash=256574011423997&amp;pagefilter=3&amp;ustart=1\">Started new job at International Islamic University, Islamabad (IIUI)</a></div><div class=\"cl\"></div></div></div></div><div><div class=\"ee ef eg\"><div class=\"eh ei\">2015</div><div class=\"cg ej ek\"><img class=\"ci s\" height=\"16\" src=\"https://static.xx.fbcdn.net/rsrc.php/v3/yg/r/BVtZPN7hfOz.png\" width=\"16\"/><div class=\"el cj\"><a href=\"/MMushtaqYusufzai/timeline/story?ut=32&amp;wstart=-2051193600&amp;wend=2147483647&amp;hash=131202380627828&amp;pagefilter=3\">Graduated from International Islamic University Islamabad</a></div><div class=\"cl\"></div></div></div></div><div></div><div></div><div><div class=\"ee ef eg\"><div class=\"eh ei\">2005</div><div class=\"cg ej ek\"><img class=\"ci s\" height=\"16\" src=\"https://static.xx.fbcdn.net/rsrc.php/v3/yC/r/X8CL16iDJ-5.png\" width=\"16\"/><div class=\"el cj\"><a href=\"/MMushtaqYusufzai/timeline/story?ut=32&amp;wstart=-2051193600&amp;wend=2147483647&amp;hash=131210137293719&amp;pagefilter=3\">Left Job at University of Peshawar</a></div><div class=\"cl\"></div></div></div></div><div><div class=\"ee ef eg\"><div class=\"eh ei\">2002</div><div class=\"cg ej ek\"><img class=\"ci s\" height=\"16\" src=\"https://static.xx.fbcdn.net/rsrc.php/v3/yC/r/X8CL16iDJ-5.png\" width=\"16\"/><div class=\"el cj\"><a href=\"/MMushtaqYusufzai/timeline/story?ut=32&amp;wstart=-2051193600&amp;wend=2147483647&amp;hash=131210137293719&amp;pagefilter=3&amp;ustart=1\">Started new job at University of Peshawar</a></div><div class=\"cl\"></div></div><div class=\"cg ej ek\"><img class=\"ci s\" height=\"16\" src=\"https://static.xx.fbcdn.net/rsrc.php/v3/yC/r/X8CL16iDJ-5.png\" width=\"16\"/><div class=\"el cj\"><a href=\"/MMushtaqYusufzai/timeline/story?ut=32&amp;wstart=-2051193600&amp;wend=2147483647&amp;hash=256574938090571&amp;pagefilter=3&amp;ustart=1\">Worked at Peshawar High Court</a></div><div class=\"cl\"></div></div></div></div><div><div class=\"ee ef eg\"><div class=\"eh ei\">1994</div><div class=\"cg ej ek\"><img class=\"ci s\" height=\"16\" src=\"https://static.xx.fbcdn.net/rsrc.php/v3/yg/r/BVtZPN7hfOz.png\" width=\"16\"/><div class=\"el cj\"><a href=\"/MMushtaqYusufzai/timeline/story?ut=32&amp;wstart=-2051193600&amp;wend=2147483647&amp;hash=131202380627828&amp;pagefilter=3&amp;ustart=1\">Started studying at International Islamic University Islamabad</a></div><div class=\"cl\"></div></div></div></div><div><div class=\"ee ef eg\"><div class=\"eh ei\">1992</div><div class=\"cg ej ek\"><img class=\"ci s\" height=\"16\" src=\"https://static.xx.fbcdn.net/rsrc.php/v3/yg/r/BVtZPN7hfOz.png\" width=\"16\"/><div class=\"el cj\"><a href=\"/MMushtaqYusufzai/timeline/story?ut=32&amp;wstart=-2051193600&amp;wend=2147483647&amp;hash=175849096163156&amp;pagefilter=3&amp;ustart=1\">Started studying at PAF College Risalpur</a></div><div class=\"cl\"></div></div><div class=\"cg ej ek\"><img class=\"ci s\" height=\"16\" src=\"https://static.xx.fbcdn.net/rsrc.php/v3/yg/r/BVtZPN7hfOz.png\" width=\"16\"/><div class=\"el cj\"><a href=\"/MMushtaqYusufzai/timeline/story?ut=32&amp;wstart=-2051193600&amp;wend=2147483647&amp;hash=131205050627561&amp;pagefilter=3\">Left Government High School No 2 Mardan</a></div><div class=\"cl\"></div></div></div></div><div><div class=\"ee ef eg\"><div class=\"eh ei\">1987</div><div class=\"cg ej ek\"><img class=\"ci s\" height=\"16\" src=\"https://static.xx.fbcdn.net/rsrc.php/v3/yg/r/BVtZPN7hfOz.png\" width=\"16\"/><div class=\"el cj\"><a href=\"/MMushtaqYusufzai/timeline/story?ut=32&amp;wstart=-2051193600&amp;wend=2147483647&amp;hash=131205050627561&amp;pagefilter=3&amp;ustart=1\">Started studying at Government High School No 2 Mardan</a></div><div class=\"cl\"></div></div></div></div><div></div></div></div></div></div><a name=\"footer-actions-basic\"></a><div class=\"bw em\"><a name=\"footer-actions-basic\"></a><a href=\"/privacy/touch/block/confirm/?bid=100012142007594&amp;ret_cancel&amp;source=profile\">Block this person</a><br/><a href=\"/rapid_report/?context=%7B%22session_id%22%3A%22ab360cb2-8493-4eff-aa65-39ed8d2ba113%22%2C%22type%22%3A2%2C%22story_location%22%3A%22profile_someone_else%22%2C%22entry_point%22%3A%22profile_report_button%22%2C%22entry_point_uri%22%3A%22%5C%2FMMushtaqYusufzai%3Flst%3D100052037981133%5Cu00253A100012142007594%5Cu00253A1591195897%22%2C%22reportable_ent_token%22%3A%22100012142007594%22%7D&amp;av=100052037981133\">Find support or report profile</a></div></div><div style=\"display:none\"><div></div><div></div></div></div></div><div class=\"ct\"><div class=\"en eo\"><div id=\"search_div\"><form action=\"/search/\" method=\"get\"><input name=\"search\" type=\"hidden\"/><input name=\"search_source\" type=\"hidden\" value=\"footer\"/><div class=\"ep eq\"><table class=\"m er es\" role=\"presentation\"><tbody><tr><td class=\"n et eu\"><label for=\"u_0_b\"><img class=\"ev s\" height=\"20\" role=\"presentation\" src=\"https://static.xx.fbcdn.net/rsrc.php/v3/yC/r/hwCZEAcHQnm.png\" width=\"20\"/></label></td><td class=\"t ew eu\"><input aria-label=\"Search\" class=\"v cw ex ey\" id=\"u_0_b\" name=\"query\" type=\"text\"/></td><td class=\"n ez eu\"><input class=\"z ba bb fa bd\" type=\"submit\" value=\"Search\"/></td></tr></tbody></table></div></form></div><table class=\"m\" role=\"presentation\"><tbody><tr><td class=\"t fb\" style=\"width:50%\"><a class=\"fc\" href=\"/pages/create/?ref_type=site_footer&amp;ref_component=mbasic_footer&amp;ref_page=%2Fwap%2Fprofile_timeline.php%3Ainfo\">Create Page</a><a accesskey=\"0\" class=\"fc\" href=\"/help/?ref_component=mbasic_footer&amp;ref_page=%2Fwap%2Fprofile_timeline.php%3Ainfo\">Help</a><a accesskey=\"7\" class=\"fc\" href=\"/settings/?entry_point=mbasic_footer_link&amp;ref_component=mbasic_footer&amp;ref_page=%2Fwap%2Fprofile_timeline.php%3Ainfo\">Settings &amp; privacy</a></td><td class=\"t fd\" style=\"width:50%\"><a class=\"fc\" href=\"/bugnub/?source=Footer&amp;ref_component=mbasic_footer&amp;ref_page=%2Fwap%2Fprofile_timeline.php%3Ainfo\">Report a Problem</a><a accesskey=\"8\" class=\"fc\" href=\"/policies/?ref_component=mbasic_footer&amp;ref_page=%2Fwap%2Fprofile_timeline.php%3Ainfo\">Terms &amp; Policies</a><a class=\"fc\" href=\"/logout.php?h=Afdr946HMm1hKIIt&amp;t=1591195897&amp;button_name=logout&amp;button_location=footer&amp;source=mbasic_logout_button&amp;ref_component=mbasic_footer&amp;ref_page=%2Fwap%2Fprofile_timeline.php%3Ainfo\" id=\"mbasic_logout_button\">Log Out (Zabair Abubakar)</a></td></tr></tbody></table><a class=\"fe\" href=\"#header\">Back to Top</a></div></div></div></div></body></html>"
      ]
     },
     "execution_count": 9,
     "metadata": {},
     "output_type": "execute_result"
    }
   ],
   "source": [
    "# s.select(\"a\")\n",
    "str(s).cou"
   ]
  },
  {
   "cell_type": "code",
   "execution_count": 8,
   "metadata": {},
   "outputs": [],
   "source": [
    "s = BeautifulSoup(browser.page_source, \"lxml\")\n",
    "\n",
    "for i in s.find(\"div\", {\"class\" : \"cq f cf\"}):#.select(\"a\", {\"class\" : \"cv\"}):\n",
    "    try: \n",
    "        link_ = i.find(\"a\")['href']\n",
    "        print(link_)\n",
    "        if \"timeline&lst\" in link_:\n",
    "            time_line_link = fb_base_url.strip(\"/\") + link_\n",
    "#             print(time_line_link)\n",
    "            break\n",
    "    except: \n",
    "        pass\n",
    "\n",
    "# try:\n",
    "#     pages_links = [time_line_link]\n",
    "# except:\n",
    "#     Errors_dict[\"timeline linke not found\"].append(fb)"
   ]
  },
  {
   "cell_type": "code",
   "execution_count": null,
   "metadata": {},
   "outputs": [],
   "source": [
    "\n",
    "\n",
    "\n",
    "c = 0\n",
    "while c < qty_of_pages: # only first few pages\n",
    "    c += 1 \n",
    "    get_next_page_link(pages_links[-1])\n",
    "    time.sleep(2)\n",
    "    if next_page_error > 2:\n",
    "        break\n",
    "pickle.dump(pages_links,  open(f\"{folder_name}/LINKS.pkl\", \"wb\"))\n",
    "print(f\"*************************** Succussfully COMPLETED {fb}\")"
   ]
  }
 ],
 "metadata": {
  "kernelspec": {
   "display_name": "Python 3",
   "language": "python",
   "name": "python3"
  },
  "language_info": {
   "codemirror_mode": {
    "name": "ipython",
    "version": 3
   },
   "file_extension": ".py",
   "mimetype": "text/x-python",
   "name": "python",
   "nbconvert_exporter": "python",
   "pygments_lexer": "ipython3",
   "version": "3.6.9"
  }
 },
 "nbformat": 4,
 "nbformat_minor": 4
}
