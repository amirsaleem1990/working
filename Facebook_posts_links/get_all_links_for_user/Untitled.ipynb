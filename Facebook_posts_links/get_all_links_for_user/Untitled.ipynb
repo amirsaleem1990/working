{
 "cells": [
  {
   "cell_type": "code",
   "execution_count": 21,
   "metadata": {},
   "outputs": [
    {
     "name": "stdout",
     "output_type": "stream",
     "text": [
      "Attempting to Login 19:53:41\n",
      "Successfully Logged in 19:54:12\n"
     ]
    }
   ],
   "source": [
    "import os\n",
    "import time\n",
    "import pickle\n",
    "import requests\n",
    "from bs4 import BeautifulSoup\n",
    "from selenium import webdriver\n",
    "import numpy as np\n",
    "import time\n",
    "import datetime\n",
    "from selenium.webdriver.common.keys import Keys\n",
    "from selenium.webdriver.firefox.options import Options\n",
    "options = Options()\n",
    "options.add_argument(\"--headless\")\n",
    "\n",
    "os.chdir(\"/home/amir/github/working/Facebook_posts_links/\")\n",
    "\n",
    "os.system(\"clear\")\n",
    "\n",
    "def current_time():\n",
    "\tn = datetime.datetime.now()\n",
    "\tt = ':'.join([str(i) for i in [n.hour, n.minute, n.second]])\n",
    "\ttt = \"\"\n",
    "\tfor i in t.split(\":\"):\n",
    "\t\tif len(i) == 1:\n",
    "\t\t\ttt += \"0\" + i\n",
    "\t\telse:\n",
    "\t\t\ttt += i\n",
    "\t\ttt += \":\"\n",
    "\ttt = tt.strip(\":\")\n",
    "\treturn tt\n",
    "\n",
    "with open(\"All_FB_links_names_corrected.pkl\", \"rb\") as file:\n",
    "    all_links = pickle.load(file)\n",
    "\n",
    "stored_links_qty = sum([len(all_links[i]) for i in all_links])    \n",
    "\n",
    "with open(\"/home/amir/github/Amir-personal/facebook-userName-and-password.txt\", \"r\") as file:\n",
    "    usrname, pas = file.read().splitlines()\n",
    "\n",
    "print(\"Attempting to Login\", current_time())\n",
    "browser = webdriver.Firefox(executable_path=\"/home/amir/github/working/Facebook_posts_links/geckodriver\")\n",
    "#browser = webdriver.Firefox(executable_path = \"/home/amir/github/working/Facebook_posts_links/geckodriver\", options=options)\n",
    "#navigates you to the facebook page.\n",
    "browser.get('https://m.facebook.com/')\n",
    "\n",
    "#find the username field and enter the email example@yahoo.com.\n",
    "time.sleep(np.random.randint(3, 6))\n",
    "username = browser.find_elements_by_css_selector(\"input[name=email]\")\n",
    "username[0].send_keys(usrname)\n",
    "\n",
    "\n",
    "#find the password field and enter the password password.\n",
    "time.sleep(np.random.randint(3, 6))\n",
    "password = browser.find_elements_by_css_selector(\"input[name=pass]\")\n",
    "password[0].send_keys(pas)\n",
    "\n",
    "\n",
    "#find the login button and click it.\n",
    "time.sleep(np.random.randint(3, 6))\n",
    "loginButton = browser.find_elements_by_css_selector(\"input[type=submit]\")\n",
    "loginButton[0].click()\n",
    "\n",
    "#find the OK button and click it.\n",
    "time.sleep(np.random.randint(3, 6))\n",
    "loginButton = browser.find_elements_by_css_selector(\"input[type=submit]\")\n",
    "loginButton[0].click()\n",
    "\n",
    "\n",
    "print(\"Successfully Logged in\", current_time())\n",
    "FB = [\"MMushtaqYusufzai\", \t\t\t\t\t# Muhammad Mushtaq\n",
    "\t\t\"asif.mahmood.1671\", \t\t\t\t# asif mahmood\n",
    "\t\t\"zahid.mughal.5895\", \t\t\t\t# zahid mughal\n",
    "\t\t\"mohammad.f.haris\", \t\t\t\t# mohammad fahad haris\n",
    "\t\t\"abdullah.adam49\", \t\t\t\t\t# abdullah adam \n",
    "\t\t\"hm.zubair.52\", \t\t\t\t\t# Hm Zubair \n",
    "\t\t\"abumaryam82\",  \t\t\t\t\t# Muhammad Imran (Blocked)\n",
    "\t\t\"yaldrim.khalid.9\", \t\t\t\t# Muhammad Imran\n",
    "\t\t\"munib.hussain86\", \t\t\t\t\t# munib hussain \n",
    "\t\t\"jameelbaloch1924\", \t\t\t\t# jameel baloch \n",
    "\t\t\"theguided1\",  \t\t\t\t\t\t# Rizwan Asad Khan\n",
    "\t\t\"abubakr.quddusi.3\", \t\t\t\t# abubakr quddusi \n",
    "\t\t\"mohammaddin.jauhar.7\", \t\t\t# mohammad din jauhar \n",
    "\t\t\"Riayat.Farooqui\",  \t\t\t\t# riayatullah farooqui \n",
    "\t\t\"asim.allahbakhsh\", \t\t\t\t# asim allahbakhsh \n",
    "\t\t\"sohaib.naseem.3\", \t\t\t\t\t# صہیب نسیم‎  \n",
    "\t\t\"idreesazaad\", \t\t\t\t\t\t# Idrees Azad ‎\n",
    "\t\t\"Abu.Musab.98622733\", \t\t\t\t# ابو محمد مصعب \n",
    "\t\t\"profile.php?id=100026041448813\", \n",
    "\t\t\"mohammad.saleem.568847\", \t\t\t# mohammad saleem \n",
    "\t\t\"hammad.sarwar.9400\",\n",
    "\t\t\"ajeebscenehaibhai\", \n",
    "\t\t\"nouman.atd.3\", \t\t\t\t\t# Nouman Ihsan\n",
    "\t\t\"profile.php?id=100032249983289\", \t# انس اسلام\n",
    "\t\t\"HamidKamaluddin.personal\", \t\t# Hamid kamaluddin\n",
    "\t\t\"faisal.shahzad.1253236\", \t\t\t# محمد فیصل شہزاد\n",
    "\t\t\"tariq.habib.969952\", \t\t\t\t# tariq habib\n",
    "\t\t\"mahtabaziz\", \t\t\t\t\t\t# mahtab khan\n",
    "\t\t\"suhaib.jamal.1\" \t\t\t\t\t# Suhaib Jamal\n",
    "      ]\n",
    "fb_base_url = 'https://m.facebook.com/'\n",
    "fb = FB[0]\n",
    "complted_url = fb_base_url + fb\n",
    "browser.get(complted_url)\n",
    "s = BeautifulSoup(browser.page_source, \"lxml\")\n",
    "\n",
    "for i in s.select(\"div\", {\"class\" : \"cs g ch\"}):\n",
    "    try:\n",
    "        link = i.find(\"a\")['href']\n",
    "        if link.startswith(\"/MMushtaqYusufzai?v=timeline&lst=\"):\n",
    "            LINK = \"https://mobile.facebook.com\" + link\n",
    "    except:\n",
    "        pass\n",
    "browser.get(LINK)\n",
    "s = BeautifulSoup(browser.page_source, \"lxml\")\n",
    "first_page = \"https://mobile.facebook.com\" + s.find(\"div\", {\"id\" : \"u_0_3\"}).find(\"a\")['href']\n",
    "browser.get(first_page)\n",
    "s_first_page = BeautifulSoup(browser.page_source, \"lxml\")\n",
    "\n",
    "# while True:\n",
    "#     time.sleep(1)\n",
    "    one_page = \"https://mobile.facebook.com\" + s_first_page.find(\"div\", {\"id\" : \"u_0_0\"}).find(\"a\")['href']\n",
    "    browser.get(one_page)\n",
    "    s_page = BeautifulSoup(browser.page_source, \"lxml\")"
   ]
  },
  {
   "cell_type": "code",
   "execution_count": 46,
   "metadata": {},
   "outputs": [],
   "source": [
    "a = s.select(\"div\", {\"class\" : \"bm bn bo\"})\n",
    "# a.find(\"div\", {\"class\" : \"cg ch\"})"
   ]
  },
  {
   "cell_type": "code",
   "execution_count": 49,
   "metadata": {},
   "outputs": [
    {
     "data": {
      "text/plain": [
       "'HomeProfileMessagesNotificationsChat(52)Friends(2)PagesGroups(99)\\xa0\\xa0\\xa0\\xa0\\xa0\\xa0MenuMuhammad MushtaqAssociate Professor of Law at International Islamic University Islamabad, PakistanStudied LLB,LLM,PhD Law at International Islamic University IslamabadAdd FriendMessageMoreAbout · Friends · Photos · LikesMuhammad Mushtaqجنید حفیظ توہین رسالت کیس اور بی بی سی کی رپورٹ  -------- ابھی بی بی سی کی رپورٹ شروع سے آخر تک پڑھی۔ خلاصہ یہ ہے کہ ایک وکیل صفائی قتل کیا گیا،  دوسرے نے بھی درمیان میں چھوڑ دیا،  تیسرے کو بھی دھمکیاں ملیں، تفتیشی افسر تبدیل ہوا، ججز تبدیل ہوئے، (سات سال میں مقدمے کا فیصلہ ہو تو افسر اور جج تبدیل تو ہوں گے)، مقدمہ جیل کے اندر سنا گیا، ملزم کے رشتہ داروں کو یقین نہیں تھا کہ یوں سزا سنائی جائے گی۔ یہ سارا کچھ پڑھ کر مجھے تو معلوم نہیں ہوسکا کہ الزام کیا تھا، شواہد کیا تھے، ملزم کا دفاعی موقف کیا... More3 hrs · Public241 · Like · React · 18 Comments · Share · Full Story · Save · Find Support or Report PostMuhammad Mushtaqکلبھوشن کیس کا ایک اہم نکتہ --------------- اس کیس میں ایک اہم سوال یہ تھا کہ کلبھوشن کو فوجی عدالت نے سزا سنائی ہے تو  کیا اس میں انصاف کے تقاضے پورے کیے گئے یا نہیں؟ بھارت کا موقف یہ تھا کہ سزا عدل و انصاف کے تقاضے پامال کرکے دی گئی ہے۔ پاکستان کا موقف یہ تھا کہ اگر کبھی کسی فوجی عدالت کی جانب سے قانون کے کسی اصول کو نظرانداز کرکے سزا سنائی گئی ہے تو ہمارے اعلی عدالتیں اس سزا کو ختم کردیتی ہیں ۔ اس ضمن میں پاکستان کی جانب سے خصوصاً پشاور ہائی کورٹ کے اس فیصلے کا حوالہ دیا گیا جس میں فوجی... More10 hrs · Public463 · Like · React · 28 Comments · Share · Full Story · Save · Find Support or Report PostMuhammad Mushtaqوکلا صاحبان رہنمائی فرمائیں۔ خصوصی عدالت فیصلہ کرکے سبکدوش ہوچکی۔ اب اس کے جج کی توہین پر کون سی عدالت کارروائی کی مجاز ہے؟20 hrs · Public164 · Like · React · 12 Comments · Share · Full Story · Save · Find Support or Report PostMuhammad Mushtaqحضرت مولانا نے مشرف کے خلاف فیصلے پر کیا ارشاد فرمایا ہے؟ کوئی دوست رہنمائی کرسکیں گے؟Yesterday at 2:08 PM · Public193 · Like · React · 28 Comments · Share · Full Story · Save · Find Support or Report PostMuhammad Mushtaqجسٹس وقار کے خلاف ریفرنس ہو، یا مشرف کے خلاف فیصلے کو منسوخ کرنا ہو، جانا تو عدلیہ کے پاس ہی ہوگا۔Yesterday at 11:55 AM · Public332 · Like · React · 12 Comments · Share · Full Story · Save · Find Support or Report PostSee More Stories20192018201720162015201420132005200219941992198719761969PokeBlock this personFind Support or Report ProfileUnfollowYour PagesHelpSettings & PrivacyReport a ProblemTerms & PoliciesLogout (Amir Saleem)Back To Top'"
      ]
     },
     "execution_count": 49,
     "metadata": {},
     "output_type": "execute_result"
    }
   ],
   "source": [
    "a[0].text"
   ]
  },
  {
   "cell_type": "code",
   "execution_count": null,
   "metadata": {},
   "outputs": [],
   "source": []
  }
 ],
 "metadata": {
  "kernelspec": {
   "display_name": "Python 3",
   "language": "python",
   "name": "python3"
  },
  "language_info": {
   "codemirror_mode": {
    "name": "ipython",
    "version": 3
   },
   "file_extension": ".py",
   "mimetype": "text/x-python",
   "name": "python",
   "nbconvert_exporter": "python",
   "pygments_lexer": "ipython3",
   "version": "3.6.9"
  }
 },
 "nbformat": 4,
 "nbformat_minor": 4
}
