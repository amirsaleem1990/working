{
 "cells": [
  {
   "cell_type": "code",
   "execution_count": 21,
   "metadata": {},
   "outputs": [
    {
     "name": "stdout",
     "output_type": "stream",
     "text": [
      "Attempting to Login 19:53:41\n",
      "Successfully Logged in 19:54:12\n"
     ]
    }
   ],
   "source": [
    "import os\n",
    "import time\n",
    "import pickle\n",
    "import requests\n",
    "from bs4 import BeautifulSoup\n",
    "from selenium import webdriver\n",
    "import numpy as np\n",
    "import time\n",
    "import datetime\n",
    "from selenium.webdriver.common.keys import Keys\n",
    "from selenium.webdriver.firefox.options import Options\n",
    "options = Options()\n",
    "options.add_argument(\"--headless\")\n",
    "\n",
    "os.chdir(\"/home/amir/github/working/Facebook_posts_links/\")\n",
    "\n",
    "os.system(\"clear\")\n",
    "\n",
    "def current_time():\n",
    "\tn = datetime.datetime.now()\n",
    "\tt = ':'.join([str(i) for i in [n.hour, n.minute, n.second]])\n",
    "\ttt = \"\"\n",
    "\tfor i in t.split(\":\"):\n",
    "\t\tif len(i) == 1:\n",
    "\t\t\ttt += \"0\" + i\n",
    "\t\telse:\n",
    "\t\t\ttt += i\n",
    "\t\ttt += \":\"\n",
    "\ttt = tt.strip(\":\")\n",
    "\treturn tt\n",
    "\n",
    "with open(\"All_FB_links_names_corrected.pkl\", \"rb\") as file:\n",
    "    all_links = pickle.load(file)\n",
    "\n",
    "stored_links_qty = sum([len(all_links[i]) for i in all_links])    \n",
    "\n",
    "with open(\"/home/amir/github/Amir-personal/facebook-userName-and-password.txt\", \"r\") as file:\n",
    "    usrname, pas = file.read().splitlines()\n",
    "\n",
    "print(\"Attempting to Login\", current_time())\n",
    "browser = webdriver.Firefox(executable_path=\"/home/amir/github/working/Facebook_posts_links/geckodriver\")\n",
    "#browser = webdriver.Firefox(executable_path = \"/home/amir/github/working/Facebook_posts_links/geckodriver\", options=options)\n",
    "#navigates you to the facebook page.\n",
    "browser.get('https://m.facebook.com/')\n",
    "\n",
    "#find the username field and enter the email example@yahoo.com.\n",
    "time.sleep(np.random.randint(3, 6))\n",
    "username = browser.find_elements_by_css_selector(\"input[name=email]\")\n",
    "username[0].send_keys(usrname)\n",
    "\n",
    "\n",
    "#find the password field and enter the password password.\n",
    "time.sleep(np.random.randint(3, 6))\n",
    "password = browser.find_elements_by_css_selector(\"input[name=pass]\")\n",
    "password[0].send_keys(pas)\n",
    "\n",
    "\n",
    "#find the login button and click it.\n",
    "time.sleep(np.random.randint(3, 6))\n",
    "loginButton = browser.find_elements_by_css_selector(\"input[type=submit]\")\n",
    "loginButton[0].click()\n",
    "\n",
    "#find the OK button and click it.\n",
    "time.sleep(np.random.randint(3, 6))\n",
    "loginButton = browser.find_elements_by_css_selector(\"input[type=submit]\")\n",
    "loginButton[0].click()\n",
    "\n",
    "\n",
    "print(\"Successfully Logged in\", current_time())\n",
    "FB = [\"MMushtaqYusufzai\", \t\t\t\t\t# Muhammad Mushtaq\n",
    "\t\t\"asif.mahmood.1671\", \t\t\t\t# asif mahmood\n",
    "\t\t\"zahid.mughal.5895\", \t\t\t\t# zahid mughal\n",
    "\t\t\"mohammad.f.haris\", \t\t\t\t# mohammad fahad haris\n",
    "\t\t\"abdullah.adam49\", \t\t\t\t\t# abdullah adam \n",
    "\t\t\"hm.zubair.52\", \t\t\t\t\t# Hm Zubair \n",
    "\t\t\"abumaryam82\",  \t\t\t\t\t# Muhammad Imran (Blocked)\n",
    "\t\t\"yaldrim.khalid.9\", \t\t\t\t# Muhammad Imran\n",
    "\t\t\"munib.hussain86\", \t\t\t\t\t# munib hussain \n",
    "\t\t\"jameelbaloch1924\", \t\t\t\t# jameel baloch \n",
    "\t\t\"theguided1\",  \t\t\t\t\t\t# Rizwan Asad Khan\n",
    "\t\t\"abubakr.quddusi.3\", \t\t\t\t# abubakr quddusi \n",
    "\t\t\"mohammaddin.jauhar.7\", \t\t\t# mohammad din jauhar \n",
    "\t\t\"Riayat.Farooqui\",  \t\t\t\t# riayatullah farooqui \n",
    "\t\t\"asim.allahbakhsh\", \t\t\t\t# asim allahbakhsh \n",
    "\t\t\"sohaib.naseem.3\", \t\t\t\t\t# صہیب نسیم‎  \n",
    "\t\t\"idreesazaad\", \t\t\t\t\t\t# Idrees Azad ‎\n",
    "\t\t\"Abu.Musab.98622733\", \t\t\t\t# ابو محمد مصعب \n",
    "\t\t\"profile.php?id=100026041448813\", \n",
    "\t\t\"mohammad.saleem.568847\", \t\t\t# mohammad saleem \n",
    "\t\t\"hammad.sarwar.9400\",\n",
    "\t\t\"ajeebscenehaibhai\", \n",
    "\t\t\"nouman.atd.3\", \t\t\t\t\t# Nouman Ihsan\n",
    "\t\t\"profile.php?id=100032249983289\", \t# انس اسلام\n",
    "\t\t\"HamidKamaluddin.personal\", \t\t# Hamid kamaluddin\n",
    "\t\t\"faisal.shahzad.1253236\", \t\t\t# محمد فیصل شہزاد\n",
    "\t\t\"tariq.habib.969952\", \t\t\t\t# tariq habib\n",
    "\t\t\"mahtabaziz\", \t\t\t\t\t\t# mahtab khan\n",
    "\t\t\"suhaib.jamal.1\" \t\t\t\t\t# Suhaib Jamal\n",
    "      ]\n",
    "fb_base_url = 'https://m.facebook.com/'\n",
    "fb = FB[0]\n",
    "complted_url = fb_base_url + fb\n",
    "browser.get(complted_url)\n",
    "s = BeautifulSoup(browser.page_source, \"lxml\")\n",
    "\n",
    "for i in s.select(\"div\", {\"class\" : \"cs g ch\"}):\n",
    "    try:\n",
    "        link = i.find(\"a\")['href']\n",
    "        if link.startswith(\"/MMushtaqYusufzai?v=timeline&lst=\"):\n",
    "            LINK = \"https://mobile.facebook.com\" + link\n",
    "    except:\n",
    "        pass\n",
    "browser.get(LINK)\n",
    "s = BeautifulSoup(browser.page_source, \"lxml\")\n",
    "first_page = \"https://mobile.facebook.com\" + s.find(\"div\", {\"id\" : \"u_0_3\"}).find(\"a\")['href']\n",
    "browser.get(first_page)\n",
    "s_first_page = BeautifulSoup(browser.page_source, \"lxml\")\n",
    "\n",
    "# while True:\n",
    "#     time.sleep(1)\n",
    "    one_page = \"https://mobile.facebook.com\" + s_first_page.find(\"div\", {\"id\" : \"u_0_0\"}).find(\"a\")['href']\n",
    "    browser.get(one_page)\n",
    "    s_page = BeautifulSoup(browser.page_source, \"lxml\")"
   ]
  },
  {
   "cell_type": "code",
   "execution_count": 60,
   "metadata": {},
   "outputs": [
    {
     "data": {
      "text/plain": [
       "144"
      ]
     },
     "execution_count": 60,
     "metadata": {},
     "output_type": "execute_result"
    }
   ],
   "source": [
    "a = s_page.find(\"div\", {\"id\" : \"structured_composer_async_container\"}).find(\"div\", {\"class\" : \"bm bn bo\"})\n",
    "len(a.select(\"div\", {\"class\" : \"bp bq br\"}))"
   ]
  },
  {
   "cell_type": "code",
   "execution_count": 61,
   "metadata": {},
   "outputs": [
    {
     "data": {
      "text/plain": [
       "'Muhammad Mushtaqفیصلے کے خلاف جو بھی دلیل لائیں، اپیل کیے بغیر فیصلہ ختم نہیں کیا جاسکتا ، اور اپیل کےلیے کم از کم شرط یہ ہے کہ مجرم سرنڈر ہو۔December 19 at 7:20 PM · Public435 · Like · React · 22 Comments · Share · Full Story · Save · Find Support or Report PostMuhammad Mushtaqلاش لٹکانے کا ذکر اسی قانون کی شق نمبر 2 میں ہے جس کی پہلی شق میں آرمی چیف کی مدت ملازمت میں توسیع کا ذکر ہے۔December 19 at 6:44 PM · Public532 · Like · React · 27 Comments · Share · Full Story · Save · Find Support or Report PostMuhammad Mushtaqقانونی حیلہ جو مشرف کی لاش ڈی چوک میں لٹکانے کے خلاف ہیں، انھیں چاہیے کہ مرنے سے قبل اس کی پھانسی یقینی بنائیں۔December 19 at 6:28 PM · Public516 · Like · React · 20 Comments · Share · Full Story · Save · Find Support or Report PostMuhammad Mushtaqلاش لٹکانے کا حکم ایک جج کا ہے۔ دوسرے جج نے سزاے موت سے اتفاق کرتے ہوئے لاش لٹکانے سے اختلاف کیا ہے۔December 19 at 3:46 PM · Public285 · Like · React · 6 Comments · Share · Full Story · Save · Find Support or Report PostMuhammad Mushtaqلاش کو لٹکانا ----------- فیصلہ ابھی غور سے پڑھنا ہے اور تفصیلی تبصرہ اس کے بعد ہی کرسکوں گا، ان شاء اللہ۔ سردست ایک بات پر فوری کمنٹ لے لیجیے۔ کئی دوست کہہ رہے ہیں کہ لاش کو لٹکانا اس کی بے حرمتی ہے اور یہ خلافِ شریعت ہے۔ ایسا نہیں ہے۔ حرابہ کی سزا میں قرآن کریم نے \"او یصلّبوا\" کی تصریح کی ہے۔ مصلوب کیے جانے کی شرح کسی بھی فقہ کی کتاب میں پڑھ لیجیے۔ پس اگر ایک جانب قرآن تکریم بنی آدم کی بات کرتا ہے اور سنت لاش کے مثلے سے روکتی ہے، اور دوسری جانب خود قرآن حرابہ کی صورت میں لاش لٹکانے کا حکم دیتا... MoreDecember 19 at 3:35 PM · Public614 · Like · 45 Comments · Share · Full Story · Save · Find Support or Report PostMuhammad Mushtaqمضطرب لوگوں کو مفت مشورہ جسٹس کھوسہ ریٹائر ہورہے ہیں۔ جسٹس وقار ابھی رہیں گے۔ پروپیگنڈا جسٹس وقار کے خلاف کریں۔December 19 at 9:51 AM · Public412 · Like · React · 11 Comments · Share · Full Story · Save · Find Support or Report PostMuhammad Mushtaqعمران خان کو رہا کردو؟ ------------------ ہمارے دوست نعیم جان نے یہ نعرہ بلند کیا ہے لیکن ہم اس کی تائید کرنے سے اس وقت تک قاصر رہیں گے جب تک خود عمران خان میں اتنا حوصلہ پیدا نہ ہو کہ وہ کم از کم وزیر اعظم ہاؤس کی دیوار پر رات کی تاریکی میں یہ نعرہ لکھ سکے، جیسے بھٹو صاحب کے دور میں مرحوم صدر فضل الٰہی ایوان صدر کی دیوار پر لکھا کرتے تھے۔December 18 at 11:32 PM · Public267 · Like · React · 7 Comments · Share · Full Story · Save · Find Support or Report PostMuhammad Mushtaq\"آپ میری جگہ ہوتے تو کیا کرتے؟\" مشرف \"میں آپ کی جگہ ہوتا کیوں؟ اور آپ بھی اپنی جگہ پر رہتے تو اس مخمصے میں کیوں پڑتے؟\" مجید نظامیDecember 18 at 10:03 AM · Public572 · Like · React · 8 Comments · Share · Full Story · Save · Find Support or Report PostMuhammad Mushtaqانھیں خط میں لکھا کہ دل مضطرب ہے، جواب ان کا آیا: محبت نہ کرتے! تمھیں دل لگانے کو کس نے کہا تھا؟ بہل جائے گا دل بہلتے بہلتےDecember 18 at 9:50 AM · Public417 · Like · React · 13 Comments · Share · Full Story · Save · Find Support or Report PostMuhammad Mushtaqایک تاریخی تصویرMuhammad Mushtaq is with Muhammad Akbar Khan and 2 others.تاریخی تصویر ----------- شعبۂ قانون، بین الاقوامی اسلامی یونیورسٹی اسلام آباد، کے بورڈ آف سٹڈیز کی میٹنگ کے موقع پر لنچ بریک میں استاد محترم جناب ڈاکٹر طاہر حکیم صاحب، ڈین کلیۂ شریعہ، کے آفس میں جناب حامد خان صاحب، ایڈووکیٹ سپریم کورٹ، کے ساتھ ۔ میں، ڈاکٹر عزیز الرحمان صاحب اور ڈاکٹر شہباز چیمہ صاحب... MoreDecember 18 at 9:48 AM · Public158 · Like · React · 10 Comments · Share · Full Story · Save · Find Support or Report Post'"
      ]
     },
     "execution_count": 61,
     "metadata": {},
     "output_type": "execute_result"
    }
   ],
   "source": [
    "a.text"
   ]
  },
  {
   "cell_type": "code",
   "execution_count": null,
   "metadata": {},
   "outputs": [],
   "source": []
  }
 ],
 "metadata": {
  "kernelspec": {
   "display_name": "Python 3",
   "language": "python",
   "name": "python3"
  },
  "language_info": {
   "codemirror_mode": {
    "name": "ipython",
    "version": 3
   },
   "file_extension": ".py",
   "mimetype": "text/x-python",
   "name": "python",
   "nbconvert_exporter": "python",
   "pygments_lexer": "ipython3",
   "version": "3.6.9"
  }
 },
 "nbformat": 4,
 "nbformat_minor": 4
}
