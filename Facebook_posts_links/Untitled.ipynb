{
 "cells": [
  {
   "cell_type": "code",
   "execution_count": 27,
   "metadata": {},
   "outputs": [
    {
     "data": {
      "text/plain": [
       "{'Asif mehmood': ['https://web.facebook.com/asif.mahmood.1671/posts/2349797828475325'],\n",
       " 'Idrees Aazad': ['https://web.facebook.com/idreesazaad/posts/10215574867391665'],\n",
       " 'Jameel Baloch': ['https://web.facebook.com/jameelbaloch1924/posts/498421694274455'],\n",
       " 'Mohammad Fahad Haris': [],\n",
       " 'Mushtaq': ['https://web.facebook.com/MMushtaqYusufzai/posts/808618599552866'],\n",
       " 'Riayatullah Farooqui': ['https://web.facebook.com/Riayat.Farooqui/posts/2691754040848574'],\n",
       " 'Rizwan Asad Khan': ['https://web.facebook.com/theguided1/posts/10211396163140257'],\n",
       " 'Sohaib naseem': [],\n",
       " 'Zahid mughal': ['https://web.facebook.com/zahid.mughal.5895/posts/2458078950952165']}"
      ]
     },
     "execution_count": 27,
     "metadata": {},
     "output_type": "execute_result"
    }
   ],
   "source": []
  },
  {
   "cell_type": "code",
   "execution_count": null,
   "metadata": {},
   "outputs": [],
   "source": []
  }
 ],
 "metadata": {
  "kernelspec": {
   "display_name": "Python 3",
   "language": "python",
   "name": "python3"
  },
  "language_info": {
   "codemirror_mode": {
    "name": "ipython",
    "version": 3
   },
   "file_extension": ".py",
   "mimetype": "text/x-python",
   "name": "python",
   "nbconvert_exporter": "python",
   "pygments_lexer": "ipython3",
   "version": "3.6.8"
  }
 },
 "nbformat": 4,
 "nbformat_minor": 2
}
