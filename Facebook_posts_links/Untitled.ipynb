{
 "cells": [
  {
   "cell_type": "code",
   "execution_count": 53,
   "metadata": {},
   "outputs": [
    {
     "data": {
      "text/plain": [
       "['https://web.facebook.com/asif.mahmood.1671/posts/2237572433031199?comment_tracking=%7B%22tn%22%3A%22O%22%7D',\n",
       " 'https://web.facebook.com/asif.mahmood.1671/posts/2237489113039531?comment_tracking=%7B%22tn%22%3A%22O%22%7D',\n",
       " 'https://web.facebook.com/zahid.mughal.5895/posts/2359041790855882?comment_tracking=%7B%22tn%22%3A%22O%22%7D',\n",
       " 'https://web.facebook.com/mohammad.f.haris/posts/10157887911124903?comment_tracking=%7B%22tn%22%3A%22O%22%7D',\n",
       " 'https://web.facebook.com/abumaryam82/posts/10215119757814313?comment_tracking=%7B%22tn%22%3A%22O%22%7D',\n",
       " 'https://web.facebook.com/abumaryam82/posts/10215118614785738?comment_tracking=%7B%22tn%22%3A%22O%22%7D',\n",
       " 'https://web.facebook.com/abumaryam82/posts/10215118560584383?comment_tracking=%7B%22tn%22%3A%22O%22%7D',\n",
       " 'https://web.facebook.com/abumaryam82/posts/10215118494302726?comment_tracking=%7B%22tn%22%3A%22O%22%7D',\n",
       " 'https://web.facebook.com/abumaryam82/posts/10215117291552658?comment_tracking=%7B%22tn%22%3A%22O%22%7D',\n",
       " 'https://web.facebook.com/munib.hussain86/posts/652459558586117?comment_tracking=%7B%22tn%22%3A%22O%22%7D',\n",
       " 'https://web.facebook.com/jameelbaloch1924/posts/464936054289686?comment_tracking=%7B%22tn%22%3A%22O%22%7D',\n",
       " 'https://web.facebook.com/jameelbaloch1924/posts/464795270970431?comment_tracking=%7B%22tn%22%3A%22O%22%7D',\n",
       " 'https://web.facebook.com/abubakr.quddusi.3/posts/2470620129663963?comment_tracking=%7B%22tn%22%3A%22O%22%7D',\n",
       " 'https://web.facebook.com/abubakr.quddusi.3/posts/2470401516352491?comment_tracking=%7B%22tn%22%3A%22O%22%7D',\n",
       " 'https://web.facebook.com/Riayat.Farooqui/posts/2590048771019102?comment_tracking=%7B%22tn%22%3A%22O%22%7D',\n",
       " 'https://web.facebook.com/sohaib.naseem.3/posts/2137828663011996?comment_tracking=%7B%22tn%22%3A%22O%22%7D',\n",
       " 'https://web.facebook.com/idreesazaad/posts/10215183237161154?comment_tracking=%7B%22tn%22%3A%22O%22%7D',\n",
       " 'https://web.facebook.com/idreesazaad/posts/10215180356089129?comment_tracking=%7B%22tn%22%3A%22O%22%7D']"
      ]
     },
     "execution_count": 53,
     "metadata": {},
     "output_type": "execute_result"
    }
   ],
   "source": [
    "    "
   ]
  },
  {
   "cell_type": "code",
   "execution_count": null,
   "metadata": {},
   "outputs": [],
   "source": []
  }
 ],
 "metadata": {
  "kernelspec": {
   "display_name": "Python 3",
   "language": "python",
   "name": "python3"
  },
  "language_info": {
   "codemirror_mode": {
    "name": "ipython",
    "version": 3
   },
   "file_extension": ".py",
   "mimetype": "text/x-python",
   "name": "python",
   "nbconvert_exporter": "python",
   "pygments_lexer": "ipython3",
   "version": "3.6.8"
  }
 },
 "nbformat": 4,
 "nbformat_minor": 2
}
