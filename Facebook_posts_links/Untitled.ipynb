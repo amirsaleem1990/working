{
 "cells": [
  {
   "cell_type": "code",
   "execution_count": 2,
   "metadata": {},
   "outputs": [],
   "source": [
    "import pandas as pd\n",
    "import pickle\n",
    "with open(\"/home/amir/github/working/Facebook_posts_links/current_data.pkl\", \"rb\") as file:\n",
    "    current_data = pickle.load(file)\n",
    "master_csv = pd.read_csv(\"/home/amir/github/working/Facebook_posts_links/links.csv\")"
   ]
  },
  {
   "cell_type": "code",
   "execution_count": 4,
   "metadata": {},
   "outputs": [
    {
     "data": {
      "text/plain": [
       "{'Asif mehmood': ['https://web.facebook.com/asif.mahmood.1671/posts/2351466901641751',\n",
       "  'https://web.facebook.com/asif.mahmood.1671/posts/2349797828475325'],\n",
       " 'Idrees Aazad': ['https://web.facebook.com/idreesazaad/posts/10215575508407690',\n",
       "  'https://web.facebook.com/idreesazaad/posts/10215574867391665'],\n",
       " 'Jameel Baloch': ['https://web.facebook.com/jameelbaloch1924/posts/498512164265408',\n",
       "  'https://web.facebook.com/jameelbaloch1924/posts/498421694274455'],\n",
       " 'Mohammad Fahad Haris': ['https://web.facebook.com/mohammad.f.haris/posts/10158047594139903'],\n",
       " 'Mushtaq': ['https://web.facebook.com/MMushtaqYusufzai/posts/808778766203516',\n",
       "  'https://web.facebook.com/MMushtaqYusufzai/posts/808618599552866'],\n",
       " 'Riayatullah Farooqui': ['https://web.facebook.com/Riayat.Farooqui/posts/2691963770827601',\n",
       "  'https://web.facebook.com/Riayat.Farooqui/posts/2691754040848574'],\n",
       " 'Rizwan Asad Khan': ['https://web.facebook.com/theguided1/posts/10211397410931451',\n",
       "  'https://web.facebook.com/theguided1/posts/10211396163140257'],\n",
       " 'Sohaib naseem': ['https://web.facebook.com/sohaib.naseem.3/posts/2235523419909186'],\n",
       " 'Zahid mughal': ['https://web.facebook.com/zahid.mughal.5895/posts/2458339430926117',\n",
       "  'https://web.facebook.com/zahid.mughal.5895/posts/2458078950952165']}"
      ]
     },
     "execution_count": 4,
     "metadata": {},
     "output_type": "execute_result"
    }
   ],
   "source": [
    "current_data = {k:y for k,y in current_data.items() if current_data[k]}\n",
    "current_data"
   ]
  },
  {
   "cell_type": "code",
   "execution_count": 6,
   "metadata": {},
   "outputs": [
    {
     "data": {
      "text/plain": [
       "{'a': [1, 2, 3, 4]}"
      ]
     },
     "execution_count": 6,
     "metadata": {},
     "output_type": "execute_result"
    }
   ],
   "source": [
    "a = {\"a\" : [1,2,3,4]}\n",
    "a"
   ]
  },
  {
   "cell_type": "code",
   "execution_count": 13,
   "metadata": {},
   "outputs": [
    {
     "data": {
      "text/plain": [
       "{'a': [1, 2, 3, 4]}"
      ]
     },
     "execution_count": 13,
     "metadata": {},
     "output_type": "execute_result"
    }
   ],
   "source": [
    "for k,v in a.items():\n",
    "    for value in v:\n",
    "        if v == 3:\n",
    "            print(a[k].remove(3))\n",
    "a"
   ]
  },
  {
   "cell_type": "code",
   "execution_count": 11,
   "metadata": {},
   "outputs": [
    {
     "data": {
      "text/plain": [
       "'a'"
      ]
     },
     "execution_count": 11,
     "metadata": {},
     "output_type": "execute_result"
    }
   ],
   "source": [
    "[4,2,1,4].ipynb_checkpoints/"
   ]
  },
  {
   "cell_type": "code",
   "execution_count": null,
   "metadata": {},
   "outputs": [],
   "source": []
  }
 ],
 "metadata": {
  "kernelspec": {
   "display_name": "Python 3",
   "language": "python",
   "name": "python3"
  },
  "language_info": {
   "codemirror_mode": {
    "name": "ipython",
    "version": 3
   },
   "file_extension": ".py",
   "mimetype": "text/x-python",
   "name": "python",
   "nbconvert_exporter": "python",
   "pygments_lexer": "ipython3",
   "version": "3.6.8"
  }
 },
 "nbformat": 4,
 "nbformat_minor": 2
}
