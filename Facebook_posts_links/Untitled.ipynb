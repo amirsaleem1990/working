{
 "cells": [
  {
   "cell_type": "code",
   "execution_count": 51,
   "metadata": {},
   "outputs": [
    {
     "ename": "TypeError",
     "evalue": "'str' object cannot be interpreted as an integer",
     "output_type": "error",
     "traceback": [
      "\u001b[0;31m---------------------------------------------------------------------------\u001b[0m",
      "\u001b[0;31mTypeError\u001b[0m                                 Traceback (most recent call last)",
      "\u001b[0;32m<ipython-input-51-e36182c9929a>\u001b[0m in \u001b[0;36m<module>\u001b[0;34m()\u001b[0m\n\u001b[1;32m      7\u001b[0m     \u001b[0;32mfor\u001b[0m \u001b[0mlink\u001b[0m \u001b[0;32min\u001b[0m \u001b[0mlist_of_links\u001b[0m\u001b[0;34m:\u001b[0m\u001b[0;34m\u001b[0m\u001b[0;34m\u001b[0m\u001b[0m\n\u001b[1;32m      8\u001b[0m         \u001b[0;32mif\u001b[0m \u001b[0;34m\"comment_id\"\u001b[0m \u001b[0;32min\u001b[0m \u001b[0mlink\u001b[0m\u001b[0;34m:\u001b[0m\u001b[0;34m\u001b[0m\u001b[0;34m\u001b[0m\u001b[0m\n\u001b[0;32m----> 9\u001b[0;31m             \u001b[0mcurrent_data\u001b[0m\u001b[0;34m[\u001b[0m\u001b[0mname\u001b[0m\u001b[0;34m]\u001b[0m\u001b[0;34m.\u001b[0m\u001b[0mpop\u001b[0m\u001b[0;34m(\u001b[0m\u001b[0mlink\u001b[0m\u001b[0;34m)\u001b[0m\u001b[0;34m\u001b[0m\u001b[0;34m\u001b[0m\u001b[0m\n\u001b[0m\u001b[1;32m     10\u001b[0m \u001b[0mc\u001b[0m \u001b[0;34m=\u001b[0m \u001b[0;36m0\u001b[0m\u001b[0;34m\u001b[0m\u001b[0;34m\u001b[0m\u001b[0m\n\u001b[1;32m     11\u001b[0m \u001b[0;32mfor\u001b[0m \u001b[0mi\u001b[0m \u001b[0;32min\u001b[0m \u001b[0mcurrent_data\u001b[0m\u001b[0;34m:\u001b[0m\u001b[0;34m\u001b[0m\u001b[0;34m\u001b[0m\u001b[0m\n",
      "\u001b[0;31mTypeError\u001b[0m: 'str' object cannot be interpreted as an integer"
     ]
    }
   ],
   "source": [
    "import os             \n",
    "import pickle                       \n",
    "with open(\"current_data.pkl\", \"rb\") as file:\n",
    "    current_data = pickle.load(file)\n",
    "\n",
    "for name,list_of_links in current_data.items():\n",
    "    lst = []\n",
    "    for link in list_of_links:\n",
    "        if not \"comment_id\" in link:\n",
    "            lst.append(link)\n",
    "        \n",
    "c = 0\n",
    "for i in current_data:\n",
    "    c += len(current_data[i])\n",
    "c"
   ]
  },
  {
   "cell_type": "code",
   "execution_count": 49,
   "metadata": {},
   "outputs": [
    {
     "data": {
      "text/plain": [
       "['https://web.facebook.com/idreesazaad/posts/10215183237161154?comment_tracking=%7B%22tn%22%3A%22O%22%7D',\n",
       " 'https://web.facebook.com/idreesazaad/posts/10215180356089129?comment_tracking=%7B%22tn%22%3A%22O%22%7D',\n",
       " 'https://web.facebook.com/idreesazaad/posts/10215180356089129?comment_id=10215180459731720&comment_tracking=%7B%22tn%22%3A%22R%22%7D',\n",
       " 'https://web.facebook.com/idreesazaad/posts/10215180356089129?comment_id=10215180656536640&comment_tracking=%7B%22tn%22%3A%22R%22%7D']"
      ]
     },
     "execution_count": 49,
     "metadata": {},
     "output_type": "execute_result"
    }
   ],
   "source": [
    "current_data[i]"
   ]
  },
  {
   "cell_type": "code",
   "execution_count": 40,
   "metadata": {},
   "outputs": [
    {
     "data": {
      "text/plain": [
       "['https://web.facebook.com/asif.mahmood.1671/posts/2237572433031199?comment_tracking=%7B%22tn%22%3A%22O%22%7D',\n",
       " 'https://web.facebook.com/asif.mahmood.1671/posts/2237572433031199?comment_id=2237777666344009&comment_tracking=%7B%22tn%22%3A%22R%22%7D',\n",
       " 'https://web.facebook.com/asif.mahmood.1671/posts/2237572433031199?comment_id=2238716849583424&comment_tracking=%7B%22tn%22%3A%22R%22%7D',\n",
       " 'https://web.facebook.com/asif.mahmood.1671/posts/2237489113039531?comment_tracking=%7B%22tn%22%3A%22O%22%7D',\n",
       " 'https://web.facebook.com/asif.mahmood.1671/posts/2237489113039531?comment_id=2237564649698644&comment_tracking=%7B%22tn%22%3A%22R%22%7D',\n",
       " 'https://web.facebook.com/asif.mahmood.1671/posts/2237489113039531?comment_id=2238009356320840&comment_tracking=%7B%22tn%22%3A%22R%22%7D',\n",
       " 'https://web.facebook.com/zahid.mughal.5895/posts/2359041790855882?comment_tracking=%7B%22tn%22%3A%22O%22%7D',\n",
       " 'https://web.facebook.com/zahid.mughal.5895/posts/2359041790855882?comment_id=2359221637504564&comment_tracking=%7B%22tn%22%3A%22R%22%7D',\n",
       " 'https://web.facebook.com/zahid.mughal.5895/posts/2359041790855882?comment_id=2359443600815701&comment_tracking=%7B%22tn%22%3A%22R%22%7D',\n",
       " 'https://web.facebook.com/mohammad.f.haris/posts/10157887911124903?comment_tracking=%7B%22tn%22%3A%22O%22%7D',\n",
       " 'https://web.facebook.com/mohammad.f.haris/posts/10157887911124903?comment_id=10157889106334903&comment_tracking=%7B%22tn%22%3A%22R%22%7D',\n",
       " 'https://web.facebook.com/mohammad.f.haris/posts/10157887911124903?comment_id=10157889144844903&comment_tracking=%7B%22tn%22%3A%22R%22%7D',\n",
       " 'https://web.facebook.com/mohammad.f.haris/posts/10157886683634903?comment_id=10157887754619903&comment_tracking=%7B%22tn%22%3A%22R%22%7D',\n",
       " 'https://web.facebook.com/mohammad.f.haris/posts/10157886683634903?comment_id=10157888056974903&comment_tracking=%7B%22tn%22%3A%22R%22%7D',\n",
       " 'https://web.facebook.com/abumaryam82/posts/10215119757814313?comment_tracking=%7B%22tn%22%3A%22O%22%7D',\n",
       " 'https://web.facebook.com/abumaryam82/posts/10215118614785738?comment_tracking=%7B%22tn%22%3A%22O%22%7D',\n",
       " 'https://web.facebook.com/abumaryam82/posts/10215118560584383?comment_tracking=%7B%22tn%22%3A%22O%22%7D',\n",
       " 'https://web.facebook.com/abumaryam82/posts/10215118560584383?comment_id=10215118711908166&comment_tracking=%7B%22tn%22%3A%22R%22%7D',\n",
       " 'https://web.facebook.com/abumaryam82/posts/10215118560584383?comment_id=10215118864391978&comment_tracking=%7B%22tn%22%3A%22R%22%7D',\n",
       " 'https://web.facebook.com/abumaryam82/posts/10215118494302726?comment_tracking=%7B%22tn%22%3A%22O%22%7D',\n",
       " 'https://web.facebook.com/abumaryam82/posts/10215118494302726?comment_id=10215118632386178&comment_tracking=%7B%22tn%22%3A%22R%22%7D',\n",
       " 'https://web.facebook.com/abumaryam82/posts/10215118494302726?comment_id=10215119002875440&comment_tracking=%7B%22tn%22%3A%22R%22%7D',\n",
       " 'https://web.facebook.com/abumaryam82/posts/10215117291552658?comment_tracking=%7B%22tn%22%3A%22O%22%7D',\n",
       " 'https://web.facebook.com/munib.hussain86/posts/652459558586117?comment_tracking=%7B%22tn%22%3A%22O%22%7D',\n",
       " 'https://web.facebook.com/munib.hussain86/posts/652300505268689?comment_id=652355528596520&comment_tracking=%7B%22tn%22%3A%22R%22%7D',\n",
       " 'https://web.facebook.com/jameelbaloch1924/posts/464936054289686?comment_tracking=%7B%22tn%22%3A%22O%22%7D',\n",
       " 'https://web.facebook.com/jameelbaloch1924/posts/464936054289686?comment_id=464940214289270&comment_tracking=%7B%22tn%22%3A%22R%22%7D',\n",
       " 'https://web.facebook.com/jameelbaloch1924/posts/464936054289686?comment_id=464942064289085&comment_tracking=%7B%22tn%22%3A%22R%22%7D',\n",
       " 'https://web.facebook.com/jameelbaloch1924/posts/464795270970431?comment_tracking=%7B%22tn%22%3A%22O%22%7D',\n",
       " 'https://web.facebook.com/jameelbaloch1924/posts/464795270970431?comment_id=464851870964771&comment_tracking=%7B%22tn%22%3A%22R%22%7D',\n",
       " 'https://web.facebook.com/jameelbaloch1924/posts/464795270970431?comment_id=464942390955719&comment_tracking=%7B%22tn%22%3A%22R%22%7D',\n",
       " 'https://web.facebook.com/theguided1/posts/10211111525344490?comment_id=10211113728799575&comment_tracking=%7B%22tn%22%3A%22R%22%7D',\n",
       " 'https://web.facebook.com/theguided1/posts/10211111436542270?comment_id=10211112628692073&comment_tracking=%7B%22tn%22%3A%22R%22%7D',\n",
       " 'https://web.facebook.com/abubakr.quddusi.3/posts/2470620129663963?comment_tracking=%7B%22tn%22%3A%22O%22%7D',\n",
       " 'https://web.facebook.com/abubakr.quddusi.3/posts/2470620129663963?comment_id=2471311852928124&comment_tracking=%7B%22tn%22%3A%22R%22%7D',\n",
       " 'https://web.facebook.com/abubakr.quddusi.3/posts/2470620129663963?comment_id=2471350846257558&comment_tracking=%7B%22tn%22%3A%22R%22%7D',\n",
       " 'https://web.facebook.com/abubakr.quddusi.3/posts/2470401516352491?comment_tracking=%7B%22tn%22%3A%22O%22%7D',\n",
       " 'https://web.facebook.com/abubakr.quddusi.3/posts/2470401516352491?comment_id=2470529866339656&comment_tracking=%7B%22tn%22%3A%22R%22%7D',\n",
       " 'https://web.facebook.com/abubakr.quddusi.3/posts/2470401516352491?comment_id=2471044216288221&comment_tracking=%7B%22tn%22%3A%22R%22%7D',\n",
       " 'https://web.facebook.com/Riayat.Farooqui/posts/2590048771019102?comment_tracking=%7B%22tn%22%3A%22O%22%7D',\n",
       " 'https://web.facebook.com/Riayat.Farooqui/posts/2590048771019102?comment_id=2590435997647046&comment_tracking=%7B%22tn%22%3A%22R%22%7D',\n",
       " 'https://web.facebook.com/Riayat.Farooqui/posts/2590048771019102?comment_id=2590873284269984&comment_tracking=%7B%22tn%22%3A%22R%22%7D',\n",
       " 'https://web.facebook.com/sohaib.naseem.3/posts/2137828663011996?comment_tracking=%7B%22tn%22%3A%22O%22%7D',\n",
       " 'https://web.facebook.com/sohaib.naseem.3/posts/2137828663011996?comment_id=2137921463002716&comment_tracking=%7B%22tn%22%3A%22R%22%7D',\n",
       " 'https://web.facebook.com/idreesazaad/posts/10215183237161154?comment_tracking=%7B%22tn%22%3A%22O%22%7D',\n",
       " 'https://web.facebook.com/idreesazaad/posts/10215180356089129?comment_tracking=%7B%22tn%22%3A%22O%22%7D',\n",
       " 'https://web.facebook.com/idreesazaad/posts/10215180356089129?comment_id=10215180459731720&comment_tracking=%7B%22tn%22%3A%22R%22%7D',\n",
       " 'https://web.facebook.com/idreesazaad/posts/10215180356089129?comment_id=10215180656536640&comment_tracking=%7B%22tn%22%3A%22R%22%7D']"
      ]
     },
     "execution_count": 40,
     "metadata": {},
     "output_type": "execute_result"
    }
   ],
   "source": []
  },
  {
   "cell_type": "code",
   "execution_count": null,
   "metadata": {},
   "outputs": [],
   "source": []
  }
 ],
 "metadata": {
  "kernelspec": {
   "display_name": "Python 3",
   "language": "python",
   "name": "python3"
  },
  "language_info": {
   "codemirror_mode": {
    "name": "ipython",
    "version": 3
   },
   "file_extension": ".py",
   "mimetype": "text/x-python",
   "name": "python",
   "nbconvert_exporter": "python",
   "pygments_lexer": "ipython3",
   "version": "3.6.8"
  }
 },
 "nbformat": 4,
 "nbformat_minor": 2
}
