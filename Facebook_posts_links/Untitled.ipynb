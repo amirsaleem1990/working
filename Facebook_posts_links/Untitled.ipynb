{
 "cells": [
  {
   "cell_type": "code",
   "execution_count": 12,
   "metadata": {},
   "outputs": [],
   "source": [
    "import os             \n",
    "import pickle                       \n",
    "with open(\"current_data.pkl\", \"rb\") as file:\n",
    "    current_data = pickle.load(file)\n",
    "cd = []\n",
    "for i in current_data:\n",
    "    if not current_data[i] in cd:\n",
    "        cd += current_data[i]"
   ]
  },
  {
   "cell_type": "code",
   "execution_count": 23,
   "metadata": {},
   "outputs": [],
   "source": [
    "c = 0\n",
    "for i in cd:\n",
    "    if not \"comment_id\" in i:\n",
    "        os.system(\"firefox \" + i)"
   ]
  },
  {
   "cell_type": "code",
   "execution_count": null,
   "metadata": {},
   "outputs": [],
   "source": []
  }
 ],
 "metadata": {
  "kernelspec": {
   "display_name": "Python 3",
   "language": "python",
   "name": "python3"
  },
  "language_info": {
   "codemirror_mode": {
    "name": "ipython",
    "version": 3
   },
   "file_extension": ".py",
   "mimetype": "text/x-python",
   "name": "python",
   "nbconvert_exporter": "python",
   "pygments_lexer": "ipython3",
   "version": "3.6.8"
  }
 },
 "nbformat": 4,
 "nbformat_minor": 2
}
