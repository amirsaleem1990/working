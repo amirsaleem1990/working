{
 "cells": [
  {
   "cell_type": "code",
   "execution_count": 2,
   "metadata": {},
   "outputs": [],
   "source": [
    "import pickle\n",
    "with open(\"All_FB_links.pkl\", \"rb\") as file:\n",
    "    all_links = pickle.load(file)\n",
    "with open(\"current_data.pkl\", \"rb\") as file:\n",
    "    current_data = pickle.load(file)"
   ]
  },
  {
   "cell_type": "code",
   "execution_count": 4,
   "metadata": {},
   "outputs": [
    {
     "data": {
      "text/plain": [
       "{'Abdullah Adam': [],\n",
       " 'Abubakr Quddusi': ['https://web.facebook.com/abubakr.quddusi.3/posts/2470620129663963?comment_tracking=%7B%22tn%22%3A%22O%22%7D',\n",
       "  'https://web.facebook.com/abubakr.quddusi.3/posts/2470401516352491?comment_tracking=%7B%22tn%22%3A%22O%22%7D'],\n",
       " 'Asif mehmood': ['https://web.facebook.com/asif.mahmood.1671/posts/2237572433031199?comment_tracking=%7B%22tn%22%3A%22O%22%7D',\n",
       "  'https://web.facebook.com/asif.mahmood.1671/posts/2237489113039531?comment_tracking=%7B%22tn%22%3A%22O%22%7D'],\n",
       " 'Asim AllahBakhsh': [],\n",
       " 'Hm Zubair': [],\n",
       " 'Idrees Aazad': ['https://web.facebook.com/idreesazaad/posts/10215183237161154?comment_tracking=%7B%22tn%22%3A%22O%22%7D',\n",
       "  'https://web.facebook.com/idreesazaad/posts/10215180356089129?comment_tracking=%7B%22tn%22%3A%22O%22%7D'],\n",
       " 'Jameel Baloch': ['https://web.facebook.com/jameelbaloch1924/posts/465146507601974?comment_tracking=%7B%22tn%22%3A%22O%22%7D',\n",
       "  'https://web.facebook.com/jameelbaloch1924/posts/464936054289686?comment_tracking=%7B%22tn%22%3A%22O%22%7D'],\n",
       " 'Mohammad Din Jauhar': [],\n",
       " 'Mohammad Fahad Haris': ['https://web.facebook.com/mohammad.f.haris/posts/10157887911124903?comment_tracking=%7B%22tn%22%3A%22O%22%7D'],\n",
       " 'Muhammad Imran': ['https://web.facebook.com/abumaryam82/posts/10215119757814313?comment_tracking=%7B%22tn%22%3A%22O%22%7D'],\n",
       " 'Munib Hussain': ['https://web.facebook.com/munib.hussain86/posts/652459558586117?comment_tracking=%7B%22tn%22%3A%22O%22%7D'],\n",
       " 'Mushtaq': [],\n",
       " 'Riayatullah Farooqui': ['https://web.facebook.com/Riayat.Farooqui/posts/2590048771019102?comment_tracking=%7B%22tn%22%3A%22O%22%7D'],\n",
       " 'Rizwan Asad Khan': [],\n",
       " 'Sohaib naseem': ['https://web.facebook.com/sohaib.naseem.3/posts/2137828663011996?comment_tracking=%7B%22tn%22%3A%22O%22%7D'],\n",
       " 'Zahid mughal': ['https://web.facebook.com/zahid.mughal.5895/posts/2359041790855882?comment_tracking=%7B%22tn%22%3A%22O%22%7D']}"
      ]
     },
     "execution_count": 4,
     "metadata": {},
     "output_type": "execute_result"
    }
   ],
   "source": [
    "current_data"
   ]
  },
  {
   "cell_type": "code",
   "execution_count": null,
   "metadata": {},
   "outputs": [],
   "source": []
  }
 ],
 "metadata": {
  "kernelspec": {
   "display_name": "Python 3",
   "language": "python",
   "name": "python3"
  },
  "language_info": {
   "codemirror_mode": {
    "name": "ipython",
    "version": 3
   },
   "file_extension": ".py",
   "mimetype": "text/x-python",
   "name": "python",
   "nbconvert_exporter": "python",
   "pygments_lexer": "ipython3",
   "version": "3.6.8"
  }
 },
 "nbformat": 4,
 "nbformat_minor": 2
}
