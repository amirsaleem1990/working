{
 "cells": [
  {
   "cell_type": "code",
   "execution_count": 5,
   "metadata": {},
   "outputs": [
    {
     "ename": "NameError",
     "evalue": "name 'current_time' is not defined",
     "output_type": "error",
     "traceback": [
      "\u001b[0;31m---------------------------------------------------------------------------\u001b[0m",
      "\u001b[0;31mNameError\u001b[0m                                 Traceback (most recent call last)",
      "\u001b[0;32m<ipython-input-5-3b8fb7fb2cae>\u001b[0m in \u001b[0;36m<module>\u001b[0;34m()\u001b[0m\n\u001b[1;32m     17\u001b[0m \u001b[0;32mwith\u001b[0m \u001b[0mopen\u001b[0m\u001b[0;34m(\u001b[0m\u001b[0;34m\"../..//Amir-personal/facebook-userName-and-password.txt\"\u001b[0m\u001b[0;34m,\u001b[0m \u001b[0;34m\"r\"\u001b[0m\u001b[0;34m)\u001b[0m \u001b[0;32mas\u001b[0m \u001b[0mfile\u001b[0m\u001b[0;34m:\u001b[0m\u001b[0;34m\u001b[0m\u001b[0;34m\u001b[0m\u001b[0m\n\u001b[1;32m     18\u001b[0m     \u001b[0musrname\u001b[0m\u001b[0;34m,\u001b[0m \u001b[0mpas\u001b[0m \u001b[0;34m=\u001b[0m \u001b[0mfile\u001b[0m\u001b[0;34m.\u001b[0m\u001b[0mread\u001b[0m\u001b[0;34m(\u001b[0m\u001b[0;34m)\u001b[0m\u001b[0;34m.\u001b[0m\u001b[0msplitlines\u001b[0m\u001b[0;34m(\u001b[0m\u001b[0;34m)\u001b[0m\u001b[0;34m\u001b[0m\u001b[0;34m\u001b[0m\u001b[0m\n\u001b[0;32m---> 19\u001b[0;31m \u001b[0mprint\u001b[0m\u001b[0;34m(\u001b[0m\u001b[0;34m\"Attempting to Login\"\u001b[0m\u001b[0;34m,\u001b[0m \u001b[0mcurrent_time\u001b[0m\u001b[0;34m(\u001b[0m\u001b[0;34m)\u001b[0m\u001b[0;34m)\u001b[0m\u001b[0;34m\u001b[0m\u001b[0;34m\u001b[0m\u001b[0m\n\u001b[0m\u001b[1;32m     20\u001b[0m \u001b[0;34m\u001b[0m\u001b[0m\n\u001b[1;32m     21\u001b[0m \u001b[0;31m# browser = webdriver.Firefox(executable_path=home + \"/github/working/Facebook_posts_links/geckodriver\")\u001b[0m\u001b[0;34m\u001b[0m\u001b[0;34m\u001b[0m\u001b[0;34m\u001b[0m\u001b[0m\n",
      "\u001b[0;31mNameError\u001b[0m: name 'current_time' is not defined"
     ]
    }
   ],
   "source": [
    "import os\n",
    "import time\n",
    "import pickle\n",
    "import requests\n",
    "from bs4 import BeautifulSoup\n",
    "from selenium import webdriver\n",
    "import numpy as np\n",
    "import time\n",
    "import datetime\n",
    "from selenium.webdriver.common.keys import Keys\n",
    "from selenium.webdriver.firefox.options import Options\n",
    "options = Options()\n",
    "options.add_argument(\"--headless\")\n",
    "\n",
    "os.system(\"clear\")\n",
    "\n",
    "with open(\"../..//Amir-personal/facebook-userName-and-password.txt\", \"r\") as file:\n",
    "    usrname, pas = file.read().splitlines()\n",
    "print(\"Attempting to Login\", current_time())\n",
    "\n",
    "# browser = webdriver.Firefox(executable_path=home + \"/github/working/Facebook_posts_links/geckodriver\")\n",
    "browser = webdriver.Firefox(executable_path= \"/home/github/working/Facebook_posts_links/geckodriver\", options=options)\n",
    "#navigates you to the facebook page.\n",
    "browser.get('https://www.facebook.com/')\n",
    "\n",
    "#find the username field and enter the email example@yahoo.com.\n",
    "time.sleep(np.random.randint(3, 6))\n",
    "username = browser.find_elements_by_css_selector(\"input[name=email]\")\n",
    "username[0].send_keys(usrname)\n",
    "\n",
    "\n",
    "#find the password field and enter the password password.\n",
    "time.sleep(np.random.randint(3, 6))\n",
    "password = browser.find_elements_by_css_selector(\"input[name=pass]\")\n",
    "password[0].send_keys(pas)\n",
    "\n",
    "\n",
    "#find the login button and click it.\n",
    "time.sleep(np.random.randint(3, 6))\n",
    "loginButton = browser.find_elements_by_css_selector(\"input[type=submit]\")\n",
    "loginButton[0].click()\n",
    "print(\"Successfully Logged in\", current_time())\n",
    "\n",
    "browser.get(\"https://web.facebook.com/MMushtaqYusufzai/posts/776257929455600?comment_tracking=%7B%22tn%22%3A%22O%22%7D\")\n",
    "s = BeautifulSoup(browser.page_source, \"lxml\")"
   ]
  },
  {
   "cell_type": "code",
   "execution_count": 3,
   "metadata": {},
   "outputs": [
    {
     "name": "stdout",
     "output_type": "stream",
     "text": [
      "/home/amir/github/working/Facebook_posts_links\n"
     ]
    }
   ],
   "source": [
    "!pwd"
   ]
  },
  {
   "cell_type": "code",
   "execution_count": null,
   "metadata": {},
   "outputs": [],
   "source": []
  }
 ],
 "metadata": {
  "kernelspec": {
   "display_name": "Python 3",
   "language": "python",
   "name": "python3"
  },
  "language_info": {
   "codemirror_mode": {
    "name": "ipython",
    "version": 3
   },
   "file_extension": ".py",
   "mimetype": "text/x-python",
   "name": "python",
   "nbconvert_exporter": "python",
   "pygments_lexer": "ipython3",
   "version": "3.6.8"
  }
 },
 "nbformat": 4,
 "nbformat_minor": 4
}
