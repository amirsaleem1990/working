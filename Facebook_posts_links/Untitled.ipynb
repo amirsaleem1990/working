{
 "cells": [
  {
   "cell_type": "code",
   "execution_count": 6,
   "metadata": {},
   "outputs": [],
   "source": [
    "import os\n",
    "import pickle\n",
    "\n",
    "with open(\"current_data.pkl\", \"rb\") as file:\n",
    "    current_data = pickle.load(file)\n",
    "\n",
    "for links_list in current_data.values():\n",
    "    for link in links_list:\n",
    "        os.system(\"firefox \"+  link)\n",
    "        \n",
    "with open(\"All_FB_links.pkl\", \"rb\") as file:\n",
    "    all_links = pickle.load(file)\n",
    "\n",
    "for k,v in current_data.items():\n",
    "    if not k in all_links:\n",
    "        all_links[k] = v\n",
    "    else:\n",
    "        for i in v:\n",
    "            if not i in all_links[k]\n",
    "                all_links[k].append(i)"
   ]
  },
  {
   "cell_type": "code",
   "execution_count": 7,
   "metadata": {},
   "outputs": [],
   "source": []
  },
  {
   "cell_type": "code",
   "execution_count": null,
   "metadata": {},
   "outputs": [],
   "source": []
  }
 ],
 "metadata": {
  "kernelspec": {
   "display_name": "Python 3",
   "language": "python",
   "name": "python3"
  },
  "language_info": {
   "codemirror_mode": {
    "name": "ipython",
    "version": 3
   },
   "file_extension": ".py",
   "mimetype": "text/x-python",
   "name": "python",
   "nbconvert_exporter": "python",
   "pygments_lexer": "ipython3",
   "version": "3.6.8"
  }
 },
 "nbformat": 4,
 "nbformat_minor": 2
}
