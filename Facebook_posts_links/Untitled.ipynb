{
 "cells": [
  {
   "cell_type": "code",
   "execution_count": 12,
   "metadata": {},
   "outputs": [],
   "source": [
    "import os             \n",
    "import pickle                       \n",
    "with open(\"current_data.pkl\", \"rb\") as file:\n",
    "    current_data = pickle.load(file)\n",
    "cd = []\n",
    "for i in current_data:\n",
    "    if not current_data[i] in cd:\n",
    "        cd += current_data[i]"
   ]
  },
  {
   "cell_type": "code",
   "execution_count": 19,
   "metadata": {},
   "outputs": [
    {
     "name": "stdout",
     "output_type": "stream",
     "text": [
      "https://web.facebook.com/asif.mahmood.1671/posts/2237572433031199?comment_tracking=%7B%22tn%22%3A%22O%22%7D\n",
      "https://web.facebook.com/asif.mahmood.1671/posts/2237572433031199?comment_id=2237756199679489&comment_tracking=%7B%22tn%22%3A%22R%22%7D\n",
      "https://web.facebook.com/asif.mahmood.1671/posts/2237572433031199?comment_id=2237777666344009&comment_tracking=%7B%22tn%22%3A%22R%22%7D\n",
      "https://web.facebook.com/asif.mahmood.1671/posts/2237572433031199?comment_id=2238631086258667&comment_tracking=%7B%22tn%22%3A%22R%22%7D\n",
      "https://web.facebook.com/asif.mahmood.1671/posts/2237572433031199?comment_id=2238716849583424&comment_tracking=%7B%22tn%22%3A%22R%22%7D\n"
     ]
    }
   ],
   "source": [
    "c = 0\n",
    "for i in cd:\n",
    "    if cd[0][:cd[0].index(\"?\")] in i:\n",
    "        print(i)"
   ]
  },
  {
   "cell_type": "code",
   "execution_count": 18,
   "metadata": {},
   "outputs": [
    {
     "data": {
      "text/plain": [
       "['https://web.facebook.com/asif.mahmood.1671/posts/2237572433031199?comment_tracking=%7B%22tn%22%3A%22O%22%7D',\n",
       " 'https://web.facebook.com/asif.mahmood.1671/posts/2237572433031199?comment_id=2237756199679489&comment_tracking=%7B%22tn%22%3A%22R%22%7D',\n",
       " 'https://web.facebook.com/asif.mahmood.1671/posts/2237572433031199?comment_id=2237777666344009&comment_tracking=%7B%22tn%22%3A%22R%22%7D',\n",
       " 'https://web.facebook.com/asif.mahmood.1671/posts/2237572433031199?comment_id=2238631086258667&comment_tracking=%7B%22tn%22%3A%22R%22%7D',\n",
       " 'https://web.facebook.com/asif.mahmood.1671/posts/2237572433031199?comment_id=2238716849583424&comment_tracking=%7B%22tn%22%3A%22R%22%7D',\n",
       " 'https://web.facebook.com/asif.mahmood.1671/posts/2237489113039531?comment_tracking=%7B%22tn%22%3A%22O%22%7D',\n",
       " 'https://web.facebook.com/asif.mahmood.1671/posts/2237489113039531?comment_id=2237523033036139&comment_tracking=%7B%22tn%22%3A%22R%22%7D',\n",
       " 'https://web.facebook.com/asif.mahmood.1671/posts/2237489113039531?comment_id=2237564649698644&comment_tracking=%7B%22tn%22%3A%22R%22%7D',\n",
       " 'https://web.facebook.com/asif.mahmood.1671/posts/2237489113039531?comment_id=2237714926350283&comment_tracking=%7B%22tn%22%3A%22R%22%7D',\n",
       " 'https://web.facebook.com/asif.mahmood.1671/posts/2237489113039531?comment_id=2238009356320840&comment_tracking=%7B%22tn%22%3A%22R%22%7D',\n",
       " 'https://web.facebook.com/zahid.mughal.5895/posts/2359041790855882?comment_tracking=%7B%22tn%22%3A%22O%22%7D',\n",
       " 'https://web.facebook.com/zahid.mughal.5895/posts/2359041790855882?comment_id=2359195254173869&comment_tracking=%7B%22tn%22%3A%22R%22%7D',\n",
       " 'https://web.facebook.com/zahid.mughal.5895/posts/2359041790855882?comment_id=2359221637504564&comment_tracking=%7B%22tn%22%3A%22R%22%7D',\n",
       " 'https://web.facebook.com/zahid.mughal.5895/posts/2359041790855882?comment_id=2359319167494811&comment_tracking=%7B%22tn%22%3A%22R%22%7D',\n",
       " 'https://web.facebook.com/zahid.mughal.5895/posts/2359041790855882?comment_id=2359443600815701&comment_tracking=%7B%22tn%22%3A%22R%22%7D',\n",
       " 'https://web.facebook.com/mohammad.f.haris/posts/10157887911124903?comment_tracking=%7B%22tn%22%3A%22O%22%7D',\n",
       " 'https://web.facebook.com/mohammad.f.haris/posts/10157887911124903?comment_id=10157889095354903&comment_tracking=%7B%22tn%22%3A%22R%22%7D',\n",
       " 'https://web.facebook.com/mohammad.f.haris/posts/10157887911124903?comment_id=10157889106334903&comment_tracking=%7B%22tn%22%3A%22R%22%7D',\n",
       " 'https://web.facebook.com/mohammad.f.haris/posts/10157887911124903?comment_id=10157889120904903&comment_tracking=%7B%22tn%22%3A%22R%22%7D',\n",
       " 'https://web.facebook.com/mohammad.f.haris/posts/10157887911124903?comment_id=10157889144844903&comment_tracking=%7B%22tn%22%3A%22R%22%7D',\n",
       " 'https://web.facebook.com/mohammad.f.haris/posts/10157886683634903?comment_id=10157887270949903&comment_tracking=%7B%22tn%22%3A%22R%22%7D',\n",
       " 'https://web.facebook.com/mohammad.f.haris/posts/10157886683634903?comment_id=10157887754619903&comment_tracking=%7B%22tn%22%3A%22R%22%7D',\n",
       " 'https://web.facebook.com/mohammad.f.haris/posts/10157886683634903?comment_id=10157887882889903&comment_tracking=%7B%22tn%22%3A%22R%22%7D',\n",
       " 'https://web.facebook.com/mohammad.f.haris/posts/10157886683634903?comment_id=10157888056974903&comment_tracking=%7B%22tn%22%3A%22R%22%7D',\n",
       " 'https://web.facebook.com/hm.zubair.52/posts/2834500376579709?comment_id=2849537521742661&comment_tracking=%7B%22tn%22%3A%22R%22%7D',\n",
       " 'https://web.facebook.com/abumaryam82/posts/10215119757814313?comment_tracking=%7B%22tn%22%3A%22O%22%7D',\n",
       " 'https://web.facebook.com/abumaryam82/posts/10215119757814313?comment_id=10215121816905789&comment_tracking=%7B%22tn%22%3A%22R%22%7D',\n",
       " 'https://web.facebook.com/abumaryam82/posts/10215118614785738?comment_tracking=%7B%22tn%22%3A%22O%22%7D',\n",
       " 'https://web.facebook.com/abumaryam82/posts/10215118614785738?comment_id=10215119992620183&comment_tracking=%7B%22tn%22%3A%22R%22%7D',\n",
       " 'https://web.facebook.com/abumaryam82/posts/10215118560584383?comment_tracking=%7B%22tn%22%3A%22O%22%7D',\n",
       " 'https://web.facebook.com/abumaryam82/posts/10215118560584383?comment_id=10215118655466755&comment_tracking=%7B%22tn%22%3A%22R%22%7D',\n",
       " 'https://web.facebook.com/abumaryam82/posts/10215118560584383?comment_id=10215118711908166&comment_tracking=%7B%22tn%22%3A%22R%22%7D',\n",
       " 'https://web.facebook.com/abumaryam82/posts/10215118560584383?comment_id=10215118830591133&comment_tracking=%7B%22tn%22%3A%22R%22%7D',\n",
       " 'https://web.facebook.com/abumaryam82/posts/10215118560584383?comment_id=10215118864391978&comment_tracking=%7B%22tn%22%3A%22R%22%7D',\n",
       " 'https://web.facebook.com/abumaryam82/posts/10215118494302726?comment_tracking=%7B%22tn%22%3A%22O%22%7D',\n",
       " 'https://web.facebook.com/abumaryam82/posts/10215118494302726?comment_id=10215118591705161&comment_tracking=%7B%22tn%22%3A%22R%22%7D',\n",
       " 'https://web.facebook.com/abumaryam82/posts/10215118494302726?comment_id=10215118632386178&comment_tracking=%7B%22tn%22%3A%22R%22%7D',\n",
       " 'https://web.facebook.com/abumaryam82/posts/10215118494302726?comment_id=10215118681627409&comment_tracking=%7B%22tn%22%3A%22R%22%7D',\n",
       " 'https://web.facebook.com/abumaryam82/posts/10215118494302726?comment_id=10215119002875440&comment_tracking=%7B%22tn%22%3A%22R%22%7D',\n",
       " 'https://web.facebook.com/abumaryam82/posts/10215117291552658?comment_tracking=%7B%22tn%22%3A%22O%22%7D',\n",
       " 'https://web.facebook.com/abumaryam82/posts/10215117291552658?comment_id=10215118221775913&comment_tracking=%7B%22tn%22%3A%22R%22%7D',\n",
       " 'https://web.facebook.com/munib.hussain86/posts/652459558586117?comment_tracking=%7B%22tn%22%3A%22O%22%7D',\n",
       " 'https://web.facebook.com/munib.hussain86/posts/652459558586117?comment_id=652462678585805&comment_tracking=%7B%22tn%22%3A%22R%22%7D',\n",
       " 'https://web.facebook.com/munib.hussain86/posts/652300505268689?comment_id=652355528596520&comment_tracking=%7B%22tn%22%3A%22R%22%7D',\n",
       " 'https://web.facebook.com/jameelbaloch1924/posts/464936054289686?comment_tracking=%7B%22tn%22%3A%22O%22%7D',\n",
       " 'https://web.facebook.com/jameelbaloch1924/posts/464936054289686?comment_id=464939537622671&comment_tracking=%7B%22tn%22%3A%22R%22%7D',\n",
       " 'https://web.facebook.com/jameelbaloch1924/posts/464936054289686?comment_id=464940214289270&comment_tracking=%7B%22tn%22%3A%22R%22%7D',\n",
       " 'https://web.facebook.com/jameelbaloch1924/posts/464936054289686?comment_id=464941030955855&comment_tracking=%7B%22tn%22%3A%22R%22%7D',\n",
       " 'https://web.facebook.com/jameelbaloch1924/posts/464936054289686?comment_id=464942064289085&comment_tracking=%7B%22tn%22%3A%22R%22%7D',\n",
       " 'https://web.facebook.com/jameelbaloch1924/posts/464795270970431?comment_tracking=%7B%22tn%22%3A%22O%22%7D',\n",
       " 'https://web.facebook.com/jameelbaloch1924/posts/464795270970431?comment_id=464834324299859&comment_tracking=%7B%22tn%22%3A%22R%22%7D',\n",
       " 'https://web.facebook.com/jameelbaloch1924/posts/464795270970431?comment_id=464851870964771&comment_tracking=%7B%22tn%22%3A%22R%22%7D',\n",
       " 'https://web.facebook.com/jameelbaloch1924/posts/464795270970431?comment_id=464937024289589&comment_tracking=%7B%22tn%22%3A%22R%22%7D',\n",
       " 'https://web.facebook.com/jameelbaloch1924/posts/464795270970431?comment_id=464942390955719&comment_tracking=%7B%22tn%22%3A%22R%22%7D',\n",
       " 'https://web.facebook.com/theguided1/posts/10211111525344490?comment_id=10211112422126909&comment_tracking=%7B%22tn%22%3A%22R%22%7D',\n",
       " 'https://web.facebook.com/theguided1/posts/10211111525344490?comment_id=10211113728799575&comment_tracking=%7B%22tn%22%3A%22R%22%7D',\n",
       " 'https://web.facebook.com/theguided1/posts/10211111436542270?comment_id=10211112439287338&comment_tracking=%7B%22tn%22%3A%22R%22%7D',\n",
       " 'https://web.facebook.com/theguided1/posts/10211111436542270?comment_id=10211112628692073&comment_tracking=%7B%22tn%22%3A%22R%22%7D',\n",
       " 'https://web.facebook.com/theguided1/posts/10211111436542270?comment_id=10211114045247486&comment_tracking=%7B%22tn%22%3A%22R%22%7D',\n",
       " 'https://web.facebook.com/abubakr.quddusi.3/posts/2470620129663963?comment_tracking=%7B%22tn%22%3A%22O%22%7D',\n",
       " 'https://web.facebook.com/abubakr.quddusi.3/posts/2470620129663963?comment_id=2471243129601663&comment_tracking=%7B%22tn%22%3A%22R%22%7D',\n",
       " 'https://web.facebook.com/abubakr.quddusi.3/posts/2470620129663963?comment_id=2471311852928124&comment_tracking=%7B%22tn%22%3A%22R%22%7D',\n",
       " 'https://web.facebook.com/abubakr.quddusi.3/posts/2470620129663963?comment_id=2471349412924368&comment_tracking=%7B%22tn%22%3A%22R%22%7D',\n",
       " 'https://web.facebook.com/abubakr.quddusi.3/posts/2470620129663963?comment_id=2471350846257558&comment_tracking=%7B%22tn%22%3A%22R%22%7D',\n",
       " 'https://web.facebook.com/abubakr.quddusi.3/posts/2470401516352491?comment_tracking=%7B%22tn%22%3A%22O%22%7D',\n",
       " 'https://web.facebook.com/abubakr.quddusi.3/posts/2470401516352491?comment_id=2470520993007210&comment_tracking=%7B%22tn%22%3A%22R%22%7D',\n",
       " 'https://web.facebook.com/abubakr.quddusi.3/posts/2470401516352491?comment_id=2470529866339656&comment_tracking=%7B%22tn%22%3A%22R%22%7D',\n",
       " 'https://web.facebook.com/abubakr.quddusi.3/posts/2470401516352491?comment_id=2470771522982157&comment_tracking=%7B%22tn%22%3A%22R%22%7D',\n",
       " 'https://web.facebook.com/abubakr.quddusi.3/posts/2470401516352491?comment_id=2471044216288221&comment_tracking=%7B%22tn%22%3A%22R%22%7D',\n",
       " 'https://web.facebook.com/Riayat.Farooqui/posts/2590048771019102?comment_tracking=%7B%22tn%22%3A%22O%22%7D',\n",
       " 'https://web.facebook.com/Riayat.Farooqui/posts/2590048771019102?comment_id=2590400834317229&comment_tracking=%7B%22tn%22%3A%22R%22%7D',\n",
       " 'https://web.facebook.com/Riayat.Farooqui/posts/2590048771019102?comment_id=2590435997647046&comment_tracking=%7B%22tn%22%3A%22R%22%7D',\n",
       " 'https://web.facebook.com/Riayat.Farooqui/posts/2590048771019102?comment_id=2590668784290434&comment_tracking=%7B%22tn%22%3A%22R%22%7D',\n",
       " 'https://web.facebook.com/Riayat.Farooqui/posts/2590048771019102?comment_id=2590873284269984&comment_tracking=%7B%22tn%22%3A%22R%22%7D',\n",
       " 'https://web.facebook.com/Riayat.Farooqui/posts/2589368834420429?comment_id=2589838054373507&comment_tracking=%7B%22tn%22%3A%22R%22%7D',\n",
       " 'https://web.facebook.com/asim.allahbakhsh/posts/2306356229401044?comment_id=2309804805722853&comment_tracking=%7B%22tn%22%3A%22R%22%7D',\n",
       " 'https://web.facebook.com/sohaib.naseem.3/posts/2137828663011996?comment_tracking=%7B%22tn%22%3A%22O%22%7D',\n",
       " 'https://web.facebook.com/sohaib.naseem.3/posts/2137828663011996?comment_id=2137843023010560&comment_tracking=%7B%22tn%22%3A%22R%22%7D',\n",
       " 'https://web.facebook.com/sohaib.naseem.3/posts/2137828663011996?comment_id=2137921463002716&comment_tracking=%7B%22tn%22%3A%22R%22%7D',\n",
       " 'https://web.facebook.com/idreesazaad/posts/10215183237161154?comment_tracking=%7B%22tn%22%3A%22O%22%7D',\n",
       " 'https://web.facebook.com/idreesazaad/posts/10215183237161154?comment_id=10215183327043401&comment_tracking=%7B%22tn%22%3A%22R%22%7D',\n",
       " 'https://web.facebook.com/idreesazaad/posts/10215180356089129?comment_tracking=%7B%22tn%22%3A%22O%22%7D',\n",
       " 'https://web.facebook.com/idreesazaad/posts/10215180356089129?comment_id=10215180445291359&comment_tracking=%7B%22tn%22%3A%22R%22%7D',\n",
       " 'https://web.facebook.com/idreesazaad/posts/10215180356089129?comment_id=10215180459731720&comment_tracking=%7B%22tn%22%3A%22R%22%7D',\n",
       " 'https://web.facebook.com/idreesazaad/posts/10215180356089129?comment_id=10215180506652893&comment_tracking=%7B%22tn%22%3A%22R%22%7D',\n",
       " 'https://web.facebook.com/idreesazaad/posts/10215180356089129?comment_id=10215180656536640&comment_tracking=%7B%22tn%22%3A%22R%22%7D']"
      ]
     },
     "execution_count": 18,
     "metadata": {},
     "output_type": "execute_result"
    }
   ],
   "source": [
    "cd"
   ]
  },
  {
   "cell_type": "code",
   "execution_count": null,
   "metadata": {},
   "outputs": [],
   "source": []
  }
 ],
 "metadata": {
  "kernelspec": {
   "display_name": "Python 3",
   "language": "python",
   "name": "python3"
  },
  "language_info": {
   "codemirror_mode": {
    "name": "ipython",
    "version": 3
   },
   "file_extension": ".py",
   "mimetype": "text/x-python",
   "name": "python",
   "nbconvert_exporter": "python",
   "pygments_lexer": "ipython3",
   "version": "3.6.8"
  }
 },
 "nbformat": 4,
 "nbformat_minor": 2
}
