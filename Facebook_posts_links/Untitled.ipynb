{
 "cells": [
  {
   "cell_type": "code",
   "execution_count": 6,
   "metadata": {},
   "outputs": [],
   "source": [
    "with open(\"current_data.pkl\", \"rb\") as file:\n",
    "    current_data = pickle.load(file)"
   ]
  },
  {
   "cell_type": "code",
   "execution_count": null,
   "metadata": {},
   "outputs": [],
   "source": [
    "with open(\"All_FB_links.pkl\", \"rb\") as file:\n",
    "    all_links = pickle.load(file)\n",
    "for k,v in link_dict.items():\n",
    "    if not k in all_links:\n",
    "        all_links[k] = v\n",
    "    else:\n",
    "        all_links[k] = list(set(all_links[k] + v))"
   ]
  },
  {
   "cell_type": "code",
   "execution_count": 1,
   "metadata": {},
   "outputs": [],
   "source": [
    "import pickle\n",
    "with open(\"All_FB_links.pkl\", \"rb\") as file:\n",
    "    all_links = pickle.load(file)"
   ]
  },
  {
   "cell_type": "code",
   "execution_count": 7,
   "metadata": {},
   "outputs": [],
   "source": [
    "import os\n",
    "for i in current_data.values():\n",
    "    for z in i[:1]:\n",
    "        os.system(\"firefox \"+  z)"
   ]
  },
  {
   "cell_type": "code",
   "execution_count": 14,
   "metadata": {},
   "outputs": [
    {
     "name": "stdout",
     "output_type": "stream",
     "text": [
      "0 7\n",
      "10 10\n",
      "5 5\n",
      "9 10\n",
      "0 10\n",
      "1 10\n",
      "16 3\n",
      "3 4\n",
      "10 5\n",
      "5 8\n",
      "10 10\n",
      "0 13\n",
      "6 10\n",
      "1 10\n",
      "3 8\n",
      "7 9\n"
     ]
    }
   ],
   "source": [
    "for c,al in zip(current_data, all_links):\n",
    "    print(len(current_data[c]), len(all_links[al]))"
   ]
  },
  {
   "cell_type": "code",
   "execution_count": null,
   "metadata": {},
   "outputs": [],
   "source": []
  }
 ],
 "metadata": {
  "kernelspec": {
   "display_name": "Python 3",
   "language": "python",
   "name": "python3"
  },
  "language_info": {
   "codemirror_mode": {
    "name": "ipython",
    "version": 3
   },
   "file_extension": ".py",
   "mimetype": "text/x-python",
   "name": "python",
   "nbconvert_exporter": "python",
   "pygments_lexer": "ipython3",
   "version": "3.6.8"
  }
 },
 "nbformat": 4,
 "nbformat_minor": 2
}
