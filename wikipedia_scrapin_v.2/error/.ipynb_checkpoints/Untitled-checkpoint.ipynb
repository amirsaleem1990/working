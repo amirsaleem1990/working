{
 "cells": [
  {
   "cell_type": "code",
   "execution_count": 3,
   "metadata": {},
   "outputs": [
    {
     "name": "stderr",
     "output_type": "stream",
     "text": [
      "/home/home/anaconda3/lib/python3.6/site-packages/bs4/__init__.py:181: UserWarning: No parser was explicitly specified, so I'm using the best available HTML parser for this system (\"lxml\"). This usually isn't a problem, but if you run this code on another system, or in a different virtual environment, it may use a different parser and behave differently.\n",
      "\n",
      "The code that caused this warning is on line 193 of the file /home/home/anaconda3/lib/python3.6/runpy.py. To get rid of this warning, change code that looks like this:\n",
      "\n",
      " BeautifulSoup(YOUR_MARKUP})\n",
      "\n",
      "to this:\n",
      "\n",
      " BeautifulSoup(YOUR_MARKUP, \"lxml\")\n",
      "\n",
      "  markup_type=markup_type))\n"
     ]
    }
   ],
   "source": [
    "import sys\n",
    "import wikipedia\n",
    "with open('exist_but_not_scraped_pakistan_3.txt', 'r') as file:\n",
    "    names = file.readlines()\n",
    "names = [i.strip() for i in names]\n",
    "\n",
    "\n",
    "error_dict = {}\n",
    "ok = []\n",
    "\n",
    "count = 0\n",
    "total = len(names)\n",
    "for i in names:\n",
    "    count += 1\n",
    "    print('Ho gay: |{}|\\t, Baqi hen: |{}|\\t{} %'.format(count, total - count, round((count/total), 2)))\n",
    "    try:\n",
    "        wikipedia.page(i)\n",
    "        ok.append(i)\n",
    "    except Exception as e:\n",
    "        exc_type, exc_obj, exc_tb = sys.exc_info()\n",
    "        if exc_type in error_dict:\n",
    "            error_dict[exc_type].append(i)\n",
    "        else:\n",
    "            error_dict[exc_type] = [i]"
   ]
  },
  {
   "cell_type": "code",
   "execution_count": 4,
   "metadata": {},
   "outputs": [
    {
     "data": {
      "text/plain": [
       "{wikipedia.exceptions.DisambiguationError: ['amir muhammad',\n",
       "  'arshad khan',\n",
       "  'arshad mehmood'],\n",
       " wikipedia.exceptions.PageError: ['abdul wasay',\n",
       "  'ahsan gulrez, ff',\n",
       "  'ahsan rafiq chauhdry, si(m), gd (p)',\n",
       "  'amer aslam khan, hi(m), t.bt, baloch (superseded)',\n",
       "  'anwar ul haq chaudhry, hi(m), engrs (superseded)']}"
      ]
     },
     "execution_count": 4,
     "metadata": {},
     "output_type": "execute_result"
    }
   ],
   "source": [
    "error_dict"
   ]
  },
  {
   "cell_type": "code",
   "execution_count": 1,
   "metadata": {},
   "outputs": [
    {
     "data": {
      "text/plain": [
       "['abdul wasay',\n",
       " 'ahsan gulrez, ff',\n",
       " 'ahsan rafiq chauhdry, si(m), gd (p)',\n",
       " 'air marshal zaheer ahmad babar',\n",
       " 'amer aslam khan, hi(m), t.bt, baloch (superseded)',\n",
       " 'amir muhammad',\n",
       " 'anwar ul haq chaudhry, hi(m), engrs (superseded)',\n",
       " 'arshad khan',\n",
       " 'arshad mehmood']"
      ]
     },
     "execution_count": 1,
     "metadata": {},
     "output_type": "execute_result"
    }
   ],
   "source": [
    "a = \"\"\"abdul wasay\n",
    "ahsan gulrez, ff\n",
    "ahsan rafiq chauhdry, si(m), gd (p)\n",
    "air marshal zaheer ahmad babar\n",
    "amer aslam khan, hi(m), t.bt, baloch (superseded)\n",
    "amir muhammad\n",
    "anwar ul haq chaudhry, hi(m), engrs (superseded)\n",
    "arshad khan\n",
    "arshad mehmood\n",
    "\"\"\".splitlines()\n",
    "a"
   ]
  },
  {
   "cell_type": "code",
   "execution_count": null,
   "metadata": {},
   "outputs": [],
   "source": []
  }
 ],
 "metadata": {
  "kernelspec": {
   "display_name": "Python 3",
   "language": "python",
   "name": "python3"
  },
  "language_info": {
   "codemirror_mode": {
    "name": "ipython",
    "version": 3
   },
   "file_extension": ".py",
   "mimetype": "text/x-python",
   "name": "python",
   "nbconvert_exporter": "python",
   "pygments_lexer": "ipython3",
   "version": "3.6.4"
  }
 },
 "nbformat": 4,
 "nbformat_minor": 2
}
