{
 "cells": [
  {
   "cell_type": "code",
   "execution_count": 28,
   "id": "61b4ab5c-d853-44db-a53d-d5e3bc2c45d2",
   "metadata": {},
   "outputs": [
    {
     "name": "stderr",
     "output_type": "stream",
     "text": [
      "<ipython-input-28-89ca3acc2810>:5: FutureWarning: The default value of regex will change from True to False in a future version.\n",
      "  df['file_without_extention'] = df.file_name.str.replace(\".csv\", \"\").str.replace(\".pkl\", \"\")\n"
     ]
    },
    {
     "data": {
      "text/html": [
       "<div>\n",
       "<style scoped>\n",
       "    .dataframe tbody tr th:only-of-type {\n",
       "        vertical-align: middle;\n",
       "    }\n",
       "\n",
       "    .dataframe tbody tr th {\n",
       "        vertical-align: top;\n",
       "    }\n",
       "\n",
       "    .dataframe thead th {\n",
       "        text-align: right;\n",
       "    }\n",
       "</style>\n",
       "<table border=\"1\" class=\"dataframe\">\n",
       "  <thead>\n",
       "    <tr style=\"text-align: right;\">\n",
       "      <th></th>\n",
       "      <th>file_name</th>\n",
       "      <th>row</th>\n",
       "      <th>cols</th>\n",
       "      <th>size</th>\n",
       "      <th>time</th>\n",
       "      <th>extention</th>\n",
       "      <th>action</th>\n",
       "      <th>file_without_extention</th>\n",
       "    </tr>\n",
       "  </thead>\n",
       "  <tbody>\n",
       "    <tr>\n",
       "      <th>0</th>\n",
       "      <td>recoveries2021100120211031.csv</td>\n",
       "      <td>684251</td>\n",
       "      <td>4</td>\n",
       "      <td>21896160</td>\n",
       "      <td>0.141031</td>\n",
       "      <td>csv</td>\n",
       "      <td>load</td>\n",
       "      <td>recoveries2021100120211031</td>\n",
       "    </tr>\n",
       "    <tr>\n",
       "      <th>1</th>\n",
       "      <td>recoveries2021100120211031</td>\n",
       "      <td>684251</td>\n",
       "      <td>4</td>\n",
       "      <td>21896160</td>\n",
       "      <td>25.956399</td>\n",
       "      <td>db</td>\n",
       "      <td>dump</td>\n",
       "      <td>recoveries2021100120211031</td>\n",
       "    </tr>\n",
       "    <tr>\n",
       "      <th>2</th>\n",
       "      <td>recoveries2021110120211130.csv</td>\n",
       "      <td>679515</td>\n",
       "      <td>4</td>\n",
       "      <td>21744608</td>\n",
       "      <td>0.149677</td>\n",
       "      <td>csv</td>\n",
       "      <td>load</td>\n",
       "      <td>recoveries2021110120211130</td>\n",
       "    </tr>\n",
       "    <tr>\n",
       "      <th>3</th>\n",
       "      <td>recoveries2021110120211130</td>\n",
       "      <td>679515</td>\n",
       "      <td>4</td>\n",
       "      <td>21744608</td>\n",
       "      <td>41.676443</td>\n",
       "      <td>db</td>\n",
       "      <td>dump</td>\n",
       "      <td>recoveries2021110120211130</td>\n",
       "    </tr>\n",
       "    <tr>\n",
       "      <th>4</th>\n",
       "      <td>recoveries2021120120211231.csv</td>\n",
       "      <td>664161</td>\n",
       "      <td>4</td>\n",
       "      <td>21253280</td>\n",
       "      <td>0.133002</td>\n",
       "      <td>csv</td>\n",
       "      <td>load</td>\n",
       "      <td>recoveries2021120120211231</td>\n",
       "    </tr>\n",
       "  </tbody>\n",
       "</table>\n",
       "</div>"
      ],
      "text/plain": [
       "                        file_name     row  cols      size       time  \\\n",
       "0  recoveries2021100120211031.csv  684251     4  21896160   0.141031   \n",
       "1      recoveries2021100120211031  684251     4  21896160  25.956399   \n",
       "2  recoveries2021110120211130.csv  679515     4  21744608   0.149677   \n",
       "3      recoveries2021110120211130  679515     4  21744608  41.676443   \n",
       "4  recoveries2021120120211231.csv  664161     4  21253280   0.133002   \n",
       "\n",
       "  extention action      file_without_extention  \n",
       "0       csv   load  recoveries2021100120211031  \n",
       "1        db   dump  recoveries2021100120211031  \n",
       "2       csv   load  recoveries2021110120211130  \n",
       "3        db   dump  recoveries2021110120211130  \n",
       "4       csv   load  recoveries2021120120211231  "
      ]
     },
     "execution_count": 28,
     "metadata": {},
     "output_type": "execute_result"
    }
   ],
   "source": [
    "import pickle\n",
    "import pandas as pd\n",
    "summary_lst = pickle.load(open(\"summary.pkl\", 'rb'))\n",
    "df = pd.DataFrame(summary_lst, columns=[\"file_name\", \"row\", \"cols\", \"size\", \"time\", \"extention\", \"action\"])\n",
    "df['file_without_extention'] = df.file_name.str.replace(\".csv\", \"\").str.replace(\".pkl\", \"\")\n",
    "df.head()"
   ]
  },
  {
   "cell_type": "code",
   "execution_count": 29,
   "id": "205a7a7a-82a9-4078-9754-34f73507da80",
   "metadata": {},
   "outputs": [],
   "source": [
    "g = df.groupby(\"file_without_extention\")\n",
    "group = list(g)[0][1]"
   ]
  },
  {
   "cell_type": "code",
   "execution_count": null,
   "id": "40a71ce7-c57b-4fde-b9ae-1b41b86a116a",
   "metadata": {},
   "outputs": [],
   "source": []
  },
  {
   "cell_type": "code",
   "execution_count": null,
   "id": "3733e361-6746-48ba-be61-6bc3338ee88d",
   "metadata": {},
   "outputs": [],
   "source": []
  }
 ],
 "metadata": {
  "kernelspec": {
   "display_name": "Python 3",
   "language": "python",
   "name": "python3"
  },
  "language_info": {
   "codemirror_mode": {
    "name": "ipython",
    "version": 3
   },
   "file_extension": ".py",
   "mimetype": "text/x-python",
   "name": "python",
   "nbconvert_exporter": "python",
   "pygments_lexer": "ipython3",
   "version": "3.8.10"
  }
 },
 "nbformat": 4,
 "nbformat_minor": 5
}
