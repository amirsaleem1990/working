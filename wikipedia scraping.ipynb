{
 "cells": [
  {
   "cell_type": "code",
   "execution_count": 126,
   "metadata": {},
   "outputs": [],
   "source": [
    "import wikipedia\n",
    "def wiki_data(name):\n",
    "    wiki = wikipedia.page(name)\n",
    "    return wiki\n",
    "data = wiki_data(\"nawaz shareef\")"
   ]
  },
  {
   "cell_type": "code",
   "execution_count": 47,
   "metadata": {},
   "outputs": [
    {
     "data": {
      "text/plain": [
       "0"
      ]
     },
     "execution_count": 47,
     "metadata": {},
     "output_type": "execute_result"
    }
   ],
   "source": [
    "# open webpage in wikipedia\n",
    "import os\n",
    "os.system('firefox {}'.format(data.url))"
   ]
  },
  {
   "cell_type": "code",
   "execution_count": 298,
   "metadata": {},
   "outputs": [],
   "source": [
    "import requests\n",
    "from bs4 import BeautifulSoup\n",
    "url = 'https://en.wikipedia.org/wiki/Nawaz_Sharif'\n",
    "r  = requests.get(url)\n",
    "if r.status_code == 200:\n",
    "    html = r.text\n",
    "    soup = BeautifulSoup(html, 'lxml')"
   ]
  },
  {
   "cell_type": "markdown",
   "metadata": {},
   "source": [
    "a = soup.select('.mw-body-content > mw-parser-output')\n",
    "for i in soup.select('.mw-body-content > .mw-content-ltr > .mw-parser-output'):\n",
    "    pass"
   ]
  },
  {
   "cell_type": "markdown",
   "metadata": {},
   "source": [
    "for i in soup.find(\"table\", { \"class\" : \"infobox vcard\" }).text.split('\\n'):\n",
    "    print(i)"
   ]
  },
  {
   "cell_type": "code",
   "execution_count": 454,
   "metadata": {},
   "outputs": [
    {
     "data": {
      "text/plain": [
       "<th colspan=\"2\" style=\"text-align:center;background:lavender\"><a href=\"/wiki/List_of_Prime_Ministers_of_Pakistan\" title=\"List of Prime Ministers of Pakistan\">12th, 14th and 20th</a> <a href=\"/wiki/Prime_Minister_of_Pakistan\" title=\"Prime Minister of Pakistan\">Prime Minister of Pakistan</a></th>"
      ]
     },
     "execution_count": 454,
     "metadata": {},
     "output_type": "execute_result"
    }
   ],
   "source": [
    "info = soup.find(\"table\", { \"class\" : \"infobox vcard\" }).select('tr > th')\n",
    "d = {}\n",
    "lst = []\n",
    "for i in range(len(info)):\n",
    "    if 'th' and 'td' in info[i]:\n",
    "        print(i)\n",
    "    else:\n",
    "        continue\n",
    "    try: a = info[i].select_one('th').text\n",
    "    except: pass\n",
    "    try: b = info[i].select_one('td').text\n",
    "    except: pass\n",
    "    if a and b:\n",
    "#         d[a.replace('\\n', '')] = a.replace('\\n', '')\n",
    "        lst.append((a, b))\n",
    "    else:continue\n",
    "m = dict(zip([i[0].replace('\\n', '').replace(' – ', '–') for i in lst], [i[1].replace('\\n', '').replace(' – ', '–') for i in lst]))\n"
   ]
  },
  {
   "cell_type": "code",
   "execution_count": 356,
   "metadata": {},
   "outputs": [
    {
     "data": {
      "text/plain": [
       "0"
      ]
     },
     "execution_count": 356,
     "metadata": {},
     "output_type": "execute_result"
    }
   ],
   "source": [
    "\n",
    "a = 'https://www.mediawiki.org/wiki/Special:MyLanguage/API:Parsing_wikitext#parse'\n",
    "a = 'https://en.wikipedia.org/wiki/Nawaz_Sharif'\n",
    "'api.php?action=parse&page=Project:Sandbox'\n",
    "os.system('firefox {}'.format(a))"
   ]
  },
  {
   "cell_type": "code",
   "execution_count": null,
   "metadata": {},
   "outputs": [],
   "source": []
  },
  {
   "cell_type": "code",
   "execution_count": null,
   "metadata": {},
   "outputs": [],
   "source": []
  },
  {
   "cell_type": "code",
   "execution_count": null,
   "metadata": {},
   "outputs": [],
   "source": []
  },
  {
   "cell_type": "code",
   "execution_count": null,
   "metadata": {},
   "outputs": [],
   "source": []
  },
  {
   "cell_type": "code",
   "execution_count": null,
   "metadata": {},
   "outputs": [],
   "source": []
  },
  {
   "cell_type": "code",
   "execution_count": null,
   "metadata": {},
   "outputs": [],
   "source": []
  },
  {
   "cell_type": "code",
   "execution_count": null,
   "metadata": {},
   "outputs": [],
   "source": []
  },
  {
   "cell_type": "code",
   "execution_count": null,
   "metadata": {},
   "outputs": [],
   "source": []
  },
  {
   "cell_type": "code",
   "execution_count": null,
   "metadata": {},
   "outputs": [],
   "source": []
  },
  {
   "cell_type": "code",
   "execution_count": null,
   "metadata": {},
   "outputs": [],
   "source": []
  }
 ],
 "metadata": {
  "kernelspec": {
   "display_name": "Python 3",
   "language": "python",
   "name": "python3"
  },
  "language_info": {
   "codemirror_mode": {
    "name": "ipython",
    "version": 3
   },
   "file_extension": ".py",
   "mimetype": "text/x-python",
   "name": "python",
   "nbconvert_exporter": "python",
   "pygments_lexer": "ipython3",
   "version": "3.6.4"
  }
 },
 "nbformat": 4,
 "nbformat_minor": 2
}
