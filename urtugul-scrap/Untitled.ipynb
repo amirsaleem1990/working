{
 "cells": [
  {
   "cell_type": "code",
   "execution_count": 2,
   "metadata": {},
   "outputs": [],
   "source": [
    "import requests\n",
    "import os\n",
    "from bs4 import BeautifulSoup\n",
    "import requests"
   ]
  },
  {
   "cell_type": "code",
   "execution_count": 4,
   "metadata": {},
   "outputs": [],
   "source": [
    "url = \"https://www.giveme5.co/season-two\"\n",
    "soup = BeautifulSoup(requests.get(url).text, \"lxml\")"
   ]
  },
  {
   "cell_type": "code",
   "execution_count": 19,
   "metadata": {},
   "outputs": [
    {
     "data": {
      "text/plain": [
       "<div class=\"style-jxbyvw1n\" id=\"comp-jerg98wn\" style=\"height:297px;display:table;min-width:10px;min-height:10px;top:;bottom:;left:;right:;width:937px;position:\"><iframe allowfullscreen=\"\" allowtransparency=\"true\" class=\"tpa-gallery-Masonry style-jxbyvw1niframe\" data-src=\"https://static.parastorage.com/services/wix-bolt/1.3184.0/node_modules/wix-santa/node_modules/santa-galleries/target/Masonry/Masonry.html?compId=comp-jerg98wn&amp;currency=PKR&amp;dateNumberFormat=en-us&amp;deviceType=desktop&amp;isPrimaryLanguage=true&amp;lang=en&amp;locale=en&amp;siteRevision=4682&amp;viewMode=site\" frameborder=\"0\" id=\"comp-jerg98wniframe\" scrolling=\"no\" style=\"height:297px;width:100%;position:relative;min-height:10px;min-width:10px\"></iframe></div>"
      ]
     },
     "execution_count": 19,
     "metadata": {},
     "output_type": "execute_result"
    }
   ],
   "source": [
    "soup.find(\"div\", {\"id\" : \"h51qsinlineContent-gridWrapper\"}).find(\"div\", {\"id\" : \"h51qsinlineContent-gridContainer\"}).\\\n",
    "    find(\"div\", {\"id\" : \"comp-jerg98wn\"})"
   ]
  },
  {
   "cell_type": "code",
   "execution_count": null,
   "metadata": {},
   "outputs": [],
   "source": []
  }
 ],
 "metadata": {
  "kernelspec": {
   "display_name": "Python 3",
   "language": "python",
   "name": "python3"
  },
  "language_info": {
   "codemirror_mode": {
    "name": "ipython",
    "version": 3
   },
   "file_extension": ".py",
   "mimetype": "text/x-python",
   "name": "python",
   "nbconvert_exporter": "python",
   "pygments_lexer": "ipython3",
   "version": "3.6.8"
  }
 },
 "nbformat": 4,
 "nbformat_minor": 2
}
