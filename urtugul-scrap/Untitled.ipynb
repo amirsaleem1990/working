{
 "cells": [
  {
   "cell_type": "code",
   "execution_count": 2,
   "metadata": {},
   "outputs": [],
   "source": [
    "import requests\n",
    "import os\n",
    "from bs4 import BeautifulSoup\n",
    "import requests"
   ]
  },
  {
   "cell_type": "code",
   "execution_count": 32,
   "metadata": {},
   "outputs": [],
   "source": [
    "url = \"https://www.giveme5.co/1-18\"\n",
    "soup = BeautifulSoup(requests.get(url).text, \"lxml\")"
   ]
  },
  {
   "cell_type": "code",
   "execution_count": 35,
   "metadata": {},
   "outputs": [],
   "source": [
    "a = soup.select(\"a\", {\"id\" : \"comp-jergf8eadataItem-jergf8et1link\"})"
   ]
  },
  {
   "cell_type": "code",
   "execution_count": 41,
   "metadata": {},
   "outputs": [
    {
     "name": "stdout",
     "output_type": "stream",
     "text": [
      "https://www.giveme5.co/epi-01\n",
      "https://www.giveme5.co/epi-02\n",
      "https://www.giveme5.co/epi-03\n",
      "https://www.giveme5.co/epi-04\n",
      "https://www.giveme5.co/epi-05\n",
      "https://www.giveme5.co/epi-06\n",
      "https://www.giveme5.co/epi-07\n",
      "https://www.giveme5.co/epi-08\n",
      "https://www.giveme5.co/epi-09\n",
      "https://www.giveme5.co/epi-10\n",
      "https://www.giveme5.co/epi-11\n",
      "https://www.giveme5.co/epi-12\n",
      "https://www.giveme5.co/epi-13\n",
      "https://www.giveme5.co/epi-14\n",
      "https://www.giveme5.co/epi-15\n",
      "https://www.giveme5.co/epi-16\n",
      "https://www.giveme5.co/epi-17\n",
      "https://www.giveme5.co/epi-18\n",
      "https://www.giveme5.co/epi-19\n",
      "https://www.giveme5.co/epi-20\n"
     ]
    }
   ],
   "source": [
    "for i in a:\n",
    "    try:\n",
    "        if \"https://www.giveme5.co/ep\" in i['href']:\n",
    "            print(i['href'])\n",
    "    except:\n",
    "        pass"
   ]
  },
  {
   "cell_type": "code",
   "execution_count": null,
   "metadata": {},
   "outputs": [],
   "source": []
  },
  {
   "cell_type": "code",
   "execution_count": null,
   "metadata": {},
   "outputs": [],
   "source": []
  }
 ],
 "metadata": {
  "kernelspec": {
   "display_name": "Python 3",
   "language": "python",
   "name": "python3"
  },
  "language_info": {
   "codemirror_mode": {
    "name": "ipython",
    "version": 3
   },
   "file_extension": ".py",
   "mimetype": "text/x-python",
   "name": "python",
   "nbconvert_exporter": "python",
   "pygments_lexer": "ipython3",
   "version": "3.6.8"
  }
 },
 "nbformat": 4,
 "nbformat_minor": 2
}
