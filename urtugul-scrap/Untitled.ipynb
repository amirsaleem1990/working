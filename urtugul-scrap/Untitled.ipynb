{
 "cells": [
  {
   "cell_type": "code",
   "execution_count": 2,
   "metadata": {},
   "outputs": [],
   "source": [
    "import requests\n",
    "import os\n",
    "from bs4 import BeautifulSoup\n",
    "import requests"
   ]
  },
  {
   "cell_type": "code",
   "execution_count": 4,
   "metadata": {},
   "outputs": [],
   "source": [
    "url = \"https://www.giveme5.co/season-two\"\n",
    "soup = BeautifulSoup(requests.get(url).text, \"lxml\")"
   ]
  },
  {
   "cell_type": "code",
   "execution_count": 20,
   "metadata": {},
   "outputs": [],
   "source": [
    "a = soup.find(\"div\", {\"id\" : \"h51qsinlineContent-gridWrapper\"}).find(\"div\", {\"id\" : \"h51qsinlineContent-gridContainer\"}).\\\n",
    "    find(\"div\", {\"id\" : \"comp-jerg98wn\"})"
   ]
  },
  {
   "cell_type": "code",
   "execution_count": 22,
   "metadata": {},
   "outputs": [],
   "source": [
    "a.find(\"iframe\", {\"id\" : \"comp-jerg98wniframe\"}).find(\"html\")"
   ]
  },
  {
   "cell_type": "code",
   "execution_count": 24,
   "metadata": {},
   "outputs": [],
   "source": [
    "b = BeautifulSoup(requests.get(\"https://static.parastorage.com/services/wix-bolt/1.3184.0/node_modules/wix-santa/node_modules/santa-galleries/target/Masonry/Masonry.html?compId=comp-jerg98wn&currency=PKR&dateNumberFormat=en-us&deviceType=desktop&isPrimaryLanguage=true&lang=en&locale=en&siteRevision=4682&viewMode=site&vsi=97107c0c-ec83-426e-85b9-9defa6e3dc8d\").text, \"lxml\")"
   ]
  },
  {
   "cell_type": "code",
   "execution_count": 30,
   "metadata": {},
   "outputs": [
    {
     "data": {
      "text/plain": [
       "<div class=\"grid\" id=\"viewport\"></div>"
      ]
     },
     "execution_count": 30,
     "metadata": {},
     "output_type": "execute_result"
    }
   ],
   "source": [
    "b.find(\"html\").find(\"div\", {\"id\" : \"viewport\"})"
   ]
  },
  {
   "cell_type": "code",
   "execution_count": 31,
   "metadata": {},
   "outputs": [
    {
     "data": {
      "text/plain": [
       "[]"
      ]
     },
     "execution_count": 31,
     "metadata": {},
     "output_type": "execute_result"
    }
   ],
   "source": [
    "a.select(\"div\", {\"class\" : \"overlay\"})"
   ]
  },
  {
   "cell_type": "code",
   "execution_count": null,
   "metadata": {},
   "outputs": [],
   "source": []
  }
 ],
 "metadata": {
  "kernelspec": {
   "display_name": "Python 3",
   "language": "python",
   "name": "python3"
  },
  "language_info": {
   "codemirror_mode": {
    "name": "ipython",
    "version": 3
   },
   "file_extension": ".py",
   "mimetype": "text/x-python",
   "name": "python",
   "nbconvert_exporter": "python",
   "pygments_lexer": "ipython3",
   "version": "3.6.8"
  }
 },
 "nbformat": 4,
 "nbformat_minor": 2
}
