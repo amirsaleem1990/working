{
 "cells": [
  {
   "cell_type": "code",
   "execution_count": 2,
   "metadata": {},
   "outputs": [],
   "source": [
    "import requests\n",
    "import os\n",
    "from bs4 import BeautifulSoup\n",
    "import requests"
   ]
  },
  {
   "cell_type": "code",
   "execution_count": 4,
   "metadata": {},
   "outputs": [],
   "source": [
    "url = \"https://www.giveme5.co/season-two\"\n",
    "soup = BeautifulSoup(requests.get(url).text, \"lxml\")"
   ]
  },
  {
   "cell_type": "code",
   "execution_count": 17,
   "metadata": {},
   "outputs": [
    {
     "data": {
      "text/plain": [
       "<div data-mesh-internal=\"true\" id=\"h51qsinlineContent-gridContainer\"><div class=\"txtNew\" data-packed=\"true\" id=\"comp-jerfgb3z\" style=\"top:;bottom:;left:;right:;width:377px;height:auto;position:;pointer-events:none\"><h2 class=\"font_2\"><span class=\"color_12\">DIRILIS Season TWO with Urdu Subtitles</span></h2></div><div class=\"hl3\" data-border-width=\"5px\" id=\"comp-jerfgb40\" style=\"transform-origin:center 2.5px;top:;bottom:;left:;right:;width:31px;height:5px;position:\"></div><div class=\"tpaw0\" data-has-iframe=\"true\" id=\"comp-jf0vawz0\" style=\"top:;bottom:;left:;right:;width:300px;height:250px;position:;overflow:hidden;visibility:hidden;min-height:250px;min-width:300px\"><iframe allow=\"autoplay; camera; microphone; geolocation; vr\" allowfullscreen=\"\" allowtransparency=\"true\" aria-label=\"Google AdSense\" class=\"tpaw0iframe\" data-src=\"https://adsense2.codev.wixapps.net/widget?cacheKiller=1564108857859&amp;compId=comp-jf0vawz0&amp;currency=PKR&amp;dateNumberFormat=en-us&amp;deviceType=desktop&amp;height=250&amp;instance=bYrkVr0hjyxFYwTk32-bYmxw4r7SO2D4CNVMRIWyy-c.eyJpbnN0YW5jZUlkIjoiMWQ0MDMwNzMtNjU1Zi00ODRlLWJhY2QtZmQ3YTllZjA1N2IyIiwiYXBwRGVmSWQiOiIxMmQ1ODMzZS1mMDYxLTdjYzgtNTEyMi1lMWQ0MDRmNmM4YWUiLCJtZXRhU2l0ZUlkIjoiNTdkYzNiMTEtNGZhNS00ZTg0LTgxMTYtZTUxNGRmNzY2ZDdlIiwic2lnbkRhdGUiOiIyMDE5LTA3LTI2VDA2OjM5OjIwLjYwNVoiLCJ1aWQiOm51bGwsImlwQW5kUG9ydCI6IjExOS4xNjAuNjUuMTMvMzQ2OTYiLCJ2ZW5kb3JQcm9kdWN0SWQiOm51bGwsImRlbW9Nb2RlIjpmYWxzZSwiYWlkIjoiMDJjYzBjMTgtZTllMi00NzRhLWI4NjktNjljZDI5MjMzYTE3IiwiYmlUb2tlbiI6IjRhOWMwYjYyLTJhZmEtMDZjYS0zYmRiLTE4NmU0MTg2M2FjYyIsInNpdGVPd25lcklkIjoiNzQyZmRmZDQtMmJiYy00ODI0LThkMTUtMWI2OTVhYTNhZWQwIn0&amp;isPrimaryLanguage=true&amp;lang=en&amp;locale=en&amp;pageId=h51qs&amp;siteRevision=4682&amp;viewMode=site&amp;width=300\" frameborder=\"0\" id=\"comp-jf0vawz0iframe\" name=\"comp-jf0vawz0\" scrolling=\"no\" style=\"width:300px;height:250px;min-height:250px;min-width:300px;display:block;position:absolute;z-index:\" title=\"Google AdSense\"></iframe><div class=\"tpaw0overlay\" id=\"comp-jf0vawz0overlay\"></div></div><div class=\"txtNew\" data-packed=\"true\" id=\"comp-jerfft9g\" style=\"top:;bottom:;left:;right:;width:928px;height:auto;position:;pointer-events:none\"><h5 class=\"font_5\"><span class=\"color_12\">SEASON TWO with Urdu Subtitles 720p</span></h5>\n",
       "<p class=\"font_8\" style=\"font-size:12px; line-height:1.5em;\"> </p>\n",
       "<p class=\"font_8\"><span class=\"color_12\">After Season ONE of Dirlis, We are proudly presenting Season 2 with Urdu Subtitles. The first season of Dirilis was on aired on Private channel Hum Sitaray with Urdu Dubbing. We cannot dub it but we are adding subtitles to the Season 2. After finishing with Templars Ertugrul is confronting with Mongols in the second Season. The second season is more thrilling than Season One. In this Season Kayi tribe has migrated to another Turk tribe Dodurga. Dodurga is the tribe of Hayma Mother's Brother Khushnud. We have changed some names of characters because of pronunciation. A lot of people of Kayi Tribe are martyred and a lot of swearing wounded. Deli Damir daughter has burned by the wild Mongols. The enemy of Ertugrul in this Season is the right man of Ogeday named Noyan. Noyan is a brave but cruel soldier of Ogeday. Ogeday is a son of Changez Khan. People of Kayi are now at the mercy of Dodurga Tribe people. Therefore they are like the brothers for them but there are some venomous people who want to capture Kayi tribe. Saedtin Kopek is also in this Season.</span></p>\n",
       "<p class=\"font_8\"> </p>\n",
       "<p class=\"font_8\"><span class=\"color_12\">Ertugrul and Halime have a son in the second season. Kayi soldiers are the best of all the tribes.  Everyone wants their son as Soldier of Kayi. Roshaan is also in a love with a girl. Babar still says that his love is his sword and his child is Horse. Kopek who is secretary of Sultan Allaudin. He is a very evil man. He wants to capture the Sultan Alaudin state. For his ambitions, he also works with enemies. He is the friend of Noyan who is against Turks and Muslim state. There are lot fighting scene in the Season 2 and some Emotional scenes are there which are very tearful</span></p>\n",
       "<p class=\"font_8\"> </p>\n",
       "<p class=\"font_8\"><span class=\"color_12\">Ertugrul is obviously on a mission to his holy path so everyone is now against him. Noone is understanding him  Ertugrul has become sometimes very disappointed by his loved ones. Guldarro is always against him and always thinking that he is right and Ertugrul is playing only crazy games. Ertugrul is in the prayer of Ibn ul Arbi and other white beard People for this holy struggle. This season is very thrilling and emotional.We recommend you to watch in URDU subtitles for enjoying with National language and also national feel.</span></p></div><div class=\"tpaw0\" data-has-iframe=\"true\" id=\"comp-jf0vdeb0\" style=\"top:;bottom:;left:;right:;width:300px;height:250px;position:;overflow:hidden;visibility:hidden;min-height:250px;min-width:300px\"><iframe allow=\"autoplay; camera; microphone; geolocation; vr\" allowfullscreen=\"\" allowtransparency=\"true\" aria-label=\"Google AdSense\" class=\"tpaw0iframe\" data-src=\"https://adsense2.codev.wixapps.net/widget?cacheKiller=1564108857859&amp;compId=comp-jf0vdeb0&amp;currency=PKR&amp;dateNumberFormat=en-us&amp;deviceType=desktop&amp;height=250&amp;instance=bYrkVr0hjyxFYwTk32-bYmxw4r7SO2D4CNVMRIWyy-c.eyJpbnN0YW5jZUlkIjoiMWQ0MDMwNzMtNjU1Zi00ODRlLWJhY2QtZmQ3YTllZjA1N2IyIiwiYXBwRGVmSWQiOiIxMmQ1ODMzZS1mMDYxLTdjYzgtNTEyMi1lMWQ0MDRmNmM4YWUiLCJtZXRhU2l0ZUlkIjoiNTdkYzNiMTEtNGZhNS00ZTg0LTgxMTYtZTUxNGRmNzY2ZDdlIiwic2lnbkRhdGUiOiIyMDE5LTA3LTI2VDA2OjM5OjIwLjYwNVoiLCJ1aWQiOm51bGwsImlwQW5kUG9ydCI6IjExOS4xNjAuNjUuMTMvMzQ2OTYiLCJ2ZW5kb3JQcm9kdWN0SWQiOm51bGwsImRlbW9Nb2RlIjpmYWxzZSwiYWlkIjoiMDJjYzBjMTgtZTllMi00NzRhLWI4NjktNjljZDI5MjMzYTE3IiwiYmlUb2tlbiI6IjRhOWMwYjYyLTJhZmEtMDZjYS0zYmRiLTE4NmU0MTg2M2FjYyIsInNpdGVPd25lcklkIjoiNzQyZmRmZDQtMmJiYy00ODI0LThkMTUtMWI2OTVhYTNhZWQwIn0&amp;isPrimaryLanguage=true&amp;lang=en&amp;locale=en&amp;pageId=h51qs&amp;siteRevision=4682&amp;viewMode=site&amp;width=300\" frameborder=\"0\" id=\"comp-jf0vdeb0iframe\" name=\"comp-jf0vdeb0\" scrolling=\"no\" style=\"width:300px;height:250px;min-height:250px;min-width:300px;display:block;position:absolute;z-index:\" title=\"Google AdSense\"></iframe><div class=\"tpaw0overlay\" id=\"comp-jf0vdeb0overlay\"></div></div><div class=\"style-jxbyvw1n\" id=\"comp-jerg98wn\" style=\"height:297px;display:table;min-width:10px;min-height:10px;top:;bottom:;left:;right:;width:937px;position:\"><iframe allowfullscreen=\"\" allowtransparency=\"true\" class=\"tpa-gallery-Masonry style-jxbyvw1niframe\" data-src=\"https://static.parastorage.com/services/wix-bolt/1.3184.0/node_modules/wix-santa/node_modules/santa-galleries/target/Masonry/Masonry.html?compId=comp-jerg98wn&amp;currency=PKR&amp;dateNumberFormat=en-us&amp;deviceType=desktop&amp;isPrimaryLanguage=true&amp;lang=en&amp;locale=en&amp;siteRevision=4682&amp;viewMode=site\" frameborder=\"0\" id=\"comp-jerg98wniframe\" scrolling=\"no\" style=\"height:297px;width:100%;position:relative;min-height:10px;min-width:10px\"></iframe></div><div data-mesh-internal=\"true\" id=\"h51qsinlineContent-wedge-7\"></div></div>"
      ]
     },
     "execution_count": 17,
     "metadata": {},
     "output_type": "execute_result"
    }
   ],
   "source": [
    "soup.find(\"div\", {\"id\" : \"h51qsinlineContent-gridWrapper\"}).find(\"div\", {\"id\" : \"h51qsinlineContent-gridContainer\"})"
   ]
  },
  {
   "cell_type": "code",
   "execution_count": null,
   "metadata": {},
   "outputs": [],
   "source": []
  }
 ],
 "metadata": {
  "kernelspec": {
   "display_name": "Python 3",
   "language": "python",
   "name": "python3"
  },
  "language_info": {
   "codemirror_mode": {
    "name": "ipython",
    "version": 3
   },
   "file_extension": ".py",
   "mimetype": "text/x-python",
   "name": "python",
   "nbconvert_exporter": "python",
   "pygments_lexer": "ipython3",
   "version": "3.6.8"
  }
 },
 "nbformat": 4,
 "nbformat_minor": 2
}
